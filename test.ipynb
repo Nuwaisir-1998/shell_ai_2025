{
 "cells": [
  {
   "cell_type": "code",
   "execution_count": 8,
   "id": "af715155",
   "metadata": {},
   "outputs": [
    {
     "data": {
      "text/plain": [
       "{'test_hash': 'test_id'}"
      ]
     },
     "execution_count": 8,
     "metadata": {},
     "output_type": "execute_result"
    }
   ],
   "source": [
    "import json\n",
    "with open(\"./runs/tabm/map_run_key_to_num.json\", \"r\") as f:\n",
    "    m = json.load(f)\n",
    "m"
   ]
  },
  {
   "cell_type": "code",
   "execution_count": 2,
   "id": "1343eef5",
   "metadata": {},
   "outputs": [],
   "source": [
    "import json\n",
    "with open(\"/home/nuwaisir/Corridor/Contests/Shell_ai_2025/runs/tabm_cv/cv_run_142/params.json\", \"r\") as f:\n",
    "    params = json.load(f)"
   ]
  },
  {
   "cell_type": "code",
   "execution_count": 6,
   "id": "f2cf21fb",
   "metadata": {},
   "outputs": [
    {
     "data": {
      "text/plain": [
       "{'embedding_type': 'PeriodicEmbeddings',\n",
       " 'n_bins': 57,\n",
       " 'd_embedding': 16,\n",
       " 'n_blocks': 1,\n",
       " 'd_block': 992,\n",
       " 'arch_type': 'tabm-mini',\n",
       " 'lr': 0.000947937977119,\n",
       " 'weight_decay': 0.0003956466296072,\n",
       " 'share_training_batches': 'F',\n",
       " 'Target': 'BlendProperty2',\n",
       " 'Score': 97.66661145450882,\n",
       " 'k': 32,\n",
       " 'score': 96.95024737545988,\n",
       " 'target_col_name': 'BlendProperty2',\n",
       " 'seed': 45,\n",
       " 'n_splits': 5}"
      ]
     },
     "execution_count": 6,
     "metadata": {},
     "output_type": "execute_result"
    }
   ],
   "source": [
    "params"
   ]
  },
  {
   "cell_type": "code",
   "execution_count": null,
   "id": "100554e3",
   "metadata": {},
   "outputs": [],
   "source": []
  },
  {
   "cell_type": "code",
   "execution_count": null,
   "id": "45618dfd",
   "metadata": {},
   "outputs": [],
   "source": []
  }
 ],
 "metadata": {
  "kernelspec": {
   "display_name": "torch",
   "language": "python",
   "name": "python3"
  },
  "language_info": {
   "codemirror_mode": {
    "name": "ipython",
    "version": 3
   },
   "file_extension": ".py",
   "mimetype": "text/x-python",
   "name": "python",
   "nbconvert_exporter": "python",
   "pygments_lexer": "ipython3",
   "version": "3.13.5"
  }
 },
 "nbformat": 4,
 "nbformat_minor": 5
}
