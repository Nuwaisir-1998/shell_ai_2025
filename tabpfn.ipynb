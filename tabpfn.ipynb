{
 "cells": [
  {
   "cell_type": "code",
   "execution_count": 1,
   "id": "6818c727",
   "metadata": {},
   "outputs": [
    {
     "name": "stderr",
     "output_type": "stream",
     "text": [
      "0it [00:00, ?it/s]/home/nuwaisir/miniconda3/envs/shell_ai_2024_python_3.12/lib/python3.12/site-packages/sklearn/preprocessing/_data.py:3457: RuntimeWarning: overflow encountered in power\n",
      "  x_inv[~pos] = 1 - np.power(-(2 - lmbda) * x[~pos] + 1, 1 / (2 - lmbda))\n"
     ]
    },
    {
     "data": {
      "application/vnd.jupyter.widget-view+json": {
       "model_id": "7972da01afa44d82890c462180607fb2",
       "version_major": 2,
       "version_minor": 0
      },
      "text/plain": [
       "tabpfn-v2-regressor-wyl4o83o.ckpt:   0%|          | 0.00/23.2M [00:00<?, ?B/s]"
      ]
     },
     "metadata": {},
     "output_type": "display_data"
    },
    {
     "data": {
      "application/vnd.jupyter.widget-view+json": {
       "model_id": "4cd4100b754c4af089b20fd6f0b60446",
       "version_major": 2,
       "version_minor": 0
      },
      "text/plain": [
       "config.json:   0%|          | 0.00/37.0 [00:00<?, ?B/s]"
      ]
     },
     "metadata": {},
     "output_type": "display_data"
    },
    {
     "name": "stderr",
     "output_type": "stream",
     "text": [
      "/home/nuwaisir/miniconda3/envs/shell_ai_2024_python_3.12/lib/python3.12/site-packages/sklearn/preprocessing/_data.py:3457: RuntimeWarning: overflow encountered in power\n",
      "  x_inv[~pos] = 1 - np.power(-(2 - lmbda) * x[~pos] + 1, 1 / (2 - lmbda))\n",
      "INFO:tabpfn_extensions.post_hoc_ensembles.greedy_weighted_ensemble:Order of selections: [0, 4, 0, 0, 4, 0, 0, 4, 0, 0, 4, 0, 0, 4, 0, 0, 4, 0, 0, 0, 4, 0, 0, 4, 0]\n",
      "INFO:tabpfn_extensions.post_hoc_ensembles.greedy_weighted_ensemble:Val loss over iterations: [0.09354690457760213, 0.08880788835363305, 0.0868210868653599, 0.0868210868653599, 0.0868210868653599, 0.0868210868653599, 0.0868210868653599, 0.0868210868653599, 0.0868210868653599, 0.0868210868653599, 0.0868210868653599, 0.0868210868653599, 0.0868210868653599, 0.0868210868653599, 0.0868210868653599, 0.0868210868653599, 0.0868210868653599, 0.0868210868653599, 0.08681941785778964, 0.08681941785778964, 0.08681941785778964, 0.08681731847698444, 0.08681731847698444, 0.08681731847698444, 0.0868162144042166]\n",
      "INFO:tabpfn_extensions.post_hoc_ensembles.greedy_weighted_ensemble:Model losses: [0.0935469  0.10277082 0.11216659 0.1141253  0.11616713 0.118024\n",
      " 0.12290212 0.12432914 0.12651586 0.12697159 0.12982152 0.13136575\n",
      " 0.13507291 0.13655085 0.14984073 0.15444051 0.16056514 0.16117973\n",
      " 0.16136554 0.16434071 0.1681367  0.17178796 0.17241657 0.18182824\n",
      " 0.30599618]\n",
      "INFO:tabpfn_extensions.post_hoc_ensembles.greedy_weighted_ensemble:Best weights: [0.68 0.   0.   0.   0.32 0.   0.   0.   0.   0.   0.   0.   0.   0.\n",
      " 0.   0.   0.   0.   0.   0.   0.   0.   0.   0.   0.  ]\n",
      "0it [02:03, ?it/s]\n"
     ]
    },
    {
     "ename": "ValueError",
     "evalue": "X has 67 features, but ColumnTransformer is expecting 55 features as input.",
     "output_type": "error",
     "traceback": [
      "\u001b[0;31m---------------------------------------------------------------------------\u001b[0m",
      "\u001b[0;31mValueError\u001b[0m                                Traceback (most recent call last)",
      "Cell \u001b[0;32mIn[1], line 75\u001b[0m\n\u001b[1;32m     72\u001b[0m df_test_pred \u001b[38;5;241m=\u001b[39m pd\u001b[38;5;241m.\u001b[39mconcat([df_test, df_best], axis\u001b[38;5;241m=\u001b[39m\u001b[38;5;241m1\u001b[39m)\n\u001b[1;32m     74\u001b[0m target_col \u001b[38;5;241m=\u001b[39m \u001b[38;5;124m'\u001b[39m\u001b[38;5;124mBlendProperty3\u001b[39m\u001b[38;5;124m'\u001b[39m\n\u001b[0;32m---> 75\u001b[0m \u001b[43mapply_tabpfn_cv\u001b[49m\u001b[43m(\u001b[49m\u001b[43mdf_train\u001b[49m\u001b[43m,\u001b[49m\u001b[43m \u001b[49m\u001b[43mdf_test_pred\u001b[49m\u001b[43m,\u001b[49m\u001b[43m \u001b[49m\u001b[43mfeature_cols\u001b[49m\u001b[43m,\u001b[49m\u001b[43m \u001b[49m\u001b[43mtarget_col\u001b[49m\u001b[43m)\u001b[49m\n",
      "Cell \u001b[0;32mIn[1], line 43\u001b[0m, in \u001b[0;36mapply_tabpfn_cv\u001b[0;34m(df_train, df_test_pred, feature_cols, col_name, seed, n_splits)\u001b[0m\n\u001b[1;32m     40\u001b[0m train_fold \u001b[38;5;241m=\u001b[39m df_train\u001b[38;5;241m.\u001b[39miloc[train_idx]\n\u001b[1;32m     41\u001b[0m val_fold \u001b[38;5;241m=\u001b[39m df_train\u001b[38;5;241m.\u001b[39miloc[val_idx]\n\u001b[0;32m---> 43\u001b[0m score, val_preds, test_preds \u001b[38;5;241m=\u001b[39m \u001b[43mapply_tabpfn\u001b[49m\u001b[43m(\u001b[49m\u001b[43mtrain_fold\u001b[49m\u001b[43m,\u001b[49m\u001b[43m \u001b[49m\u001b[43mval_fold\u001b[49m\u001b[43m,\u001b[49m\u001b[43m \u001b[49m\u001b[43mdf_test_pred\u001b[49m\u001b[43m,\u001b[49m\u001b[43m \u001b[49m\u001b[43mfeature_cols\u001b[49m\u001b[43m,\u001b[49m\u001b[43m \u001b[49m\u001b[43mcol_name\u001b[49m\u001b[43m)\u001b[49m\n\u001b[1;32m     44\u001b[0m df_oof_preds\u001b[38;5;241m.\u001b[39mloc[df_train\u001b[38;5;241m.\u001b[39mindex[val_idx], col_name] \u001b[38;5;241m=\u001b[39m val_preds\n\u001b[1;32m     46\u001b[0m \u001b[38;5;28;01mif\u001b[39;00m test_preds_avg \u001b[38;5;129;01mis\u001b[39;00m \u001b[38;5;28;01mNone\u001b[39;00m:\n",
      "Cell \u001b[0;32mIn[1], line 15\u001b[0m, in \u001b[0;36mapply_tabpfn\u001b[0;34m(train_fold, val_fold, df_test_pred, feature_cols, col_name)\u001b[0m\n\u001b[1;32m     12\u001b[0m regressor \u001b[38;5;241m=\u001b[39m AutoTabPFNRegressor(max_time\u001b[38;5;241m=\u001b[39m\u001b[38;5;241m120\u001b[39m, device\u001b[38;5;241m=\u001b[39m\u001b[38;5;124m\"\u001b[39m\u001b[38;5;124mcuda\u001b[39m\u001b[38;5;124m\"\u001b[39m) \u001b[38;5;66;03m# 120 seconds tuning time\u001b[39;00m\n\u001b[1;32m     13\u001b[0m regressor\u001b[38;5;241m.\u001b[39mfit(train_fold[feature_cols], train_fold[col_name])\n\u001b[0;32m---> 15\u001b[0m \u001b[38;5;28mprint\u001b[39m(\u001b[43mregressor\u001b[49m\u001b[38;5;241;43m.\u001b[39;49m\u001b[43mpredict\u001b[49m\u001b[43m(\u001b[49m\u001b[43mdf_test_pred\u001b[49m\u001b[43m)\u001b[49m)\n",
      "File \u001b[0;32m~/miniconda3/envs/shell_ai_2024_python_3.12/lib/python3.12/site-packages/tabpfn_extensions/post_hoc_ensembles/sklearn_interface.py:333\u001b[0m, in \u001b[0;36mAutoTabPFNRegressor.predict\u001b[0;34m(self, X)\u001b[0m\n\u001b[1;32m    327\u001b[0m check_is_fitted(\u001b[38;5;28mself\u001b[39m)\n\u001b[1;32m    328\u001b[0m X \u001b[38;5;241m=\u001b[39m validate_data(\n\u001b[1;32m    329\u001b[0m     \u001b[38;5;28mself\u001b[39m,\n\u001b[1;32m    330\u001b[0m     X,\n\u001b[1;32m    331\u001b[0m     ensure_all_finite\u001b[38;5;241m=\u001b[39m\u001b[38;5;28;01mFalse\u001b[39;00m,\n\u001b[1;32m    332\u001b[0m )\n\u001b[0;32m--> 333\u001b[0m \u001b[38;5;28;01mreturn\u001b[39;00m \u001b[38;5;28;43mself\u001b[39;49m\u001b[38;5;241;43m.\u001b[39;49m\u001b[43mpredictor_\u001b[49m\u001b[38;5;241;43m.\u001b[39;49m\u001b[43mpredict\u001b[49m\u001b[43m(\u001b[49m\u001b[43mX\u001b[49m\u001b[43m)\u001b[49m\n",
      "File \u001b[0;32m~/miniconda3/envs/shell_ai_2024_python_3.12/lib/python3.12/site-packages/tabpfn_extensions/post_hoc_ensembles/pfn_phe.py:401\u001b[0m, in \u001b[0;36mAutoPostHocEnsemblePredictor.predict\u001b[0;34m(self, X)\u001b[0m\n\u001b[1;32m    398\u001b[0m \u001b[38;5;250m\u001b[39m\u001b[38;5;124;03m\"\"\"Predicts the target values for the given data.\"\"\"\u001b[39;00m\n\u001b[1;32m    399\u001b[0m X \u001b[38;5;241m=\u001b[39m check_array(X, ensure_all_finite\u001b[38;5;241m=\u001b[39m\u001b[38;5;124m\"\u001b[39m\u001b[38;5;124mallow-nan\u001b[39m\u001b[38;5;124m\"\u001b[39m, dtype\u001b[38;5;241m=\u001b[39m\u001b[38;5;28mobject\u001b[39m)\n\u001b[1;32m    400\u001b[0m X \u001b[38;5;241m=\u001b[39m check_array(\n\u001b[0;32m--> 401\u001b[0m     \u001b[38;5;28;43mself\u001b[39;49m\u001b[38;5;241;43m.\u001b[39;49m\u001b[43m_cat_encoder\u001b[49m\u001b[38;5;241;43m.\u001b[39;49m\u001b[43mtransform\u001b[49m\u001b[43m(\u001b[49m\u001b[43mX\u001b[49m\u001b[43m)\u001b[49m,\n\u001b[1;32m    402\u001b[0m     ensure_all_finite\u001b[38;5;241m=\u001b[39m\u001b[38;5;124m\"\u001b[39m\u001b[38;5;124mallow-nan\u001b[39m\u001b[38;5;124m\"\u001b[39m,\n\u001b[1;32m    403\u001b[0m     dtype\u001b[38;5;241m=\u001b[39m\u001b[38;5;124m\"\u001b[39m\u001b[38;5;124mnumeric\u001b[39m\u001b[38;5;124m\"\u001b[39m,\n\u001b[1;32m    404\u001b[0m )\n\u001b[1;32m    405\u001b[0m \u001b[38;5;28;01mif\u001b[39;00m \u001b[38;5;28mself\u001b[39m\u001b[38;5;241m.\u001b[39mtask_type \u001b[38;5;241m==\u001b[39m \u001b[38;5;124m\"\u001b[39m\u001b[38;5;124mregression\u001b[39m\u001b[38;5;124m\"\u001b[39m:\n\u001b[1;32m    406\u001b[0m     \u001b[38;5;28;01mreturn\u001b[39;00m \u001b[38;5;28mself\u001b[39m\u001b[38;5;241m.\u001b[39m_ens_model\u001b[38;5;241m.\u001b[39mpredict(X)\n",
      "File \u001b[0;32m~/miniconda3/envs/shell_ai_2024_python_3.12/lib/python3.12/site-packages/sklearn/utils/_set_output.py:319\u001b[0m, in \u001b[0;36m_wrap_method_output.<locals>.wrapped\u001b[0;34m(self, X, *args, **kwargs)\u001b[0m\n\u001b[1;32m    317\u001b[0m \u001b[38;5;129m@wraps\u001b[39m(f)\n\u001b[1;32m    318\u001b[0m \u001b[38;5;28;01mdef\u001b[39;00m \u001b[38;5;21mwrapped\u001b[39m(\u001b[38;5;28mself\u001b[39m, X, \u001b[38;5;241m*\u001b[39margs, \u001b[38;5;241m*\u001b[39m\u001b[38;5;241m*\u001b[39mkwargs):\n\u001b[0;32m--> 319\u001b[0m     data_to_wrap \u001b[38;5;241m=\u001b[39m \u001b[43mf\u001b[49m\u001b[43m(\u001b[49m\u001b[38;5;28;43mself\u001b[39;49m\u001b[43m,\u001b[49m\u001b[43m \u001b[49m\u001b[43mX\u001b[49m\u001b[43m,\u001b[49m\u001b[43m \u001b[49m\u001b[38;5;241;43m*\u001b[39;49m\u001b[43margs\u001b[49m\u001b[43m,\u001b[49m\u001b[43m \u001b[49m\u001b[38;5;241;43m*\u001b[39;49m\u001b[38;5;241;43m*\u001b[39;49m\u001b[43mkwargs\u001b[49m\u001b[43m)\u001b[49m\n\u001b[1;32m    320\u001b[0m     \u001b[38;5;28;01mif\u001b[39;00m \u001b[38;5;28misinstance\u001b[39m(data_to_wrap, \u001b[38;5;28mtuple\u001b[39m):\n\u001b[1;32m    321\u001b[0m         \u001b[38;5;66;03m# only wrap the first output for cross decomposition\u001b[39;00m\n\u001b[1;32m    322\u001b[0m         return_tuple \u001b[38;5;241m=\u001b[39m (\n\u001b[1;32m    323\u001b[0m             _wrap_data_with_container(method, data_to_wrap[\u001b[38;5;241m0\u001b[39m], X, \u001b[38;5;28mself\u001b[39m),\n\u001b[1;32m    324\u001b[0m             \u001b[38;5;241m*\u001b[39mdata_to_wrap[\u001b[38;5;241m1\u001b[39m:],\n\u001b[1;32m    325\u001b[0m         )\n",
      "File \u001b[0;32m~/miniconda3/envs/shell_ai_2024_python_3.12/lib/python3.12/site-packages/sklearn/compose/_column_transformer.py:1094\u001b[0m, in \u001b[0;36mColumnTransformer.transform\u001b[0;34m(self, X, **params)\u001b[0m\n\u001b[1;32m   1090\u001b[0m         \u001b[38;5;28;01mraise\u001b[39;00m \u001b[38;5;167;01mValueError\u001b[39;00m(\u001b[38;5;124mf\u001b[39m\u001b[38;5;124m\"\u001b[39m\u001b[38;5;124mcolumns are missing: \u001b[39m\u001b[38;5;132;01m{\u001b[39;00mdiff\u001b[38;5;132;01m}\u001b[39;00m\u001b[38;5;124m\"\u001b[39m)\n\u001b[1;32m   1091\u001b[0m \u001b[38;5;28;01melse\u001b[39;00m:\n\u001b[1;32m   1092\u001b[0m     \u001b[38;5;66;03m# ndarray was used for fitting or transforming, thus we only\u001b[39;00m\n\u001b[1;32m   1093\u001b[0m     \u001b[38;5;66;03m# check that n_features_in_ is consistent\u001b[39;00m\n\u001b[0;32m-> 1094\u001b[0m     \u001b[43m_check_n_features\u001b[49m\u001b[43m(\u001b[49m\u001b[38;5;28;43mself\u001b[39;49m\u001b[43m,\u001b[49m\u001b[43m \u001b[49m\u001b[43mX\u001b[49m\u001b[43m,\u001b[49m\u001b[43m \u001b[49m\u001b[43mreset\u001b[49m\u001b[38;5;241;43m=\u001b[39;49m\u001b[38;5;28;43;01mFalse\u001b[39;49;00m\u001b[43m)\u001b[49m\n\u001b[1;32m   1096\u001b[0m \u001b[38;5;28;01mif\u001b[39;00m _routing_enabled():\n\u001b[1;32m   1097\u001b[0m     routed_params \u001b[38;5;241m=\u001b[39m process_routing(\u001b[38;5;28mself\u001b[39m, \u001b[38;5;124m\"\u001b[39m\u001b[38;5;124mtransform\u001b[39m\u001b[38;5;124m\"\u001b[39m, \u001b[38;5;241m*\u001b[39m\u001b[38;5;241m*\u001b[39mparams)\n",
      "File \u001b[0;32m~/miniconda3/envs/shell_ai_2024_python_3.12/lib/python3.12/site-packages/sklearn/utils/validation.py:2832\u001b[0m, in \u001b[0;36m_check_n_features\u001b[0;34m(estimator, X, reset)\u001b[0m\n\u001b[1;32m   2829\u001b[0m     \u001b[38;5;28;01mreturn\u001b[39;00m\n\u001b[1;32m   2831\u001b[0m \u001b[38;5;28;01mif\u001b[39;00m n_features \u001b[38;5;241m!=\u001b[39m estimator\u001b[38;5;241m.\u001b[39mn_features_in_:\n\u001b[0;32m-> 2832\u001b[0m     \u001b[38;5;28;01mraise\u001b[39;00m \u001b[38;5;167;01mValueError\u001b[39;00m(\n\u001b[1;32m   2833\u001b[0m         \u001b[38;5;124mf\u001b[39m\u001b[38;5;124m\"\u001b[39m\u001b[38;5;124mX has \u001b[39m\u001b[38;5;132;01m{\u001b[39;00mn_features\u001b[38;5;132;01m}\u001b[39;00m\u001b[38;5;124m features, but \u001b[39m\u001b[38;5;132;01m{\u001b[39;00mestimator\u001b[38;5;241m.\u001b[39m\u001b[38;5;18m__class__\u001b[39m\u001b[38;5;241m.\u001b[39m\u001b[38;5;18m__name__\u001b[39m\u001b[38;5;132;01m}\u001b[39;00m\u001b[38;5;124m \u001b[39m\u001b[38;5;124m\"\u001b[39m\n\u001b[1;32m   2834\u001b[0m         \u001b[38;5;124mf\u001b[39m\u001b[38;5;124m\"\u001b[39m\u001b[38;5;124mis expecting \u001b[39m\u001b[38;5;132;01m{\u001b[39;00mestimator\u001b[38;5;241m.\u001b[39mn_features_in_\u001b[38;5;132;01m}\u001b[39;00m\u001b[38;5;124m features as input.\u001b[39m\u001b[38;5;124m\"\u001b[39m\n\u001b[1;32m   2835\u001b[0m     )\n",
      "\u001b[0;31mValueError\u001b[0m: X has 67 features, but ColumnTransformer is expecting 55 features as input."
     ]
    }
   ],
   "source": [
    "import os\n",
    "os.environ['SCIPY_ARRAY_API'] = '1'\n",
    "\n",
    "from tabpfn_extensions.post_hoc_ensembles.sklearn_interface import AutoTabPFNRegressor\n",
    "import pandas as pd\n",
    "import numpy as np\n",
    "from sklearn.model_selection import KFold\n",
    "from sklearn.metrics import mean_absolute_percentage_error\n",
    "from tqdm import tqdm\n",
    "\n",
    "def apply_tabpfn(train_fold, val_fold, df_test_pred, feature_cols, col_name):\n",
    "    regressor = AutoTabPFNRegressor(max_time=120, device=\"cuda\") # 120 seconds tuning time\n",
    "    regressor.fit(train_fold[feature_cols], train_fold[col_name])\n",
    "    \n",
    "    print(regressor.predict(df_test_pred))\n",
    "    \n",
    "\n",
    "# df_train = pd.read_csv('./dataset/train.csv')\n",
    "\n",
    "# train_features = df_train.columns[:55]\n",
    "# target_col = 'BlendProperty3'\n",
    "\n",
    "# X_train = \n",
    "\n",
    "# clf = AutoTabPFNRegressor(max_time=120, device=\"cuda\") # 120 seconds tuning time\n",
    "# clf.fit(X_train, y_train)\n",
    "# predictions = clf.predict(X_test)\n",
    "\n",
    "def apply_tabpfn_cv(df_train, df_test_pred, feature_cols, col_name, seed=42, n_splits=5):\n",
    "    \n",
    "    # n_splits = 5\n",
    "    \n",
    "    kf = KFold(n_splits=n_splits, shuffle=True, random_state=seed)\n",
    "    # col_name = f'BlendProperty{target_col - 55 + 1}'\n",
    "    df_oof_preds = df_train[[col_name]].copy()\n",
    "    \n",
    "    test_preds_avg = None\n",
    "    \n",
    "    for fold, (train_idx, val_idx) in tqdm(enumerate(kf.split(df_train))):\n",
    "        train_fold = df_train.iloc[train_idx]\n",
    "        val_fold = df_train.iloc[val_idx]\n",
    "        \n",
    "        score, val_preds, test_preds = apply_tabpfn(train_fold, val_fold, df_test_pred, feature_cols, col_name)\n",
    "        df_oof_preds.loc[df_train.index[val_idx], col_name] = val_preds\n",
    "        \n",
    "        if test_preds_avg is None:\n",
    "            test_preds_avg = test_preds\n",
    "        else:\n",
    "            test_preds_avg += test_preds\n",
    "    \n",
    "    test_preds_avg = test_preds_avg / n_splits\n",
    "    \n",
    "        # results_dir = f'./TabM/CV_b{target_col - 55 + 1}'\n",
    "        # os.makedirs(results_dir, exist_ok=True)\n",
    "        # np.save(f'{results_dir}/test_pred_fold_{fold}.npy', test_preds)\n",
    "    \n",
    "    mape = mean_absolute_percentage_error(df_train[col_name], df_oof_preds[col_name])\n",
    "    score = 100 - 90 * mape / 2.72\n",
    "    col_num = col_name[-1]\n",
    "    if col_num == '0':\n",
    "        col_num = 10\n",
    "    os.makedirs(f'./tabpfn/{col_name}', exist_ok=True)\n",
    "    np.save(f'./tabpfn/{col_name}/oof_b{col_num}_seed_{seed}_splits_{n_splits}_score_{score}.npy', df_oof_preds[col_name].values)\n",
    "    return score, test_preds_avg\n",
    "\n",
    "\n",
    "df_train = pd.read_csv('./dataset/train_small.csv')\n",
    "df_test = pd.read_csv('./dataset/test.csv')\n",
    "df_best = pd.read_csv('./submission_cur_best+tabm_b1234_10fold(cb)_93.92695.csv')\n",
    "\n",
    "feature_cols = df_train.columns[:55]\n",
    "df_test_pred = pd.concat([df_test, df_best], axis=1)\n",
    "\n",
    "target_col = 'BlendProperty3'\n",
    "apply_tabpfn_cv(df_train, df_test_pred, feature_cols, target_col)"
   ]
  },
  {
   "cell_type": "code",
   "execution_count": null,
   "id": "8a2f3f36",
   "metadata": {},
   "outputs": [],
   "source": []
  },
  {
   "cell_type": "code",
   "execution_count": null,
   "id": "dad004f9",
   "metadata": {},
   "outputs": [],
   "source": []
  },
  {
   "cell_type": "code",
   "execution_count": null,
   "id": "94ce2b28",
   "metadata": {},
   "outputs": [],
   "source": []
  },
  {
   "cell_type": "code",
   "execution_count": null,
   "id": "1ba6f0e2",
   "metadata": {},
   "outputs": [],
   "source": []
  }
 ],
 "metadata": {
  "kernelspec": {
   "display_name": "shell_ai_2024_python_3.12",
   "language": "python",
   "name": "python3"
  },
  "language_info": {
   "codemirror_mode": {
    "name": "ipython",
    "version": 3
   },
   "file_extension": ".py",
   "mimetype": "text/x-python",
   "name": "python",
   "nbconvert_exporter": "python",
   "pygments_lexer": "ipython3",
   "version": "3.12.4"
  }
 },
 "nbformat": 4,
 "nbformat_minor": 5
}
