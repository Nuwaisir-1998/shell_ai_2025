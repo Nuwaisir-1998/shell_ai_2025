{
 "cells": [
  {
   "cell_type": "code",
   "execution_count": 2,
   "id": "5190015f",
   "metadata": {},
   "outputs": [],
   "source": [
    "import pandas as pd\n",
    "import numpy as np"
   ]
  },
  {
   "cell_type": "code",
   "execution_count": 4,
   "id": "63305a82",
   "metadata": {},
   "outputs": [],
   "source": [
    "df_train = pd.read_csv('./dataset/train.csv')\n",
    "df_test = pd.read_csv('./dataset/test.csv')\n",
    "df_sample_solution = pd.read_csv('./dataset/sample_solution.csv')"
   ]
  },
  {
   "cell_type": "code",
   "execution_count": 7,
   "id": "c70c6518",
   "metadata": {},
   "outputs": [],
   "source": [
    "df_train.iloc[:20].to_csv('./dataset/train_small.csv')\n",
    "df_test.iloc[:20].to_csv('./dataset/test_small.csv')"
   ]
  }
 ],
 "metadata": {
  "kernelspec": {
   "display_name": "torch",
   "language": "python",
   "name": "python3"
  },
  "language_info": {
   "codemirror_mode": {
    "name": "ipython",
    "version": 3
   },
   "file_extension": ".py",
   "mimetype": "text/x-python",
   "name": "python",
   "nbconvert_exporter": "python",
   "pygments_lexer": "ipython3",
   "version": "3.13.5"
  }
 },
 "nbformat": 4,
 "nbformat_minor": 5
}
