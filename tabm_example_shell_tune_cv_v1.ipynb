{
  "cells": [
    {
      "cell_type": "markdown",
      "metadata": {
        "id": "omlfc7MhGjPP"
      },
      "source": [
        "<a target=\"_blank\" href=\"https://colab.research.google.com/github/yandex-research/tabm/blob/main/example.ipynb\">\n",
        "  <img src=\"https://colab.research.google.com/assets/colab-badge.svg\" alt=\"Open In Colab\"/>\n",
        "</a>\n",
        "\n",
        "# TabM\n",
        "\n",
        "This notebook provides a usage example of the `tabm` package from the\n",
        "[TabM](https://github.com/yandex-research/tabm) project."
      ]
    },
    {
      "cell_type": "code",
      "execution_count": 49,
      "metadata": {
        "id": "DUUv3HObGjPQ"
      },
      "outputs": [],
      "source": [
        "\n",
        "import math\n",
        "import random\n",
        "from copy import deepcopy\n",
        "from typing import Any, Literal, NamedTuple, Optional\n",
        "\n",
        "import numpy as np\n",
        "import rtdl_num_embeddings  # https://github.com/yandex-research/rtdl-num-embeddings\n",
        "import scipy.special\n",
        "import sklearn.datasets\n",
        "import sklearn.metrics\n",
        "import sklearn.model_selection\n",
        "import sklearn.preprocessing\n",
        "import tabm\n",
        "import torch\n",
        "import torch.nn as nn\n",
        "import torch.optim\n",
        "from torch import Tensor\n",
        "\n",
        "import numpy as np\n",
        "import pandas as pd\n",
        "from tqdm import tqdm\n",
        "import os\n",
        "from sklearn.model_selection import KFold\n",
        "\n",
        "import optuna\n",
        "from optuna.samplers import TPESampler\n",
        "from optuna.visualization import plot_contour\n",
        "from optuna.visualization import plot_edf\n",
        "from optuna.visualization import plot_intermediate_values\n",
        "from optuna.visualization import plot_optimization_history\n",
        "from optuna.visualization import plot_parallel_coordinate\n",
        "from optuna.visualization import plot_param_importances\n",
        "from optuna.visualization import plot_rank\n",
        "from optuna.visualization import plot_slice\n",
        "from optuna.visualization import plot_timeline\n",
        "\n",
        "from sklearn.metrics import mean_absolute_percentage_error"
      ]
    },
    {
      "cell_type": "code",
      "execution_count": 50,
      "metadata": {
        "id": "WnYyX4XkGjPR"
      },
      "outputs": [],
      "source": [
        "seed = 0\n",
        "random.seed(seed)\n",
        "np.random.seed(seed + 1)\n",
        "torch.manual_seed(seed + 2)\n",
        "pass"
      ]
    },
    {
      "cell_type": "markdown",
      "metadata": {},
      "source": [
        "# Dataset (Shell)"
      ]
    },
    {
      "cell_type": "code",
      "execution_count": 51,
      "metadata": {},
      "outputs": [],
      "source": [
        "df_train = pd.read_csv('./dataset/train.csv')\n",
        "df_test = pd.read_csv('./dataset/test.csv')\n",
        "df_submission = pd.read_csv('./dataset/sample_solution.csv')\n",
        "\n",
        "df_best = pd.read_csv('./Submissions_v3/sub_tabm_hpo_better_only (cur_best).csv')\n",
        "\n",
        "feature_cols = df_train.columns[:55]\n",
        "df_test_pred = pd.concat([df_test, df_best], axis=1)"
      ]
    },
    {
      "cell_type": "code",
      "execution_count": 52,
      "metadata": {},
      "outputs": [],
      "source": [
        "df_test_pred = df_test_pred.drop(columns=['ID'])"
      ]
    },
    {
      "cell_type": "code",
      "execution_count": null,
      "metadata": {},
      "outputs": [],
      "source": [
        "\n",
        "def apply_tabm_cv(trial, df_train, df_test_pred, feature_cols, target_col):\n",
        "    kf = KFold(n_splits=5, shuffle=True, random_state=42)\n",
        "    col_name = f'BlendProperty{target_col - 55 + 1}'\n",
        "    df_oof_preds = df_train[[col_name]].copy()\n",
        "    print(col_name)\n",
        "    for fold, (train_idx, val_idx) in enumerate(kf.split(df_train)):\n",
        "        train_fold = df_train.iloc[train_idx]\n",
        "        val_fold = df_train.iloc[val_idx]\n",
        "        \n",
        "        score, val_preds, test_preds = apply_tabm(trial, train_fold, val_fold, df_test_pred, feature_cols, target_col)\n",
        "        df_oof_preds.loc[df_train.index[val_idx], col_name] = val_preds\n",
        "    \n",
        "        # results_dir = f'./TabM/CV_b{target_col - 55 + 1}'\n",
        "        # os.makedirs(results_dir, exist_ok=True)\n",
        "        # np.save(f'{results_dir}/test_pred_fold_{fold}.npy', test_preds)\n",
        "    \n",
        "    mape = mean_absolute_percentage_error(df_train[col_name], df_oof_preds[col_name])\n",
        "    oof_score = 100 - 90 * mape / 2.72\n",
        "    os.makedirs(f'./Ensemble_tabm/BlendProperty{target_col-54}/oof', exist_ok=True)\n",
        "    np.save(f'./Ensemble_tabm/BlendProperty{target_col-54}/oof/oof_b{target_col-54}_trial_{trial.number}_{oof_score}.npy', df_oof_preds[col_name].values)\n",
        "    \n",
        "    return 100 - 90 * mape / 2.72\n",
        "        \n",
        "\n",
        "def apply_tabm(trial, df_train, df_val, df_test_pred, feature_cols, target_col):\n",
        "\n",
        "    # target_col: [55, 64]\n",
        "    \n",
        "    task_type = 'regression'\n",
        "    target_col_name = df_train.columns[target_col]\n",
        "    \n",
        "    X_train = df_train[feature_cols].values.astype(np.float32)\n",
        "    Y_train = df_train[target_col_name].values.astype(np.float32)\n",
        "    \n",
        "    X_val = df_val[feature_cols].values.astype(np.float32)\n",
        "    Y_val = df_val[target_col_name].values.astype(np.float32)\n",
        "    \n",
        "    X_test = df_test_pred[feature_cols].values.astype(np.float32)\n",
        "    Y_test = df_test_pred[target_col_name].values.astype(np.float32)\n",
        "    \n",
        "    n_num_features = len(feature_cols)\n",
        "\n",
        "    data_numpy = {\n",
        "        'train': {'x_num': X_train, 'y': Y_train},\n",
        "        'val': {'x_num': X_val, 'y': Y_val},\n",
        "        'test': {'x_num': X_test, 'y': Y_test},\n",
        "    }\n",
        "\n",
        "\n",
        "    for part, part_data in data_numpy.items():\n",
        "        for key, value in part_data.items():\n",
        "            # print(f'{part:<5}    {key:<5}    {value.shape!r:<10}    {value.dtype}')\n",
        "            del key, value\n",
        "        del part, part_data\n",
        "        \n",
        "\n",
        "\n",
        "    # Data Processing\n",
        "\n",
        "\n",
        "\n",
        "    # Feature preprocessing.\n",
        "    # NOTE\n",
        "    # The choice between preprocessing strategies depends on a task and a model.\n",
        "\n",
        "    # Simple preprocessing strategy.\n",
        "    # preprocessing = sklearn.preprocessing.StandardScaler().fit(\n",
        "    #     data_numpy['train']['x_num']\n",
        "    # )\n",
        "    \n",
        "    # Advanced preprocessing strategy.\n",
        "    # The noise is added to improve the output of QuantileTransformer in some cases.\n",
        "    x_num_train_numpy = data_numpy['train']['x_num']\n",
        "    noise = (\n",
        "        np.random.default_rng(0)\n",
        "        .normal(0.0, 1e-5, x_num_train_numpy.shape)\n",
        "        .astype(x_num_train_numpy.dtype)\n",
        "    )\n",
        "    preprocessing = sklearn.preprocessing.QuantileTransformer(\n",
        "        n_quantiles=max(min(df_train.shape[0] // 30, 1000), 10),\n",
        "        output_distribution='normal',\n",
        "        subsample=10**9,\n",
        "    ).fit(x_num_train_numpy + noise)\n",
        "    del x_num_train_numpy\n",
        "\n",
        "    # Apply the preprocessing.\n",
        "    for part in data_numpy:\n",
        "        data_numpy[part]['x_num'] = preprocessing.transform(data_numpy[part]['x_num'])\n",
        "\n",
        "\n",
        "    # Label preprocessing.\n",
        "    class RegressionLabelStats(NamedTuple):\n",
        "        mean: float\n",
        "        std: float\n",
        "\n",
        "\n",
        "    Y_train = data_numpy['train']['y'].copy()\n",
        "    if task_type == 'regression':\n",
        "        # For regression tasks, it is highly recommended to standardize the training labels.\n",
        "        regression_label_stats = RegressionLabelStats(\n",
        "            Y_train.mean().item(), Y_train.std().item()\n",
        "        )\n",
        "        Y_train = (Y_train - regression_label_stats.mean) / regression_label_stats.std\n",
        "    else:\n",
        "        regression_label_stats = None\n",
        "        \n",
        "        \n",
        "\n",
        "    # Pytorch settings\n",
        "\n",
        "\n",
        "\n",
        "    # Device\n",
        "    device = torch.device('cuda:0' if torch.cuda.is_available() else 'cpu')\n",
        "\n",
        "    # Convert data to tensors\n",
        "    data = {\n",
        "        part: {k: torch.as_tensor(v, device=device) for k, v in data_numpy[part].items()}\n",
        "        for part in data_numpy\n",
        "    }\n",
        "    Y_train = torch.as_tensor(Y_train, device=device)\n",
        "    if task_type == 'regression':\n",
        "        for part in data:\n",
        "            data[part]['y'] = data[part]['y'].float()\n",
        "        Y_train = Y_train.float()\n",
        "\n",
        "    # Automatic mixed precision (AMP)\n",
        "    # torch.float16 is implemented for completeness,\n",
        "    # but it was not tested in the project,\n",
        "    # so torch.bfloat16 is used by default.\n",
        "    amp_dtype = (\n",
        "        torch.bfloat16\n",
        "        if torch.cuda.is_available() and torch.cuda.is_bf16_supported()\n",
        "        else torch.float16\n",
        "        if torch.cuda.is_available()\n",
        "        else None\n",
        "    )\n",
        "    # Changing False to True can speed up training\n",
        "    # of large enough models on compatible hardware.\n",
        "    amp_enabled = False and amp_dtype is not None\n",
        "    grad_scaler = torch.cuda.amp.GradScaler() if amp_dtype is torch.float16 else None  # type: ignore\n",
        "\n",
        "    # torch.compile\n",
        "    compile_model = False\n",
        "\n",
        "    # fmt: off\n",
        "    print(f'Device:        {device.type.upper()}')\n",
        "    # print(f'AMP:           {amp_enabled}{f\" ({amp_dtype})\"if amp_enabled else \"\"}')\n",
        "    # print(f'torch.compile: {compile_model}')\n",
        "    # fmt: on\n",
        "\n",
        "\n",
        "\n",
        "\n",
        "\n",
        "    # Model and optimizer\n",
        "\n",
        "    # The best performance is usually achieved with `num_embeddings`\n",
        "    # from the `rtdl_num_embeddings` package. Typically, `PiecewiseLinearEmbeddings`\n",
        "    # and `PeriodicEmbeddings` perform best.\n",
        "    # d_block, n_block, lr, d_embedding, n_bins, weight_decay\n",
        "    embedding_type = trial.suggest_categorical('embedding_type', ['PeriodicEmbeddings', 'PiecewiseLinearEmbeddings'])\n",
        "    # embedding_type = 'PiecewiseLinearEmbeddings'\n",
        "    # Periodic embeddings.\n",
        "    num_embeddings_periodic = rtdl_num_embeddings.PeriodicEmbeddings(n_num_features, lite=False)\n",
        "\n",
        "\n",
        "    n_bins = trial.suggest_int('n_bins', 2, 128) # prev 48\n",
        "    d_embedding = trial.suggest_int('d_embedding', 8, 32, step=4) # prev 16\n",
        "\n",
        "    # Piecewise-linear embeddings.\n",
        "    num_embeddings_piecewise = rtdl_num_embeddings.PiecewiseLinearEmbeddings(\n",
        "        rtdl_num_embeddings.compute_bins(data['train']['x_num'], n_bins=n_bins),\n",
        "        d_embedding=d_embedding,\n",
        "        activation=False,\n",
        "        version='B',\n",
        "    )\n",
        "    \n",
        "    if embedding_type == 'PeriodicEmbeddings':\n",
        "        num_embeddings = num_embeddings_periodic\n",
        "    else:\n",
        "        num_embeddings = num_embeddings_piecewise\n",
        "        \n",
        "    #  d_block, n_block, lr, d_embedding, n_bins, weight_decay\n",
        "    n_blocks = trial.suggest_int(\"n_blocks\", 1, 4)\n",
        "    d_block = trial.suggest_int(\"d_block\", 64, 1024, step=16)\n",
        "    arch_type = trial.suggest_categorical('arch_type', ['tabm', 'tabm-mini'])\n",
        "    # arch_type = 'tabm'\n",
        "    \n",
        "    n_classes = None\n",
        "    \n",
        "    model = tabm.TabM.make(\n",
        "        n_num_features=n_num_features,\n",
        "        cat_cardinalities=[],\n",
        "        d_out=1 if n_classes is None else n_classes,\n",
        "        num_embeddings=num_embeddings,\n",
        "        n_blocks=n_blocks,\n",
        "        d_block=d_block,\n",
        "        arch_type=arch_type,\n",
        "    ).to(device)\n",
        "    \n",
        "    lr = trial.suggest_float(\"lr\", 1e-4, 5e-3, log=True)\n",
        "    weight_decay = trial.suggest_float(\"weight_decay\", 1e-4, 1e-1, log=True)\n",
        "    optimizer = torch.optim.AdamW(model.parameters(), lr=lr, weight_decay=weight_decay)\n",
        "    gradient_clipping_norm: Optional[float] = 1.0\n",
        "\n",
        "    if compile_model:\n",
        "        # NOTE\n",
        "        # `torch.compile(model, mode=\"reduce-overhead\")` caused issues during training,\n",
        "        # so the `mode` argument is not used.\n",
        "        model = torch.compile(model)\n",
        "        evaluation_mode = torch.no_grad\n",
        "    else:\n",
        "        evaluation_mode = torch.inference_mode\n",
        "        \n",
        "\n",
        "\n",
        "\n",
        "    # A quick reminder: TabM represents an ensemble of k MLPs.\n",
        "    #\n",
        "    # The option below determines if the MLPs are trained\n",
        "    # on the same batches (share_training_batches=True) or\n",
        "    # on different batches. Technically, this option determines:\n",
        "    # - How the loss function is implemented.\n",
        "    # - How the training batches are constructed.\n",
        "    #\n",
        "    # `True` is recommended by default because of better training efficiency.\n",
        "    # On some tasks, `False` may provide better performance.\n",
        "    \n",
        "    \n",
        "    share_training_batches_var = trial.suggest_categorical('share_training_batches', ['T', 'F'])\n",
        "    # share_training_batches_var = 'T'\n",
        "    if share_training_batches_var == 'T':\n",
        "        share_training_batches = True\n",
        "    else:\n",
        "        share_training_batches = False\n",
        "\n",
        "\n",
        "    task_is_regression = task_type == 'regression'\n",
        "\n",
        "    @torch.autocast(device.type, enabled=amp_enabled, dtype=amp_dtype)  # type: ignore[code]\n",
        "    def apply_model(part: str, idx: Tensor) -> Tensor:\n",
        "        return (\n",
        "            model(\n",
        "                data[part]['x_num'][idx],\n",
        "                data[part]['x_cat'][idx] if 'x_cat' in data[part] else None,\n",
        "            )\n",
        "            .squeeze(-1)  # Remove the last dimension for regression tasks.\n",
        "            .float()\n",
        "        )\n",
        "\n",
        "\n",
        "    base_loss_fn = (\n",
        "        nn.functional.mse_loss if task_is_regression else nn.functional.cross_entropy\n",
        "    )\n",
        "\n",
        "\n",
        "    def loss_fn(y_pred: Tensor, y_true: Tensor) -> Tensor:\n",
        "        # TabM produces k predictions. Each of them must be trained separately.\n",
        "\n",
        "        # Regression:     (batch_size, k)            -> (batch_size * k,)\n",
        "        # Classification: (batch_size, k, n_classes) -> (batch_size * k, n_classes)\n",
        "        y_pred = y_pred.flatten(0, 1)\n",
        "\n",
        "        if share_training_batches:\n",
        "            # (batch_size,) -> (batch_size * k,)\n",
        "            y_true = y_true.repeat_interleave(model.backbone.k)\n",
        "        else:\n",
        "            # (batch_size, k) -> (batch_size * k,)\n",
        "            y_true = y_true.flatten(0, 1)\n",
        "\n",
        "        return base_loss_fn(y_pred, y_true)\n",
        "\n",
        "\n",
        "    @evaluation_mode()\n",
        "    def evaluate(part: str) -> float:\n",
        "        model.eval()\n",
        "\n",
        "        # When using torch.compile, you may need to reduce the evaluation batch size.\n",
        "        eval_batch_size = 32\n",
        "        y_pred: np.ndarray = (\n",
        "            torch.cat(\n",
        "                [\n",
        "                    apply_model(part, idx)\n",
        "                    for idx in torch.arange(len(data[part]['y']), device=device).split(\n",
        "                        eval_batch_size\n",
        "                    )\n",
        "                ]\n",
        "            )\n",
        "            .cpu()\n",
        "            .numpy()\n",
        "        )\n",
        "        if task_type == 'regression':\n",
        "            # Transform the predictions back to the original label space.\n",
        "            assert regression_label_stats is not None\n",
        "            y_pred = y_pred * regression_label_stats.std + regression_label_stats.mean\n",
        "\n",
        "        # Compute the mean of the k predictions.\n",
        "        if not task_is_regression:\n",
        "            # For classification, the mean must be computed in the probability space.\n",
        "            y_pred = scipy.special.softmax(y_pred, axis=-1)\n",
        "        y_pred = y_pred.mean(1)\n",
        "\n",
        "        y_true = data[part]['y'].cpu().numpy()\n",
        "        score = (\n",
        "            (sklearn.metrics.mean_absolute_percentage_error(y_true, y_pred))\n",
        "            if task_type == 'regression'\n",
        "            else sklearn.metrics.accuracy_score(y_true, y_pred.argmax(1))\n",
        "        )\n",
        "        # score = (\n",
        "        #     -(sklearn.metrics.mean_squared_error(y_true, y_pred) ** 0.5)\n",
        "        #     if task_type == 'regression'\n",
        "        #     else sklearn.metrics.accuracy_score(y_true, y_pred.argmax(1))\n",
        "        # )\n",
        "        return float(100 - 90 * score / 2.72), y_pred  # The higher -- the better.\n",
        "\n",
        "\n",
        "    # print(f'Test score before training: {evaluate(\"test\")[0]:.4f}')\n",
        "\n",
        "\n",
        "\n",
        "\n",
        "\n",
        "\n",
        "\n",
        "\n",
        "    n_epochs = 1_000_000_000\n",
        "    train_size = df_train.shape[0]\n",
        "    batch_size = 32\n",
        "    epoch_size = math.ceil(train_size / batch_size)\n",
        "\n",
        "    epoch = -1\n",
        "    metrics = {'val': -math.inf, 'test': -math.inf}\n",
        "\n",
        "\n",
        "    def make_checkpoint() -> dict[str, Any]:\n",
        "        return deepcopy(\n",
        "            {\n",
        "                'model': model.state_dict(),\n",
        "                'optimizer': optimizer.state_dict(),\n",
        "                'epoch': epoch,\n",
        "                'metrics': metrics,\n",
        "            }\n",
        "        )\n",
        "\n",
        "\n",
        "    best_checkpoint = make_checkpoint()\n",
        "\n",
        "    # Early stopping: the training stops if the validation score\n",
        "    # does not improve for more than `patience` consecutive epochs.\n",
        "    patience = 100\n",
        "    remaining_patience = patience\n",
        "\n",
        "    for epoch in range(n_epochs):\n",
        "        batches = (\n",
        "            # Create one standard batch sequence.\n",
        "            torch.randperm(train_size, device=device).split(batch_size)\n",
        "            if share_training_batches\n",
        "            # Create k independent batch sequences.\n",
        "            else (\n",
        "                torch.rand((train_size, model.backbone.k), device=device)\n",
        "                .argsort(dim=0)\n",
        "                .split(batch_size, dim=0)\n",
        "            )\n",
        "        )\n",
        "        for batch_idx in batches:\n",
        "            model.train()\n",
        "            optimizer.zero_grad()\n",
        "            loss = loss_fn(apply_model('train', batch_idx), Y_train[batch_idx])\n",
        "            if gradient_clipping_norm is not None:\n",
        "                if grad_scaler is not None:\n",
        "                    grad_scaler.unscale_(optimizer)\n",
        "                torch.nn.utils.clip_grad.clip_grad_norm_(\n",
        "                    model.parameters(), gradient_clipping_norm\n",
        "                )\n",
        "            if grad_scaler is None:\n",
        "                loss.backward()\n",
        "                optimizer.step()\n",
        "            else:\n",
        "                grad_scaler.scale(loss).backward()  # type: ignore\n",
        "                grad_scaler.step(optimizer)\n",
        "                grad_scaler.update()\n",
        "\n",
        "        metrics = {part: evaluate(part)[0] for part in ['val', 'test']}\n",
        "        val_score_improved = metrics['val'] > best_checkpoint['metrics']['val']\n",
        "\n",
        "        # print(\n",
        "        #     f'{\"*\" if val_score_improved else \" \"}'\n",
        "        #     f' [epoch] {epoch:<3}'\n",
        "        #     f' [val] {metrics[\"val\"]:.3f}'\n",
        "        #     f' [test] {metrics[\"test\"]:.3f}'\n",
        "        # )\n",
        "\n",
        "        if val_score_improved:\n",
        "            best_checkpoint = make_checkpoint()\n",
        "            remaining_patience = patience\n",
        "        else:\n",
        "            remaining_patience -= 1\n",
        "\n",
        "        if remaining_patience < 0:\n",
        "            break\n",
        "\n",
        "    # To make final predictions, load the best checkpoint.\n",
        "    model.load_state_dict(best_checkpoint['model'])\n",
        "\n",
        "    val_score = best_checkpoint[\"metrics\"][\"val\"]\n",
        "    \n",
        "    print('\\n[Summary]')\n",
        "    print(f'best epoch:  {best_checkpoint[\"epoch\"]}')\n",
        "    print(f'val score:  {best_checkpoint[\"metrics\"][\"val\"]}')\n",
        "    # print(f'test score: {best_checkpoint[\"metrics\"][\"test\"]}')\n",
        "\n",
        "    # df_submit = pd.read_csv('./from_BRACU_HPC/submission_autogluon_time_fraction_experimental_quality.csv')\n",
        "    val_preds = evaluate('val')[1]\n",
        "    test_preds = evaluate('test')[1]\n",
        "    # df_submit[f'BlendProperty{target_col - 55 + 1}'] = test_preds\n",
        "    # df_submit.to_csv(f'submission_tabm_test{target_col - 55 + 1}.csv', index=False)\n",
        "    \n",
        "    \n",
        "    # if val_score >= 94:\n",
        "    os.makedirs(f'./Ensemble_tabm/BlendProperty{target_col-54}/Test', exist_ok=True)\n",
        "    os.makedirs(f'./Ensemble_tabm/BlendProperty{target_col-54}/Validation', exist_ok=True)\n",
        "    np.save(f'./Ensemble_tabm/BlendProperty{target_col-54}/Test/test_b{target_col-54}_trial_{trial.number}_{val_score}.npy', test_preds)\n",
        "    np.save(f'./Ensemble_tabm/BlendProperty{target_col-54}/Validation/val_b{target_col-54}_trial_{trial.number}_{val_score}.npy', val_preds)\n",
        "        \n",
        "    \n",
        "    trial.report(val_score, epoch)\n",
        "\n",
        "    if trial.should_prune():\n",
        "        raise optuna.exceptions.TrialPruned()\n",
        "    \n",
        "    return best_checkpoint[\"metrics\"][\"val\"], val_preds, test_preds"
      ]
    },
    {
      "cell_type": "code",
      "execution_count": 54,
      "metadata": {},
      "outputs": [],
      "source": [
        "df_best_hparams = None"
      ]
    },
    {
      "cell_type": "code",
      "execution_count": 55,
      "metadata": {},
      "outputs": [],
      "source": [
        "studies = []"
      ]
    },
    {
      "cell_type": "code",
      "execution_count": null,
      "metadata": {},
      "outputs": [
        {
          "name": "stderr",
          "output_type": "stream",
          "text": [
            "  0%|          | 0/8 [00:00<?, ?it/s][I 2025-07-22 21:15:42,309] A new study created in memory with name: no-name-41db4290-18db-401f-8ba9-2c031e4329f5\n"
          ]
        },
        {
          "name": "stdout",
          "output_type": "stream",
          "text": [
            "BlendProperty10\n",
            "Device:        CUDA\n",
            "\n",
            "[Summary]\n",
            "best epoch:  164\n",
            "val score:  93.18954441696405\n",
            "Device:        CUDA\n",
            "\n",
            "[Summary]\n",
            "best epoch:  207\n",
            "val score:  93.39510122423663\n",
            "Device:        CUDA\n",
            "\n",
            "[Summary]\n",
            "best epoch:  84\n",
            "val score:  94.26702475723098\n",
            "Device:        CUDA\n",
            "\n",
            "[Summary]\n",
            "best epoch:  212\n",
            "val score:  95.55612793740104\n",
            "Device:        CUDA\n"
          ]
        },
        {
          "name": "stderr",
          "output_type": "stream",
          "text": [
            "[I 2025-07-22 21:16:41,309] Trial 0 finished with value: 93.50156278400769 and parameters: {'embedding_type': 'PiecewiseLinearEmbeddings', 'n_bins': 89, 'd_embedding': 20, 'n_blocks': 1, 'd_block': 496, 'arch_type': 'tabm-mini', 'lr': 0.00025732399569755945, 'weight_decay': 0.08368612754272077, 'share_training_batches': 'F'}. Best is trial 0 with value: 93.50156278400769.\n"
          ]
        },
        {
          "name": "stdout",
          "output_type": "stream",
          "text": [
            "\n",
            "[Summary]\n",
            "best epoch:  241\n",
            "val score:  91.10001533785287\n",
            "BlendProperty10\n",
            "Device:        CUDA\n",
            "\n",
            "[Summary]\n",
            "best epoch:  40\n",
            "val score:  93.33156442598386\n",
            "Device:        CUDA\n",
            "\n",
            "[Summary]\n",
            "best epoch:  124\n",
            "val score:  93.19858701132677\n",
            "Device:        CUDA\n",
            "\n",
            "[Summary]\n",
            "best epoch:  114\n",
            "val score:  96.49212692919023\n",
            "Device:        CUDA\n",
            "\n",
            "[Summary]\n",
            "best epoch:  116\n",
            "val score:  93.93537059864578\n",
            "Device:        CUDA\n"
          ]
        },
        {
          "name": "stderr",
          "output_type": "stream",
          "text": [
            "[I 2025-07-22 21:17:54,027] Trial 1 finished with value: 93.94541752669384 and parameters: {'embedding_type': 'PeriodicEmbeddings', 'n_bins': 93, 'd_embedding': 24, 'n_blocks': 3, 'd_block': 816, 'arch_type': 'tabm', 'lr': 0.000679385129747829, 'weight_decay': 0.003268767874364721, 'share_training_batches': 'T'}. Best is trial 1 with value: 93.94541752669384.\n"
          ]
        },
        {
          "name": "stdout",
          "output_type": "stream",
          "text": [
            "\n",
            "[Summary]\n",
            "best epoch:  57\n",
            "val score:  92.76943849947523\n",
            "BlendProperty10\n",
            "Device:        CUDA\n",
            "\n",
            "[Summary]\n",
            "best epoch:  192\n",
            "val score:  94.00422990541247\n",
            "Device:        CUDA\n",
            "\n",
            "[Summary]\n",
            "best epoch:  285\n",
            "val score:  90.87719575447196\n",
            "Device:        CUDA\n",
            "\n",
            "[Summary]\n",
            "best epoch:  127\n",
            "val score:  94.20702364295721\n",
            "Device:        CUDA\n",
            "\n",
            "[Summary]\n",
            "best epoch:  48\n",
            "val score:  93.67373294251807\n",
            "Device:        CUDA\n"
          ]
        },
        {
          "name": "stderr",
          "output_type": "stream",
          "text": [
            "[I 2025-07-22 21:19:18,474] Trial 2 finished with value: 88.29731785430336 and parameters: {'embedding_type': 'PeriodicEmbeddings', 'n_bins': 81, 'd_embedding': 32, 'n_blocks': 4, 'd_block': 160, 'arch_type': 'tabm', 'lr': 0.004505565393627938, 'weight_decay': 0.006179604164571343, 'share_training_batches': 'T'}. Best is trial 1 with value: 93.94541752669384.\n"
          ]
        },
        {
          "name": "stdout",
          "output_type": "stream",
          "text": [
            "\n",
            "[Summary]\n",
            "best epoch:  42\n",
            "val score:  68.7244074747843\n",
            "BlendProperty10\n",
            "Device:        CUDA\n",
            "\n",
            "[Summary]\n",
            "best epoch:  252\n",
            "val score:  93.1347341660191\n",
            "Device:        CUDA\n",
            "\n",
            "[Summary]\n",
            "best epoch:  324\n",
            "val score:  91.23080162441029\n",
            "Device:        CUDA\n",
            "\n",
            "[Summary]\n",
            "best epoch:  239\n",
            "val score:  95.89735546204098\n",
            "Device:        CUDA\n",
            "\n",
            "[Summary]\n",
            "best epoch:  412\n",
            "val score:  94.7870365508339\n",
            "Device:        CUDA\n"
          ]
        },
        {
          "name": "stderr",
          "output_type": "stream",
          "text": [
            "[I 2025-07-22 21:21:27,818] Trial 3 finished with value: 92.70633174519041 and parameters: {'embedding_type': 'PiecewiseLinearEmbeddings', 'n_bins': 62, 'd_embedding': 12, 'n_blocks': 4, 'd_block': 464, 'arch_type': 'tabm', 'lr': 0.00016684960792447647, 'weight_decay': 0.09897515260267925, 'share_training_batches': 'T'}. Best is trial 1 with value: 93.94541752669384.\n"
          ]
        },
        {
          "name": "stdout",
          "output_type": "stream",
          "text": [
            "\n",
            "[Summary]\n",
            "best epoch:  166\n",
            "val score:  88.48173263318398\n",
            "BlendProperty10\n",
            "Device:        CUDA\n",
            "\n",
            "[Summary]\n",
            "best epoch:  298\n",
            "val score:  92.78117464307476\n",
            "Device:        CUDA\n",
            "\n",
            "[Summary]\n",
            "best epoch:  93\n",
            "val score:  91.00437683655935\n",
            "Device:        CUDA\n",
            "\n",
            "[Summary]\n",
            "best epoch:  146\n",
            "val score:  94.02763809570494\n",
            "Device:        CUDA\n",
            "\n",
            "[Summary]\n",
            "best epoch:  564\n",
            "val score:  94.29216307094869\n",
            "Device:        CUDA\n"
          ]
        },
        {
          "name": "stderr",
          "output_type": "stream",
          "text": [
            "[I 2025-07-22 21:23:24,689] Trial 4 finished with value: 92.86716879504894 and parameters: {'embedding_type': 'PiecewiseLinearEmbeddings', 'n_bins': 127, 'd_embedding': 20, 'n_blocks': 3, 'd_block': 336, 'arch_type': 'tabm-mini', 'lr': 0.0003211233672400726, 'weight_decay': 0.043658529190902046, 'share_training_batches': 'T'}. Best is trial 1 with value: 93.94541752669384.\n"
          ]
        },
        {
          "name": "stdout",
          "output_type": "stream",
          "text": [
            "\n",
            "[Summary]\n",
            "best epoch:  632\n",
            "val score:  92.2304919866078\n",
            "BlendProperty10\n",
            "Device:        CUDA\n",
            "\n",
            "[Summary]\n",
            "best epoch:  358\n",
            "val score:  96.94592711132239\n",
            "Device:        CUDA\n",
            "\n",
            "[Summary]\n",
            "best epoch:  52\n",
            "val score:  94.84420704710134\n",
            "Device:        CUDA\n",
            "\n",
            "[Summary]\n",
            "best epoch:  131\n",
            "val score:  92.89618372259771\n",
            "Device:        CUDA\n",
            "\n",
            "[Summary]\n",
            "best epoch:  262\n",
            "val score:  96.15936734549263\n",
            "Device:        CUDA\n"
          ]
        },
        {
          "name": "stderr",
          "output_type": "stream",
          "text": [
            "[I 2025-07-22 21:24:57,747] Trial 5 finished with value: 95.58129569033065 and parameters: {'embedding_type': 'PeriodicEmbeddings', 'n_bins': 25, 'd_embedding': 8, 'n_blocks': 1, 'd_block': 944, 'arch_type': 'tabm-mini', 'lr': 0.0011641494477727325, 'weight_decay': 0.0034664160750608702, 'share_training_batches': 'F'}. Best is trial 5 with value: 95.58129569033065.\n"
          ]
        },
        {
          "name": "stdout",
          "output_type": "stream",
          "text": [
            "\n",
            "[Summary]\n",
            "best epoch:  204\n",
            "val score:  97.06079345196486\n",
            "BlendProperty10\n",
            "Device:        CUDA\n",
            "\n",
            "[Summary]\n",
            "best epoch:  356\n",
            "val score:  92.11098724866615\n",
            "Device:        CUDA\n",
            "\n",
            "[Summary]\n",
            "best epoch:  585\n",
            "val score:  89.47562518365243\n",
            "Device:        CUDA\n",
            "\n",
            "[Summary]\n",
            "best epoch:  475\n",
            "val score:  94.66557981555952\n",
            "Device:        CUDA\n",
            "\n",
            "[Summary]\n",
            "best epoch:  552\n",
            "val score:  92.48646544840406\n",
            "Device:        CUDA\n"
          ]
        },
        {
          "name": "stderr",
          "output_type": "stream",
          "text": [
            "[I 2025-07-22 21:27:40,763] Trial 6 finished with value: 91.34850609852633 and parameters: {'embedding_type': 'PiecewiseLinearEmbeddings', 'n_bins': 64, 'd_embedding': 20, 'n_blocks': 3, 'd_block': 128, 'arch_type': 'tabm', 'lr': 0.00017104743197808605, 'weight_decay': 0.0013481146731293538, 'share_training_batches': 'F'}. Best is trial 5 with value: 95.58129569033065.\n"
          ]
        },
        {
          "name": "stdout",
          "output_type": "stream",
          "text": [
            "\n",
            "[Summary]\n",
            "best epoch:  293\n",
            "val score:  88.00387343063073\n",
            "BlendProperty10\n",
            "Device:        CUDA\n",
            "\n",
            "[Summary]\n",
            "best epoch:  160\n",
            "val score:  91.79341715267476\n",
            "Device:        CUDA\n",
            "\n",
            "[Summary]\n",
            "best epoch:  47\n",
            "val score:  92.32080156969674\n",
            "Device:        CUDA\n",
            "\n",
            "[Summary]\n",
            "best epoch:  144\n",
            "val score:  96.05023324051324\n",
            "Device:        CUDA\n",
            "\n",
            "[Summary]\n",
            "best epoch:  38\n",
            "val score:  94.08901778652387\n",
            "Device:        CUDA\n"
          ]
        },
        {
          "name": "stderr",
          "output_type": "stream",
          "text": [
            "[I 2025-07-22 21:28:22,604] Trial 7 finished with value: 92.92990708014852 and parameters: {'embedding_type': 'PiecewiseLinearEmbeddings', 'n_bins': 14, 'd_embedding': 24, 'n_blocks': 1, 'd_block': 560, 'arch_type': 'tabm', 'lr': 0.003922109593825121, 'weight_decay': 0.00016746094982124647, 'share_training_batches': 'F'}. Best is trial 5 with value: 95.58129569033065.\n"
          ]
        },
        {
          "name": "stdout",
          "output_type": "stream",
          "text": [
            "\n",
            "[Summary]\n",
            "best epoch:  66\n",
            "val score:  90.39606563746929\n",
            "BlendProperty10\n",
            "Device:        CUDA\n",
            "\n",
            "[Summary]\n",
            "best epoch:  172\n",
            "val score:  94.7106581838692\n",
            "Device:        CUDA\n",
            "\n",
            "[Summary]\n",
            "best epoch:  279\n",
            "val score:  93.68018306353513\n",
            "Device:        CUDA\n",
            "\n",
            "[Summary]\n",
            "best epoch:  187\n",
            "val score:  96.55278257149108\n",
            "Device:        CUDA\n",
            "\n",
            "[Summary]\n",
            "best epoch:  138\n",
            "val score:  94.00027414016864\n",
            "Device:        CUDA\n"
          ]
        },
        {
          "name": "stderr",
          "output_type": "stream",
          "text": [
            "[I 2025-07-22 21:30:15,012] Trial 8 finished with value: 94.22139594223592 and parameters: {'embedding_type': 'PeriodicEmbeddings', 'n_bins': 90, 'd_embedding': 20, 'n_blocks': 4, 'd_block': 688, 'arch_type': 'tabm', 'lr': 0.0002737750345657575, 'weight_decay': 0.038402260906707716, 'share_training_batches': 'T'}. Best is trial 5 with value: 95.58129569033065.\n"
          ]
        },
        {
          "name": "stdout",
          "output_type": "stream",
          "text": [
            "\n",
            "[Summary]\n",
            "best epoch:  135\n",
            "val score:  92.16308176298352\n",
            "BlendProperty10\n",
            "Device:        CUDA\n",
            "\n",
            "[Summary]\n",
            "best epoch:  103\n",
            "val score:  95.00007494626676\n",
            "Device:        CUDA\n",
            "\n",
            "[Summary]\n",
            "best epoch:  173\n",
            "val score:  92.80468095093966\n",
            "Device:        CUDA\n",
            "\n",
            "[Summary]\n",
            "best epoch:  108\n",
            "val score:  95.64456342555144\n",
            "Device:        CUDA\n",
            "\n",
            "[Summary]\n",
            "best epoch:  167\n",
            "val score:  94.21027089085649\n",
            "Device:        CUDA\n"
          ]
        },
        {
          "name": "stderr",
          "output_type": "stream",
          "text": [
            "[I 2025-07-22 21:31:07,139] Trial 9 finished with value: 92.85544949343789 and parameters: {'embedding_type': 'PeriodicEmbeddings', 'n_bins': 14, 'd_embedding': 32, 'n_blocks': 1, 'd_block': 80, 'arch_type': 'tabm-mini', 'lr': 0.003946329074551858, 'weight_decay': 0.029408712449625004, 'share_training_batches': 'F'}. Best is trial 5 with value: 95.58129569033065.\n"
          ]
        },
        {
          "name": "stdout",
          "output_type": "stream",
          "text": [
            "\n",
            "[Summary]\n",
            "best epoch:  100\n",
            "val score:  86.61765752031522\n",
            "BlendProperty10\n",
            "Device:        CUDA\n",
            "\n",
            "[Summary]\n",
            "best epoch:  165\n",
            "val score:  87.78965466601008\n",
            "Device:        CUDA\n",
            "\n",
            "[Summary]\n",
            "best epoch:  131\n",
            "val score:  94.58262806429582\n",
            "Device:        CUDA\n",
            "\n",
            "[Summary]\n",
            "best epoch:  154\n",
            "val score:  97.11554305737509\n",
            "Device:        CUDA\n",
            "\n",
            "[Summary]\n",
            "best epoch:  179\n",
            "val score:  95.40336380767472\n",
            "Device:        CUDA\n"
          ]
        },
        {
          "name": "stderr",
          "output_type": "stream",
          "text": [
            "/home/FA020/miniconda3/envs/shell_ai/lib/python3.13/site-packages/optuna/trial/_trial.py:501: UserWarning: The reported value is ignored because this `step` 255 is already reported.\n",
            "  warnings.warn(\n",
            "[I 2025-07-22 21:32:54,082] Trial 10 finished with value: 93.95890942596445 and parameters: {'embedding_type': 'PeriodicEmbeddings', 'n_bins': 38, 'd_embedding': 8, 'n_blocks': 2, 'd_block': 1024, 'arch_type': 'tabm-mini', 'lr': 0.0015023416752641505, 'weight_decay': 0.0005099873978688745, 'share_training_batches': 'F'}. Best is trial 5 with value: 95.58129569033065.\n"
          ]
        },
        {
          "name": "stdout",
          "output_type": "stream",
          "text": [
            "\n",
            "[Summary]\n",
            "best epoch:  154\n",
            "val score:  94.90335813778289\n",
            "BlendProperty10\n",
            "Device:        CUDA\n",
            "\n",
            "[Summary]\n",
            "best epoch:  205\n",
            "val score:  95.7700656617389\n",
            "Device:        CUDA\n",
            "\n",
            "[Summary]\n",
            "best epoch:  181\n",
            "val score:  94.82502087074168\n",
            "Device:        CUDA\n",
            "\n",
            "[Summary]\n",
            "best epoch:  299\n",
            "val score:  97.235123972025\n",
            "Device:        CUDA\n",
            "\n",
            "[Summary]\n",
            "best epoch:  311\n",
            "val score:  95.87059968753772\n",
            "Device:        CUDA\n"
          ]
        },
        {
          "name": "stderr",
          "output_type": "stream",
          "text": [
            "[I 2025-07-22 21:34:19,503] Trial 11 finished with value: 95.87980982713712 and parameters: {'embedding_type': 'PeriodicEmbeddings', 'n_bins': 112, 'd_embedding': 12, 'n_blocks': 2, 'd_block': 800, 'arch_type': 'tabm-mini', 'lr': 0.000715141898971832, 'weight_decay': 0.008663246208879328, 'share_training_batches': 'T'}. Best is trial 11 with value: 95.87980982713712.\n"
          ]
        },
        {
          "name": "stdout",
          "output_type": "stream",
          "text": [
            "\n",
            "[Summary]\n",
            "best epoch:  95\n",
            "val score:  95.69823866819634\n",
            "BlendProperty10\n",
            "Device:        CUDA\n",
            "\n",
            "[Summary]\n",
            "best epoch:  246\n",
            "val score:  96.00184722529615\n",
            "Device:        CUDA\n",
            "\n",
            "[Summary]\n",
            "best epoch:  67\n",
            "val score:  94.95681101346717\n",
            "Device:        CUDA\n",
            "\n",
            "[Summary]\n",
            "best epoch:  86\n",
            "val score:  96.79587107590017\n",
            "Device:        CUDA\n",
            "\n",
            "[Summary]\n",
            "best epoch:  103\n",
            "val score:  94.7250903419712\n",
            "Device:        CUDA\n"
          ]
        },
        {
          "name": "stderr",
          "output_type": "stream",
          "text": [
            "[I 2025-07-22 21:35:50,143] Trial 12 finished with value: 95.39244991729512 and parameters: {'embedding_type': 'PeriodicEmbeddings', 'n_bins': 112, 'd_embedding': 12, 'n_blocks': 2, 'd_block': 976, 'arch_type': 'tabm-mini', 'lr': 0.0008991534576649488, 'weight_decay': 0.006967930638808515, 'share_training_batches': 'F'}. Best is trial 11 with value: 95.87980982713712.\n"
          ]
        },
        {
          "name": "stdout",
          "output_type": "stream",
          "text": [
            "\n",
            "[Summary]\n",
            "best epoch:  95\n",
            "val score:  94.48262998724685\n",
            "BlendProperty10\n",
            "Device:        CUDA\n",
            "\n",
            "[Summary]\n",
            "best epoch:  68\n",
            "val score:  94.24207626896747\n",
            "Device:        CUDA\n",
            "\n",
            "[Summary]\n",
            "best epoch:  195\n",
            "val score:  94.122965973528\n",
            "Device:        CUDA\n",
            "\n",
            "[Summary]\n",
            "best epoch:  56\n",
            "val score:  96.05835086720832\n",
            "Device:        CUDA\n",
            "\n",
            "[Summary]\n",
            "best epoch:  192\n",
            "val score:  95.17909957862952\n",
            "Device:        CUDA\n"
          ]
        },
        {
          "name": "stderr",
          "output_type": "stream",
          "text": [
            "[I 2025-07-22 21:36:53,508] Trial 13 finished with value: 94.88118738061881 and parameters: {'embedding_type': 'PeriodicEmbeddings', 'n_bins': 47, 'd_embedding': 8, 'n_blocks': 2, 'd_block': 816, 'arch_type': 'tabm-mini', 'lr': 0.0014368563610312678, 'weight_decay': 0.011498522577339371, 'share_training_batches': 'T'}. Best is trial 11 with value: 95.87980982713712.\n"
          ]
        },
        {
          "name": "stdout",
          "output_type": "stream",
          "text": [
            "\n",
            "[Summary]\n",
            "best epoch:  144\n",
            "val score:  94.8034433867125\n",
            "BlendProperty10\n",
            "Device:        CUDA\n",
            "\n",
            "[Summary]\n",
            "best epoch:  293\n",
            "val score:  97.09270261775922\n",
            "Device:        CUDA\n",
            "\n",
            "[Summary]\n",
            "best epoch:  239\n",
            "val score:  95.63304964891252\n",
            "Device:        CUDA\n",
            "\n",
            "[Summary]\n",
            "best epoch:  132\n",
            "val score:  96.29805604105486\n",
            "Device:        CUDA\n",
            "\n",
            "[Summary]\n",
            "best epoch:  231\n",
            "val score:  96.47627798292567\n",
            "Device:        CUDA\n"
          ]
        },
        {
          "name": "stderr",
          "output_type": "stream",
          "text": [
            "[I 2025-07-22 21:38:08,128] Trial 14 finished with value: 96.32063768488098 and parameters: {'embedding_type': 'PeriodicEmbeddings', 'n_bins': 31, 'd_embedding': 12, 'n_blocks': 1, 'd_block': 848, 'arch_type': 'tabm-mini', 'lr': 0.0005874254483369123, 'weight_decay': 0.0012315611156346149, 'share_training_batches': 'T'}. Best is trial 14 with value: 96.32063768488098.\n"
          ]
        },
        {
          "name": "stdout",
          "output_type": "stream",
          "text": [
            "\n",
            "[Summary]\n",
            "best epoch:  194\n",
            "val score:  96.10310209476772\n",
            "BlendProperty10\n",
            "Device:        CUDA\n",
            "\n",
            "[Summary]\n",
            "best epoch:  360\n",
            "val score:  95.65292215522598\n",
            "Device:        CUDA\n",
            "\n",
            "[Summary]\n",
            "best epoch:  253\n",
            "val score:  95.16931691152207\n",
            "Device:        CUDA\n",
            "\n",
            "[Summary]\n",
            "best epoch:  167\n",
            "val score:  96.84399256811423\n",
            "Device:        CUDA\n",
            "\n",
            "[Summary]\n",
            "best epoch:  166\n",
            "val score:  95.35800291992285\n",
            "Device:        CUDA\n"
          ]
        },
        {
          "name": "stderr",
          "output_type": "stream",
          "text": [
            "[I 2025-07-22 21:39:31,198] Trial 15 finished with value: 95.54344157453274 and parameters: {'embedding_type': 'PeriodicEmbeddings', 'n_bins': 45, 'd_embedding': 12, 'n_blocks': 2, 'd_block': 768, 'arch_type': 'tabm-mini', 'lr': 0.0005263128178849436, 'weight_decay': 0.0008664935556389326, 'share_training_batches': 'T'}. Best is trial 14 with value: 96.32063768488098.\n"
          ]
        },
        {
          "name": "stdout",
          "output_type": "stream",
          "text": [
            "\n",
            "[Summary]\n",
            "best epoch:  142\n",
            "val score:  94.69297286123037\n",
            "BlendProperty10\n",
            "Device:        CUDA\n",
            "\n",
            "[Summary]\n",
            "best epoch:  170\n",
            "val score:  93.58274984885665\n",
            "Device:        CUDA\n",
            "\n",
            "[Summary]\n",
            "best epoch:  208\n",
            "val score:  63.79198484561023\n",
            "Device:        CUDA\n",
            "\n",
            "[Summary]\n",
            "best epoch:  48\n",
            "val score:  89.20587483136093\n",
            "Device:        CUDA\n",
            "\n",
            "[Summary]\n",
            "best epoch:  107\n",
            "val score:  95.03798530820538\n",
            "Device:        CUDA\n"
          ]
        },
        {
          "name": "stderr",
          "output_type": "stream",
          "text": [
            "[I 2025-07-22 21:40:27,542] Trial 16 finished with value: 87.40587735908383 and parameters: {'embedding_type': 'PeriodicEmbeddings', 'n_bins': 111, 'd_embedding': 16, 'n_blocks': 1, 'd_block': 688, 'arch_type': 'tabm-mini', 'lr': 0.0022401020643115703, 'weight_decay': 0.0002576772152804429, 'share_training_batches': 'T'}. Best is trial 14 with value: 96.32063768488098.\n"
          ]
        },
        {
          "name": "stdout",
          "output_type": "stream",
          "text": [
            "\n",
            "[Summary]\n",
            "best epoch:  185\n",
            "val score:  95.41079263915034\n",
            "BlendProperty10\n",
            "Device:        CUDA\n",
            "\n",
            "[Summary]\n",
            "best epoch:  307\n",
            "val score:  95.45301573679728\n",
            "Device:        CUDA\n",
            "\n",
            "[Summary]\n",
            "best epoch:  179\n",
            "val score:  95.04960607737303\n",
            "Device:        CUDA\n",
            "\n",
            "[Summary]\n",
            "best epoch:  324\n",
            "val score:  96.89768580719829\n",
            "Device:        CUDA\n",
            "\n",
            "[Summary]\n",
            "best epoch:  183\n",
            "val score:  95.67833312732331\n",
            "Device:        CUDA\n"
          ]
        },
        {
          "name": "stderr",
          "output_type": "stream",
          "text": [
            "[I 2025-07-22 21:42:03,446] Trial 17 finished with value: 95.47763121002674 and parameters: {'embedding_type': 'PeriodicEmbeddings', 'n_bins': 2, 'd_embedding': 16, 'n_blocks': 2, 'd_block': 864, 'arch_type': 'tabm-mini', 'lr': 0.00042270654287913364, 'weight_decay': 0.0017259825348577443, 'share_training_batches': 'T'}. Best is trial 14 with value: 96.32063768488098.\n"
          ]
        },
        {
          "name": "stdout",
          "output_type": "stream",
          "text": [
            "\n",
            "[Summary]\n",
            "best epoch:  276\n",
            "val score:  94.3095141035669\n",
            "BlendProperty10\n",
            "Device:        CUDA\n",
            "\n",
            "[Summary]\n",
            "best epoch:  258\n",
            "val score:  97.1615279038601\n",
            "Device:        CUDA\n",
            "\n",
            "[Summary]\n",
            "best epoch:  155\n",
            "val score:  95.52954596412532\n",
            "Device:        CUDA\n",
            "\n",
            "[Summary]\n",
            "best epoch:  185\n",
            "val score:  96.9161114491084\n",
            "Device:        CUDA\n",
            "\n",
            "[Summary]\n",
            "best epoch:  478\n",
            "val score:  96.32154311984777\n",
            "Device:        CUDA\n"
          ]
        },
        {
          "name": "stderr",
          "output_type": "stream",
          "text": [
            "[I 2025-07-22 21:43:26,890] Trial 18 finished with value: 96.51855598020424 and parameters: {'embedding_type': 'PeriodicEmbeddings', 'n_bins': 73, 'd_embedding': 16, 'n_blocks': 1, 'd_block': 624, 'arch_type': 'tabm-mini', 'lr': 0.0006931218464786881, 'weight_decay': 0.013197576681901739, 'share_training_batches': 'T'}. Best is trial 18 with value: 96.51855598020424.\n"
          ]
        },
        {
          "name": "stdout",
          "output_type": "stream",
          "text": [
            "\n",
            "[Summary]\n",
            "best epoch:  304\n",
            "val score:  96.6640520895667\n",
            "BlendProperty10\n",
            "Device:        CUDA\n",
            "\n",
            "[Summary]\n",
            "best epoch:  431\n",
            "val score:  96.25618596944739\n",
            "Device:        CUDA\n",
            "\n",
            "[Summary]\n",
            "best epoch:  376\n",
            "val score:  95.8274969831109\n",
            "Device:        CUDA\n",
            "\n",
            "[Summary]\n",
            "best epoch:  387\n",
            "val score:  93.61843210371102\n",
            "Device:        CUDA\n",
            "\n",
            "[Summary]\n",
            "best epoch:  626\n",
            "val score:  95.43667250477216\n",
            "Device:        CUDA\n"
          ]
        },
        {
          "name": "stderr",
          "output_type": "stream",
          "text": [
            "[I 2025-07-22 21:45:36,305] Trial 19 finished with value: 95.20541754221054 and parameters: {'embedding_type': 'PeriodicEmbeddings', 'n_bins': 72, 'd_embedding': 16, 'n_blocks': 1, 'd_block': 608, 'arch_type': 'tabm-mini', 'lr': 0.00010106412009389024, 'weight_decay': 0.02126123625975126, 'share_training_batches': 'T'}. Best is trial 18 with value: 96.51855598020424.\n"
          ]
        },
        {
          "name": "stdout",
          "output_type": "stream",
          "text": [
            "\n",
            "[Summary]\n",
            "best epoch:  567\n",
            "val score:  94.88830078831491\n",
            "BlendProperty10\n",
            "Device:        CUDA\n",
            "\n",
            "[Summary]\n",
            "best epoch:  162\n",
            "val score:  95.73474234956153\n",
            "Device:        CUDA\n",
            "\n",
            "[Summary]\n",
            "best epoch:  172\n",
            "val score:  87.23933341748574\n",
            "Device:        CUDA\n",
            "\n",
            "[Summary]\n",
            "best epoch:  29\n",
            "val score:  82.62382167227128\n",
            "Device:        CUDA\n",
            "\n",
            "[Summary]\n",
            "best epoch:  313\n",
            "val score:  95.33052408300779\n",
            "Device:        CUDA\n"
          ]
        },
        {
          "name": "stderr",
          "output_type": "stream",
          "text": [
            "[I 2025-07-22 21:46:38,661] Trial 20 finished with value: 91.09356450152197 and parameters: {'embedding_type': 'PeriodicEmbeddings', 'n_bins': 55, 'd_embedding': 28, 'n_blocks': 1, 'd_block': 336, 'arch_type': 'tabm-mini', 'lr': 0.002432831354366095, 'weight_decay': 0.015865183568980243, 'share_training_batches': 'T'}. Best is trial 18 with value: 96.51855598020424.\n"
          ]
        },
        {
          "name": "stdout",
          "output_type": "stream",
          "text": [
            "\n",
            "[Summary]\n",
            "best epoch:  168\n",
            "val score:  94.53940160353395\n",
            "BlendProperty10\n",
            "Device:        CUDA\n",
            "\n",
            "[Summary]\n",
            "best epoch:  272\n",
            "val score:  95.52016513531699\n",
            "Device:        CUDA\n",
            "\n",
            "[Summary]\n",
            "best epoch:  163\n",
            "val score:  94.04721772846054\n",
            "Device:        CUDA\n",
            "\n",
            "[Summary]\n",
            "best epoch:  146\n",
            "val score:  96.93790883483256\n",
            "Device:        CUDA\n",
            "\n",
            "[Summary]\n",
            "best epoch:  86\n",
            "val score:  95.48862501978874\n",
            "Device:        CUDA\n"
          ]
        },
        {
          "name": "stderr",
          "output_type": "stream",
          "text": [
            "[I 2025-07-22 21:47:42,154] Trial 21 finished with value: 95.16227328931878 and parameters: {'embedding_type': 'PeriodicEmbeddings', 'n_bins': 105, 'd_embedding': 12, 'n_blocks': 2, 'd_block': 688, 'arch_type': 'tabm-mini', 'lr': 0.0007105423273545639, 'weight_decay': 0.006903738896666239, 'share_training_batches': 'T'}. Best is trial 18 with value: 96.51855598020424.\n"
          ]
        },
        {
          "name": "stdout",
          "output_type": "stream",
          "text": [
            "\n",
            "[Summary]\n",
            "best epoch:  35\n",
            "val score:  93.8174495473504\n",
            "BlendProperty10\n",
            "Device:        CUDA\n",
            "\n",
            "[Summary]\n",
            "best epoch:  315\n",
            "val score:  96.78498002536156\n",
            "Device:        CUDA\n",
            "\n",
            "[Summary]\n",
            "best epoch:  120\n",
            "val score:  95.86911189972477\n",
            "Device:        CUDA\n",
            "\n",
            "[Summary]\n",
            "best epoch:  300\n",
            "val score:  96.14433662089355\n",
            "Device:        CUDA\n",
            "\n",
            "[Summary]\n",
            "best epoch:  146\n",
            "val score:  96.13748811294927\n",
            "Device:        CUDA\n"
          ]
        },
        {
          "name": "stderr",
          "output_type": "stream",
          "text": [
            "[I 2025-07-22 21:49:00,132] Trial 22 finished with value: 96.27754707679959 and parameters: {'embedding_type': 'PeriodicEmbeddings', 'n_bins': 125, 'd_embedding': 16, 'n_blocks': 1, 'd_block': 896, 'arch_type': 'tabm-mini', 'lr': 0.0005172139905881536, 'weight_decay': 0.002057363735014049, 'share_training_batches': 'T'}. Best is trial 18 with value: 96.51855598020424.\n"
          ]
        },
        {
          "name": "stdout",
          "output_type": "stream",
          "text": [
            "\n",
            "[Summary]\n",
            "best epoch:  308\n",
            "val score:  96.45181934294455\n",
            "BlendProperty10\n",
            "Device:        CUDA\n",
            "\n",
            "[Summary]\n",
            "best epoch:  362\n",
            "val score:  96.91943758550812\n",
            "Device:        CUDA\n",
            "\n",
            "[Summary]\n",
            "best epoch:  292\n",
            "val score:  96.73180079416318\n",
            "Device:        CUDA\n",
            "\n",
            "[Summary]\n",
            "best epoch:  443\n",
            "val score:  96.67715744170197\n",
            "Device:        CUDA\n",
            "\n",
            "[Summary]\n",
            "best epoch:  378\n",
            "val score:  96.07937095467659\n",
            "Device:        CUDA\n"
          ]
        },
        {
          "name": "stderr",
          "output_type": "stream",
          "text": [
            "[I 2025-07-22 21:50:41,243] Trial 23 finished with value: 96.34697889365093 and parameters: {'embedding_type': 'PeriodicEmbeddings', 'n_bins': 32, 'd_embedding': 16, 'n_blocks': 1, 'd_block': 928, 'arch_type': 'tabm-mini', 'lr': 0.0004395111034981795, 'weight_decay': 0.0005176354781303003, 'share_training_batches': 'T'}. Best is trial 18 with value: 96.51855598020424.\n"
          ]
        },
        {
          "name": "stdout",
          "output_type": "stream",
          "text": [
            "\n",
            "[Summary]\n",
            "best epoch:  173\n",
            "val score:  95.3271274400108\n",
            "BlendProperty10\n",
            "Device:        CUDA\n",
            "\n",
            "[Summary]\n",
            "best epoch:  488\n",
            "val score:  96.92390760516419\n",
            "Device:        CUDA\n",
            "\n",
            "[Summary]\n",
            "best epoch:  197\n",
            "val score:  95.7551039645777\n",
            "Device:        CUDA\n",
            "\n",
            "[Summary]\n",
            "best epoch:  175\n",
            "val score:  94.30046953699168\n",
            "Device:        CUDA\n",
            "\n",
            "[Summary]\n",
            "best epoch:  254\n",
            "val score:  96.03193677852259\n",
            "Device:        CUDA\n"
          ]
        },
        {
          "name": "stderr",
          "output_type": "stream",
          "text": [
            "[I 2025-07-22 21:52:04,253] Trial 24 finished with value: 95.72790999171642 and parameters: {'embedding_type': 'PeriodicEmbeddings', 'n_bins': 32, 'd_embedding': 16, 'n_blocks': 1, 'd_block': 1024, 'arch_type': 'tabm-mini', 'lr': 0.00040566769358007826, 'weight_decay': 0.0004955368839402558, 'share_training_batches': 'T'}. Best is trial 18 with value: 96.51855598020424.\n"
          ]
        },
        {
          "name": "stdout",
          "output_type": "stream",
          "text": [
            "\n",
            "[Summary]\n",
            "best epoch:  167\n",
            "val score:  95.62813243006958\n",
            "BlendProperty10\n",
            "Device:        CUDA\n",
            "\n",
            "[Summary]\n",
            "best epoch:  115\n",
            "val score:  96.07925508719157\n",
            "Device:        CUDA\n"
          ]
        },
        {
          "name": "stderr",
          "output_type": "stream",
          "text": [
            "[I 2025-07-22 21:52:28,827] Trial 25 pruned. \n"
          ]
        },
        {
          "name": "stdout",
          "output_type": "stream",
          "text": [
            "\n",
            "[Summary]\n",
            "best epoch:  194\n",
            "val score:  94.90100085077917\n",
            "BlendProperty10\n",
            "Device:        CUDA\n",
            "\n",
            "[Summary]\n",
            "best epoch:  143\n",
            "val score:  94.07824999926721\n",
            "Device:        CUDA\n",
            "\n",
            "[Summary]\n",
            "best epoch:  236\n",
            "val score:  94.61750960087075\n",
            "Device:        CUDA\n",
            "\n",
            "[Summary]\n",
            "best epoch:  174\n",
            "val score:  95.7063755239634\n",
            "Device:        CUDA\n",
            "\n",
            "[Summary]\n",
            "best epoch:  196\n",
            "val score:  96.28272899152601\n",
            "Device:        CUDA\n"
          ]
        },
        {
          "name": "stderr",
          "output_type": "stream",
          "text": [
            "[I 2025-07-22 21:53:30,308] Trial 26 finished with value: 95.32835892525962 and parameters: {'embedding_type': 'PiecewiseLinearEmbeddings', 'n_bins': 52, 'd_embedding': 16, 'n_blocks': 1, 'd_block': 736, 'arch_type': 'tabm-mini', 'lr': 0.0005551434965057517, 'weight_decay': 0.0006616595234895216, 'share_training_batches': 'T'}. Best is trial 18 with value: 96.51855598020424.\n"
          ]
        },
        {
          "name": "stdout",
          "output_type": "stream",
          "text": [
            "\n",
            "[Summary]\n",
            "best epoch:  175\n",
            "val score:  95.95693082493894\n",
            "BlendProperty10\n",
            "Device:        CUDA\n",
            "\n",
            "[Summary]\n",
            "best epoch:  166\n",
            "val score:  94.3128062193008\n",
            "Device:        CUDA\n",
            "\n",
            "[Summary]\n",
            "best epoch:  416\n",
            "val score:  94.82246389722123\n",
            "Device:        CUDA\n",
            "\n",
            "[Summary]\n",
            "best epoch:  350\n",
            "val score:  96.35302628773977\n",
            "Device:        CUDA\n",
            "\n",
            "[Summary]\n",
            "best epoch:  280\n",
            "val score:  95.08322687710033\n",
            "Device:        CUDA\n"
          ]
        },
        {
          "name": "stderr",
          "output_type": "stream",
          "text": [
            "[I 2025-07-22 21:55:13,398] Trial 27 finished with value: 94.95417629389463 and parameters: {'embedding_type': 'PeriodicEmbeddings', 'n_bins': 77, 'd_embedding': 12, 'n_blocks': 2, 'd_block': 624, 'arch_type': 'tabm-mini', 'lr': 0.00035811846265576026, 'weight_decay': 0.0003806942717837287, 'share_training_batches': 'T'}. Best is trial 18 with value: 96.51855598020424.\n"
          ]
        },
        {
          "name": "stdout",
          "output_type": "stream",
          "text": [
            "\n",
            "[Summary]\n",
            "best epoch:  292\n",
            "val score:  94.19935814598027\n",
            "BlendProperty10\n",
            "Device:        CUDA\n",
            "\n",
            "[Summary]\n",
            "best epoch:  517\n",
            "val score:  96.58988802419866\n",
            "Device:        CUDA\n",
            "\n",
            "[Summary]\n",
            "best epoch:  219\n",
            "val score:  95.80585490912199\n",
            "Device:        CUDA\n",
            "\n",
            "[Summary]\n",
            "best epoch:  19\n",
            "val score:  88.09185876127552\n",
            "Device:        CUDA\n",
            "\n",
            "[Summary]\n",
            "best epoch:  358\n",
            "val score:  95.55318786160035\n",
            "Device:        CUDA\n"
          ]
        },
        {
          "name": "stderr",
          "output_type": "stream",
          "text": [
            "[I 2025-07-22 21:56:36,895] Trial 28 finished with value: 94.27524352214876 and parameters: {'embedding_type': 'PeriodicEmbeddings', 'n_bins': 38, 'd_embedding': 8, 'n_blocks': 1, 'd_block': 400, 'arch_type': 'tabm-mini', 'lr': 0.00019863192075312932, 'weight_decay': 0.0008988672824754105, 'share_training_batches': 'T'}. Best is trial 18 with value: 96.51855598020424.\n"
          ]
        },
        {
          "name": "stdout",
          "output_type": "stream",
          "text": [
            "\n",
            "[Summary]\n",
            "best epoch:  251\n",
            "val score:  95.33542749636314\n",
            "BlendProperty10\n",
            "Device:        CUDA\n",
            "\n",
            "[Summary]\n",
            "best epoch:  106\n",
            "val score:  90.61656392672482\n",
            "Device:        CUDA\n",
            "\n",
            "[Summary]\n",
            "best epoch:  57\n",
            "val score:  93.04787694093059\n",
            "Device:        CUDA\n",
            "\n",
            "[Summary]\n",
            "best epoch:  82\n",
            "val score:  89.87409099936485\n",
            "Device:        CUDA\n",
            "\n",
            "[Summary]\n",
            "best epoch:  136\n",
            "val score:  92.59098778095316\n",
            "Device:        CUDA\n"
          ]
        },
        {
          "name": "stderr",
          "output_type": "stream",
          "text": [
            "[I 2025-07-22 21:57:19,381] Trial 29 finished with value: 89.14357401574487 and parameters: {'embedding_type': 'PiecewiseLinearEmbeddings', 'n_bins': 9, 'd_embedding': 16, 'n_blocks': 1, 'd_block': 496, 'arch_type': 'tabm-mini', 'lr': 0.0009057364519185853, 'weight_decay': 0.004079286659836487, 'share_training_batches': 'T'}. Best is trial 18 with value: 96.51855598020424.\n"
          ]
        },
        {
          "name": "stdout",
          "output_type": "stream",
          "text": [
            "\n",
            "[Summary]\n",
            "best epoch:  109\n",
            "val score:  79.58834995241726\n",
            "BlendProperty10\n",
            "Device:        CUDA\n",
            "\n",
            "[Summary]\n",
            "best epoch:  173\n",
            "val score:  95.16082456444992\n",
            "Device:        CUDA\n"
          ]
        },
        {
          "name": "stderr",
          "output_type": "stream",
          "text": [
            "[I 2025-07-22 21:57:53,169] Trial 30 pruned. \n"
          ]
        },
        {
          "name": "stdout",
          "output_type": "stream",
          "text": [
            "\n",
            "[Summary]\n",
            "best epoch:  204\n",
            "val score:  93.22425979463493\n",
            "BlendProperty10\n",
            "Device:        CUDA\n",
            "\n",
            "[Summary]\n",
            "best epoch:  403\n",
            "val score:  96.85542449793395\n",
            "Device:        CUDA\n",
            "\n",
            "[Summary]\n",
            "best epoch:  76\n",
            "val score:  95.72305699043415\n",
            "Device:        CUDA\n",
            "\n",
            "[Summary]\n",
            "best epoch:  149\n",
            "val score:  94.78729047319469\n",
            "Device:        CUDA\n",
            "\n",
            "[Summary]\n",
            "best epoch:  189\n",
            "val score:  95.8390492178938\n",
            "Device:        CUDA\n"
          ]
        },
        {
          "name": "stderr",
          "output_type": "stream",
          "text": [
            "[I 2025-07-22 21:58:59,290] Trial 31 finished with value: 95.84906534580162 and parameters: {'embedding_type': 'PeriodicEmbeddings', 'n_bins': 125, 'd_embedding': 16, 'n_blocks': 1, 'd_block': 880, 'arch_type': 'tabm-mini', 'lr': 0.0004941678000061974, 'weight_decay': 0.0018363998333629703, 'share_training_batches': 'T'}. Best is trial 18 with value: 96.51855598020424.\n"
          ]
        },
        {
          "name": "stdout",
          "output_type": "stream",
          "text": [
            "\n",
            "[Summary]\n",
            "best epoch:  128\n",
            "val score:  96.04050530230298\n",
            "BlendProperty10\n",
            "Device:        CUDA\n",
            "\n",
            "[Summary]\n",
            "best epoch:  214\n",
            "val score:  96.80618648691213\n",
            "Device:        CUDA\n",
            "\n",
            "[Summary]\n",
            "best epoch:  301\n",
            "val score:  95.62697424827253\n",
            "Device:        CUDA\n",
            "\n",
            "[Summary]\n",
            "best epoch:  137\n",
            "val score:  95.04857707549544\n",
            "Device:        CUDA\n",
            "\n",
            "[Summary]\n",
            "best epoch:  187\n",
            "val score:  96.48667918518186\n",
            "Device:        CUDA\n"
          ]
        },
        {
          "name": "stderr",
          "output_type": "stream",
          "text": [
            "[I 2025-07-22 22:00:08,485] Trial 32 finished with value: 95.85918335086042 and parameters: {'embedding_type': 'PeriodicEmbeddings', 'n_bins': 97, 'd_embedding': 12, 'n_blocks': 1, 'd_block': 864, 'arch_type': 'tabm-mini', 'lr': 0.0006397595901911271, 'weight_decay': 0.0023177044222589052, 'share_training_batches': 'T'}. Best is trial 18 with value: 96.51855598020424.\n"
          ]
        },
        {
          "name": "stdout",
          "output_type": "stream",
          "text": [
            "\n",
            "[Summary]\n",
            "best epoch:  138\n",
            "val score:  95.32749969512224\n",
            "BlendProperty10\n",
            "Device:        CUDA\n",
            "\n",
            "[Summary]\n",
            "best epoch:  136\n",
            "val score:  96.06209437308065\n",
            "Device:        CUDA\n",
            "\n",
            "[Summary]\n",
            "best epoch:  135\n",
            "val score:  95.81478508737158\n",
            "Device:        CUDA\n",
            "\n",
            "[Summary]\n",
            "best epoch:  291\n",
            "val score:  96.01228121558533\n",
            "Device:        CUDA\n",
            "\n",
            "[Summary]\n",
            "best epoch:  432\n",
            "val score:  96.05663997285507\n",
            "Device:        CUDA\n"
          ]
        },
        {
          "name": "stderr",
          "output_type": "stream",
          "text": [
            "[I 2025-07-22 22:01:31,281] Trial 33 finished with value: 96.01505568457023 and parameters: {'embedding_type': 'PeriodicEmbeddings', 'n_bins': 38, 'd_embedding': 20, 'n_blocks': 1, 'd_block': 960, 'arch_type': 'tabm-mini', 'lr': 0.0004513799659168526, 'weight_decay': 0.0009065530499798851, 'share_training_batches': 'T'}. Best is trial 18 with value: 96.51855598020424.\n"
          ]
        },
        {
          "name": "stdout",
          "output_type": "stream",
          "text": [
            "\n",
            "[Summary]\n",
            "best epoch:  247\n",
            "val score:  96.1294769857298\n",
            "BlendProperty10\n",
            "Device:        CUDA\n",
            "\n",
            "[Summary]\n",
            "best epoch:  290\n",
            "val score:  96.40208729268873\n",
            "Device:        CUDA\n",
            "\n",
            "[Summary]\n",
            "best epoch:  452\n",
            "val score:  95.66868999425103\n",
            "Device:        CUDA\n",
            "\n",
            "[Summary]\n",
            "best epoch:  15\n",
            "val score:  88.35846343461205\n",
            "Device:        CUDA\n",
            "\n",
            "[Summary]\n",
            "best epoch:  429\n",
            "val score:  95.94979042954304\n",
            "Device:        CUDA\n"
          ]
        },
        {
          "name": "stderr",
          "output_type": "stream",
          "text": [
            "[I 2025-07-22 22:02:56,806] Trial 34 finished with value: 94.34267658667342 and parameters: {'embedding_type': 'PeriodicEmbeddings', 'n_bins': 72, 'd_embedding': 16, 'n_blocks': 1, 'd_block': 736, 'arch_type': 'tabm', 'lr': 0.00023072106685808182, 'weight_decay': 0.002635690065122342, 'share_training_batches': 'T'}. Best is trial 18 with value: 96.51855598020424.\n"
          ]
        },
        {
          "name": "stdout",
          "output_type": "stream",
          "text": [
            "\n",
            "[Summary]\n",
            "best epoch:  136\n",
            "val score:  95.33435165443841\n",
            "BlendProperty10\n",
            "Device:        CUDA\n",
            "\n",
            "[Summary]\n",
            "best epoch:  247\n",
            "val score:  96.5106457581415\n",
            "Device:        CUDA\n",
            "\n",
            "[Summary]\n",
            "best epoch:  68\n",
            "val score:  94.65011914863305\n",
            "Device:        CUDA\n",
            "\n",
            "[Summary]\n",
            "best epoch:  255\n",
            "val score:  96.98253753868973\n",
            "Device:        CUDA\n",
            "\n",
            "[Summary]\n",
            "best epoch:  281\n",
            "val score:  96.44904493299477\n",
            "Device:        CUDA\n"
          ]
        },
        {
          "name": "stderr",
          "output_type": "stream",
          "text": [
            "[I 2025-07-22 22:04:06,465] Trial 35 finished with value: 95.98477542239253 and parameters: {'embedding_type': 'PeriodicEmbeddings', 'n_bins': 81, 'd_embedding': 24, 'n_blocks': 1, 'd_block': 832, 'arch_type': 'tabm-mini', 'lr': 0.0007729453801348326, 'weight_decay': 0.004457195612574385, 'share_training_batches': 'T'}. Best is trial 18 with value: 96.51855598020424.\n"
          ]
        },
        {
          "name": "stdout",
          "output_type": "stream",
          "text": [
            "\n",
            "[Summary]\n",
            "best epoch:  172\n",
            "val score:  95.33152991138837\n",
            "BlendProperty10\n",
            "Device:        CUDA\n",
            "\n",
            "[Summary]\n",
            "best epoch:  101\n",
            "val score:  93.73109523645219\n",
            "Device:        CUDA\n",
            "\n",
            "[Summary]\n",
            "best epoch:  164\n",
            "val score:  94.00834443376345\n",
            "Device:        CUDA\n",
            "\n",
            "[Summary]\n",
            "best epoch:  74\n",
            "val score:  96.22216407100068\n",
            "Device:        CUDA\n",
            "\n",
            "[Summary]\n",
            "best epoch:  205\n",
            "val score:  95.54402841364636\n",
            "Device:        CUDA\n"
          ]
        },
        {
          "name": "stderr",
          "output_type": "stream",
          "text": [
            "[I 2025-07-22 22:05:08,444] Trial 36 finished with value: 93.82951249378985 and parameters: {'embedding_type': 'PiecewiseLinearEmbeddings', 'n_bins': 99, 'd_embedding': 12, 'n_blocks': 2, 'd_block': 912, 'arch_type': 'tabm', 'lr': 0.000349662056218576, 'weight_decay': 0.0010819395090464208, 'share_training_batches': 'T'}. Best is trial 18 with value: 96.51855598020424.\n"
          ]
        },
        {
          "name": "stdout",
          "output_type": "stream",
          "text": [
            "\n",
            "[Summary]\n",
            "best epoch:  109\n",
            "val score:  89.64193003142582\n",
            "BlendProperty10\n",
            "Device:        CUDA\n",
            "\n",
            "[Summary]\n",
            "best epoch:  227\n",
            "val score:  96.20404067065786\n",
            "Device:        CUDA\n",
            "\n",
            "[Summary]\n",
            "best epoch:  234\n",
            "val score:  95.02577534055008\n",
            "Device:        CUDA\n",
            "\n",
            "[Summary]\n",
            "best epoch:  69\n",
            "val score:  96.3937223998501\n",
            "Device:        CUDA\n",
            "\n",
            "[Summary]\n",
            "best epoch:  77\n",
            "val score:  95.08221562513533\n",
            "Device:        CUDA\n"
          ]
        },
        {
          "name": "stderr",
          "output_type": "stream",
          "text": [
            "[I 2025-07-22 22:06:03,803] Trial 37 finished with value: 95.49257701976 and parameters: {'embedding_type': 'PeriodicEmbeddings', 'n_bins': 20, 'd_embedding': 20, 'n_blocks': 1, 'd_block': 992, 'arch_type': 'tabm-mini', 'lr': 0.0013322403645772084, 'weight_decay': 0.06228540011087442, 'share_training_batches': 'T'}. Best is trial 18 with value: 96.51855598020424.\n"
          ]
        },
        {
          "name": "stdout",
          "output_type": "stream",
          "text": [
            "\n",
            "[Summary]\n",
            "best epoch:  101\n",
            "val score:  94.75713139947723\n",
            "BlendProperty10\n",
            "Device:        CUDA\n",
            "\n",
            "[Summary]\n",
            "best epoch:  316\n",
            "val score:  94.93250546648221\n",
            "Device:        CUDA\n",
            "\n",
            "[Summary]\n",
            "best epoch:  115\n",
            "val score:  92.26925878182931\n",
            "Device:        CUDA\n",
            "\n",
            "[Summary]\n",
            "best epoch:  68\n",
            "val score:  96.14999761037967\n",
            "Device:        CUDA\n",
            "\n",
            "[Summary]\n",
            "best epoch:  165\n",
            "val score:  94.47894983870141\n",
            "Device:        CUDA\n"
          ]
        },
        {
          "name": "stderr",
          "output_type": "stream",
          "text": [
            "[I 2025-07-22 22:08:50,119] Trial 38 finished with value: 94.16819744775506 and parameters: {'embedding_type': 'PeriodicEmbeddings', 'n_bins': 60, 'd_embedding': 16, 'n_blocks': 4, 'd_block': 928, 'arch_type': 'tabm', 'lr': 0.0005741194561864507, 'weight_decay': 0.001443975513565306, 'share_training_batches': 'F'}. Best is trial 18 with value: 96.51855598020424.\n"
          ]
        },
        {
          "name": "stdout",
          "output_type": "stream",
          "text": [
            "\n",
            "[Summary]\n",
            "best epoch:  85\n",
            "val score:  93.01027424414369\n",
            "BlendProperty10\n",
            "Device:        CUDA\n",
            "\n",
            "[Summary]\n",
            "best epoch:  419\n",
            "val score:  95.1063826241914\n",
            "Device:        CUDA\n",
            "\n",
            "[Summary]\n",
            "best epoch:  152\n",
            "val score:  95.56940783034352\n",
            "Device:        CUDA\n",
            "\n",
            "[Summary]\n",
            "best epoch:  439\n",
            "val score:  97.22031512133339\n",
            "Device:        CUDA\n",
            "\n",
            "[Summary]\n",
            "best epoch:  265\n",
            "val score:  96.95021420826806\n",
            "Device:        CUDA\n"
          ]
        },
        {
          "name": "stderr",
          "output_type": "stream",
          "text": [
            "[I 2025-07-22 22:10:17,885] Trial 39 finished with value: 96.1542893644171 and parameters: {'embedding_type': 'PiecewiseLinearEmbeddings', 'n_bins': 82, 'd_embedding': 12, 'n_blocks': 1, 'd_block': 784, 'arch_type': 'tabm-mini', 'lr': 0.0011344740045614273, 'weight_decay': 0.0045082284439191, 'share_training_batches': 'T'}. Best is trial 18 with value: 96.51855598020424.\n"
          ]
        },
        {
          "name": "stdout",
          "output_type": "stream",
          "text": [
            "\n",
            "[Summary]\n",
            "best epoch:  294\n",
            "val score:  95.92512643293423\n",
            "BlendProperty10\n",
            "Device:        CUDA\n",
            "\n",
            "[Summary]\n",
            "best epoch:  103\n",
            "val score:  95.80997239579173\n",
            "Device:        CUDA\n",
            "\n",
            "[Summary]\n",
            "best epoch:  48\n",
            "val score:  92.45779983261052\n",
            "Device:        CUDA\n",
            "\n",
            "[Summary]\n",
            "best epoch:  255\n",
            "val score:  97.06715901437052\n",
            "Device:        CUDA\n",
            "\n",
            "[Summary]\n",
            "best epoch:  157\n",
            "val score:  94.42595944685094\n",
            "Device:        CUDA\n"
          ]
        },
        {
          "name": "stderr",
          "output_type": "stream",
          "text": [
            "[I 2025-07-22 22:11:24,532] Trial 40 finished with value: 94.37099768733326 and parameters: {'embedding_type': 'PeriodicEmbeddings', 'n_bins': 33, 'd_embedding': 20, 'n_blocks': 2, 'd_block': 304, 'arch_type': 'tabm', 'lr': 0.001750098857902372, 'weight_decay': 0.002649231391093567, 'share_training_batches': 'F'}. Best is trial 18 with value: 96.51855598020424.\n"
          ]
        },
        {
          "name": "stdout",
          "output_type": "stream",
          "text": [
            "\n",
            "[Summary]\n",
            "best epoch:  161\n",
            "val score:  92.09409722072236\n",
            "BlendProperty10\n",
            "Device:        CUDA\n",
            "\n",
            "[Summary]\n",
            "best epoch:  236\n",
            "val score:  95.11833620422027\n",
            "Device:        CUDA\n",
            "\n",
            "[Summary]\n",
            "best epoch:  85\n",
            "val score:  94.92020231178579\n",
            "Device:        CUDA\n",
            "\n",
            "[Summary]\n",
            "best epoch:  386\n",
            "val score:  97.01913342098979\n",
            "Device:        CUDA\n",
            "\n",
            "[Summary]\n",
            "best epoch:  315\n",
            "val score:  97.4730874356978\n",
            "Device:        CUDA\n"
          ]
        },
        {
          "name": "stderr",
          "output_type": "stream",
          "text": [
            "[I 2025-07-22 22:12:36,666] Trial 41 finished with value: 96.24905564471695 and parameters: {'embedding_type': 'PiecewiseLinearEmbeddings', 'n_bins': 86, 'd_embedding': 12, 'n_blocks': 1, 'd_block': 752, 'arch_type': 'tabm-mini', 'lr': 0.001161871811252485, 'weight_decay': 0.004983694816702544, 'share_training_batches': 'T'}. Best is trial 18 with value: 96.51855598020424.\n"
          ]
        },
        {
          "name": "stdout",
          "output_type": "stream",
          "text": [
            "\n",
            "[Summary]\n",
            "best epoch:  199\n",
            "val score:  96.71451928203597\n",
            "BlendProperty10\n",
            "Device:        CUDA\n",
            "\n",
            "[Summary]\n",
            "best epoch:  211\n",
            "val score:  94.7271843386047\n",
            "Device:        CUDA\n",
            "\n",
            "[Summary]\n",
            "best epoch:  168\n",
            "val score:  94.75902521654086\n",
            "Device:        CUDA\n",
            "\n",
            "[Summary]\n",
            "best epoch:  85\n",
            "val score:  95.47279259080396\n",
            "Device:        CUDA\n",
            "\n",
            "[Summary]\n",
            "best epoch:  281\n",
            "val score:  97.29771731311784\n",
            "Device:        CUDA\n"
          ]
        },
        {
          "name": "stderr",
          "output_type": "stream",
          "text": [
            "[I 2025-07-22 22:13:36,109] Trial 42 finished with value: 95.25229159660383 and parameters: {'embedding_type': 'PiecewiseLinearEmbeddings', 'n_bins': 87, 'd_embedding': 8, 'n_blocks': 1, 'd_block': 736, 'arch_type': 'tabm-mini', 'lr': 0.0008653799929564706, 'weight_decay': 0.010260490076079374, 'share_training_batches': 'T'}. Best is trial 18 with value: 96.51855598020424.\n"
          ]
        },
        {
          "name": "stdout",
          "output_type": "stream",
          "text": [
            "\n",
            "[Summary]\n",
            "best epoch:  137\n",
            "val score:  94.00473824318718\n",
            "BlendProperty10\n",
            "Device:        CUDA\n",
            "\n",
            "[Summary]\n",
            "best epoch:  332\n",
            "val score:  94.18287094244185\n",
            "Device:        CUDA\n",
            "\n",
            "[Summary]\n",
            "best epoch:  103\n",
            "val score:  94.84410843647578\n",
            "Device:        CUDA\n",
            "\n",
            "[Summary]\n",
            "best epoch:  51\n",
            "val score:  95.58189834522851\n",
            "Device:        CUDA\n",
            "\n",
            "[Summary]\n",
            "best epoch:  178\n",
            "val score:  96.51445804492516\n",
            "Device:        CUDA\n"
          ]
        },
        {
          "name": "stderr",
          "output_type": "stream",
          "text": [
            "[I 2025-07-22 22:14:37,241] Trial 43 finished with value: 95.18106590194976 and parameters: {'embedding_type': 'PiecewiseLinearEmbeddings', 'n_bins': 121, 'd_embedding': 12, 'n_blocks': 1, 'd_block': 656, 'arch_type': 'tabm-mini', 'lr': 0.0006402023404521618, 'weight_decay': 0.015274394466809657, 'share_training_batches': 'T'}. Best is trial 18 with value: 96.51855598020424.\n"
          ]
        },
        {
          "name": "stdout",
          "output_type": "stream",
          "text": [
            "\n",
            "[Summary]\n",
            "best epoch:  299\n",
            "val score:  94.78199409649653\n",
            "BlendProperty10\n",
            "Device:        CUDA\n",
            "\n",
            "[Summary]\n",
            "best epoch:  206\n",
            "val score:  94.19681103352238\n",
            "Device:        CUDA\n",
            "\n",
            "[Summary]\n",
            "best epoch:  100\n",
            "val score:  94.1746966146371\n",
            "Device:        CUDA\n",
            "\n",
            "[Summary]\n",
            "best epoch:  282\n",
            "val score:  95.64707750344978\n",
            "Device:        CUDA\n",
            "\n",
            "[Summary]\n",
            "best epoch:  141\n",
            "val score:  95.74916612576035\n",
            "Device:        CUDA\n"
          ]
        },
        {
          "name": "stderr",
          "output_type": "stream",
          "text": [
            "[I 2025-07-22 22:15:41,781] Trial 44 finished with value: 95.10840798531763 and parameters: {'embedding_type': 'PiecewiseLinearEmbeddings', 'n_bins': 69, 'd_embedding': 16, 'n_blocks': 1, 'd_block': 528, 'arch_type': 'tabm-mini', 'lr': 0.00030187539361411044, 'weight_decay': 0.005943160667304173, 'share_training_batches': 'T'}. Best is trial 18 with value: 96.51855598020424.\n"
          ]
        },
        {
          "name": "stdout",
          "output_type": "stream",
          "text": [
            "\n",
            "[Summary]\n",
            "best epoch:  278\n",
            "val score:  95.77428866177797\n",
            "BlendProperty10\n",
            "Device:        CUDA\n"
          ]
        },
        {
          "name": "stderr",
          "output_type": "stream",
          "text": [
            "[I 2025-07-22 22:15:52,547] Trial 45 pruned. \n"
          ]
        },
        {
          "name": "stdout",
          "output_type": "stream",
          "text": [
            "\n",
            "[Summary]\n",
            "best epoch:  85\n",
            "val score:  93.50012992234791\n",
            "BlendProperty10\n",
            "Device:        CUDA\n"
          ]
        },
        {
          "name": "stderr",
          "output_type": "stream",
          "text": [
            "[I 2025-07-22 22:16:02,558] Trial 46 pruned. \n"
          ]
        },
        {
          "name": "stdout",
          "output_type": "stream",
          "text": [
            "\n",
            "[Summary]\n",
            "best epoch:  141\n",
            "val score:  94.04502660036087\n",
            "BlendProperty10\n",
            "Device:        CUDA\n",
            "\n",
            "[Summary]\n",
            "best epoch:  388\n",
            "val score:  96.75681781681145\n",
            "Device:        CUDA\n",
            "\n",
            "[Summary]\n",
            "best epoch:  148\n",
            "val score:  95.84765003665404\n",
            "Device:        CUDA\n",
            "\n",
            "[Summary]\n",
            "best epoch:  209\n",
            "val score:  94.19539350578013\n",
            "Device:        CUDA\n",
            "\n",
            "[Summary]\n",
            "best epoch:  206\n",
            "val score:  95.63995042048833\n",
            "Device:        CUDA\n"
          ]
        },
        {
          "name": "stderr",
          "output_type": "stream",
          "text": [
            "[I 2025-07-22 22:17:17,853] Trial 47 finished with value: 95.6289862264704 and parameters: {'embedding_type': 'PeriodicEmbeddings', 'n_bins': 44, 'd_embedding': 20, 'n_blocks': 1, 'd_block': 560, 'arch_type': 'tabm-mini', 'lr': 0.00038954894832851655, 'weight_decay': 0.0006302002940684805, 'share_training_batches': 'T'}. Best is trial 18 with value: 96.51855598020424.\n"
          ]
        },
        {
          "name": "stdout",
          "output_type": "stream",
          "text": [
            "\n",
            "[Summary]\n",
            "best epoch:  238\n",
            "val score:  95.70512021070017\n",
            "BlendProperty10\n",
            "Device:        CUDA\n",
            "\n",
            "[Summary]\n",
            "best epoch:  135\n",
            "val score:  95.8306076552938\n",
            "Device:        CUDA\n",
            "\n",
            "[Summary]\n",
            "best epoch:  108\n",
            "val score:  93.47668327391148\n",
            "Device:        CUDA\n",
            "\n",
            "[Summary]\n",
            "best epoch:  110\n",
            "val score:  91.09011187272914\n",
            "Device:        CUDA\n",
            "\n",
            "[Summary]\n",
            "best epoch:  126\n",
            "val score:  95.0819893137497\n",
            "Device:        CUDA\n"
          ]
        },
        {
          "name": "stderr",
          "output_type": "stream",
          "text": [
            "[I 2025-07-22 22:18:14,893] Trial 48 finished with value: 93.77274855386332 and parameters: {'embedding_type': 'PeriodicEmbeddings', 'n_bins': 87, 'd_embedding': 16, 'n_blocks': 2, 'd_block': 768, 'arch_type': 'tabm-mini', 'lr': 0.0016643167070704537, 'weight_decay': 0.0035799376905669375, 'share_training_batches': 'T'}. Best is trial 18 with value: 96.51855598020424.\n"
          ]
        },
        {
          "name": "stdout",
          "output_type": "stream",
          "text": [
            "\n",
            "[Summary]\n",
            "best epoch:  97\n",
            "val score:  93.38435118689256\n",
            "BlendProperty10\n",
            "Device:        CUDA\n",
            "\n",
            "[Summary]\n",
            "best epoch:  125\n",
            "val score:  94.24790070556543\n",
            "Device:        CUDA\n",
            "\n",
            "[Summary]\n",
            "best epoch:  206\n",
            "val score:  95.07680831148343\n",
            "Device:        CUDA\n",
            "\n",
            "[Summary]\n",
            "best epoch:  75\n",
            "val score:  95.49564856159337\n",
            "Device:        CUDA\n",
            "\n",
            "[Summary]\n",
            "best epoch:  133\n",
            "val score:  96.52636922238504\n",
            "Device:        CUDA\n"
          ]
        },
        {
          "name": "stderr",
          "output_type": "stream",
          "text": [
            "[I 2025-07-22 22:19:13,371] Trial 49 finished with value: 95.42590894162925 and parameters: {'embedding_type': 'PiecewiseLinearEmbeddings', 'n_bins': 50, 'd_embedding': 8, 'n_blocks': 1, 'd_block': 976, 'arch_type': 'tabm', 'lr': 0.0004894210100873883, 'weight_decay': 0.013447553867629141, 'share_training_batches': 'T'}. Best is trial 18 with value: 96.51855598020424.\n"
          ]
        },
        {
          "name": "stdout",
          "output_type": "stream",
          "text": [
            "\n",
            "[Summary]\n",
            "best epoch:  347\n",
            "val score:  95.78281749478158\n",
            "BlendProperty10\n",
            "Device:        CUDA\n",
            "\n",
            "[Summary]\n",
            "best epoch:  238\n",
            "val score:  96.10971763510915\n",
            "Device:        CUDA\n",
            "\n",
            "[Summary]\n",
            "best epoch:  223\n",
            "val score:  95.64791027018252\n",
            "Device:        CUDA\n",
            "\n",
            "[Summary]\n",
            "best epoch:  145\n",
            "val score:  97.12762236595154\n",
            "Device:        CUDA\n",
            "\n",
            "[Summary]\n",
            "best epoch:  159\n",
            "val score:  95.3064349863459\n",
            "Device:        CUDA\n"
          ]
        },
        {
          "name": "stderr",
          "output_type": "stream",
          "text": [
            "[I 2025-07-22 22:20:49,298] Trial 50 finished with value: 96.0355261637473 and parameters: {'embedding_type': 'PeriodicEmbeddings', 'n_bins': 120, 'd_embedding': 12, 'n_blocks': 2, 'd_block': 720, 'arch_type': 'tabm-mini', 'lr': 0.0009988668476611203, 'weight_decay': 0.025439066088660738, 'share_training_batches': 'F'}. Best is trial 18 with value: 96.51855598020424.\n"
          ]
        },
        {
          "name": "stdout",
          "output_type": "stream",
          "text": [
            "\n",
            "[Summary]\n",
            "best epoch:  163\n",
            "val score:  95.98594552234692\n",
            "BlendProperty10\n",
            "Device:        CUDA\n",
            "\n",
            "[Summary]\n",
            "best epoch:  249\n",
            "val score:  95.0592418146484\n",
            "Device:        CUDA\n",
            "\n",
            "[Summary]\n",
            "best epoch:  223\n",
            "val score:  94.53570025370402\n",
            "Device:        CUDA\n",
            "\n",
            "[Summary]\n",
            "best epoch:  63\n",
            "val score:  95.44051240253098\n",
            "Device:        CUDA\n",
            "\n",
            "[Summary]\n",
            "best epoch:  195\n",
            "val score:  97.06360138952732\n",
            "Device:        CUDA\n"
          ]
        },
        {
          "name": "stderr",
          "output_type": "stream",
          "text": [
            "[I 2025-07-22 22:21:55,829] Trial 51 finished with value: 95.68788306443295 and parameters: {'embedding_type': 'PiecewiseLinearEmbeddings', 'n_bins': 78, 'd_embedding': 12, 'n_blocks': 1, 'd_block': 784, 'arch_type': 'tabm-mini', 'lr': 0.0011121469642986122, 'weight_decay': 0.005822903573699023, 'share_training_batches': 'T'}. Best is trial 18 with value: 96.51855598020424.\n"
          ]
        },
        {
          "name": "stdout",
          "output_type": "stream",
          "text": [
            "\n",
            "[Summary]\n",
            "best epoch:  320\n",
            "val score:  96.34036049246788\n",
            "BlendProperty10\n",
            "Device:        CUDA\n",
            "\n",
            "[Summary]\n",
            "best epoch:  243\n",
            "val score:  96.0775367970414\n",
            "Device:        CUDA\n",
            "\n",
            "[Summary]\n",
            "best epoch:  103\n",
            "val score:  94.58149206988952\n",
            "Device:        CUDA\n",
            "\n",
            "[Summary]\n",
            "best epoch:  212\n",
            "val score:  97.75816385141191\n",
            "Device:        CUDA\n",
            "\n",
            "[Summary]\n",
            "best epoch:  212\n",
            "val score:  97.22760269308792\n",
            "Device:        CUDA\n"
          ]
        },
        {
          "name": "stderr",
          "output_type": "stream",
          "text": [
            "/home/FA020/miniconda3/envs/shell_ai/lib/python3.13/site-packages/optuna/trial/_trial.py:501: UserWarning: The reported value is ignored because this `step` 313 is already reported.\n",
            "  warnings.warn(\n",
            "[I 2025-07-22 22:22:53,251] Trial 52 finished with value: 96.40543513021366 and parameters: {'embedding_type': 'PiecewiseLinearEmbeddings', 'n_bins': 92, 'd_embedding': 12, 'n_blocks': 1, 'd_block': 816, 'arch_type': 'tabm-mini', 'lr': 0.002384994952426181, 'weight_decay': 0.004713333388585201, 'share_training_batches': 'T'}. Best is trial 18 with value: 96.51855598020424.\n"
          ]
        },
        {
          "name": "stdout",
          "output_type": "stream",
          "text": [
            "\n",
            "[Summary]\n",
            "best epoch:  86\n",
            "val score:  96.38237995917306\n",
            "BlendProperty10\n",
            "Device:        CUDA\n",
            "\n",
            "[Summary]\n",
            "best epoch:  104\n",
            "val score:  95.72124107576468\n",
            "Device:        CUDA\n",
            "\n",
            "[Summary]\n",
            "best epoch:  58\n",
            "val score:  93.41099627096864\n",
            "Device:        CUDA\n",
            "\n",
            "[Summary]\n",
            "best epoch:  157\n",
            "val score:  96.42933291547439\n",
            "Device:        CUDA\n",
            "\n",
            "[Summary]\n",
            "best epoch:  184\n",
            "val score:  96.70715750578572\n",
            "Device:        CUDA\n"
          ]
        },
        {
          "name": "stderr",
          "output_type": "stream",
          "text": [
            "[I 2025-07-22 22:23:43,840] Trial 53 finished with value: 95.66101578218012 and parameters: {'embedding_type': 'PiecewiseLinearEmbeddings', 'n_bins': 94, 'd_embedding': 16, 'n_blocks': 1, 'd_block': 832, 'arch_type': 'tabm-mini', 'lr': 0.0043288788540367185, 'weight_decay': 0.009771366913066239, 'share_training_batches': 'T'}. Best is trial 18 with value: 96.51855598020424.\n"
          ]
        },
        {
          "name": "stdout",
          "output_type": "stream",
          "text": [
            "\n",
            "[Summary]\n",
            "best epoch:  195\n",
            "val score:  96.03635083664867\n",
            "BlendProperty10\n",
            "Device:        CUDA\n",
            "\n",
            "[Summary]\n",
            "best epoch:  155\n",
            "val score:  96.2467161445495\n",
            "Device:        CUDA\n",
            "\n",
            "[Summary]\n",
            "best epoch:  270\n",
            "val score:  95.50023937926574\n",
            "Device:        CUDA\n",
            "\n",
            "[Summary]\n",
            "best epoch:  226\n",
            "val score:  97.3707192522638\n",
            "Device:        CUDA\n",
            "\n",
            "[Summary]\n",
            "best epoch:  252\n",
            "val score:  97.29638261830105\n",
            "Device:        CUDA\n"
          ]
        },
        {
          "name": "stderr",
          "output_type": "stream",
          "text": [
            "[I 2025-07-22 22:24:59,929] Trial 54 finished with value: 96.57949457181556 and parameters: {'embedding_type': 'PiecewiseLinearEmbeddings', 'n_bins': 92, 'd_embedding': 12, 'n_blocks': 1, 'd_block': 912, 'arch_type': 'tabm-mini', 'lr': 0.0027688870542616787, 'weight_decay': 0.0030531842475737194, 'share_training_batches': 'T'}. Best is trial 54 with value: 96.57949457181556.\n"
          ]
        },
        {
          "name": "stdout",
          "output_type": "stream",
          "text": [
            "\n",
            "[Summary]\n",
            "best epoch:  436\n",
            "val score:  96.48341591305592\n",
            "BlendProperty10\n",
            "Device:        CUDA\n",
            "\n",
            "[Summary]\n",
            "best epoch:  82\n",
            "val score:  95.83370008451097\n",
            "Device:        CUDA\n",
            "\n",
            "[Summary]\n",
            "best epoch:  169\n",
            "val score:  95.21172342493253\n",
            "Device:        CUDA\n",
            "\n",
            "[Summary]\n",
            "best epoch:  214\n",
            "val score:  97.24424989236628\n",
            "Device:        CUDA\n",
            "\n",
            "[Summary]\n",
            "best epoch:  266\n",
            "val score:  96.9040141440928\n",
            "Device:        CUDA\n"
          ]
        },
        {
          "name": "stderr",
          "output_type": "stream",
          "text": [
            "[I 2025-07-22 22:25:59,123] Trial 55 finished with value: 96.11887102286575 and parameters: {'embedding_type': 'PiecewiseLinearEmbeddings', 'n_bins': 105, 'd_embedding': 16, 'n_blocks': 1, 'd_block': 928, 'arch_type': 'tabm-mini', 'lr': 0.003055591494237665, 'weight_decay': 0.0003259173949913701, 'share_training_batches': 'T'}. Best is trial 54 with value: 96.57949457181556.\n"
          ]
        },
        {
          "name": "stdout",
          "output_type": "stream",
          "text": [
            "\n",
            "[Summary]\n",
            "best epoch:  128\n",
            "val score:  95.40066730011912\n",
            "BlendProperty10\n",
            "Device:        CUDA\n",
            "\n",
            "[Summary]\n",
            "best epoch:  36\n",
            "val score:  51.26167071216247\n",
            "Device:        CUDA\n",
            "\n",
            "[Summary]\n",
            "best epoch:  182\n",
            "val score:  92.42416670655503\n",
            "Device:        CUDA\n",
            "\n",
            "[Summary]\n",
            "best epoch:  157\n",
            "val score:  95.38844352697625\n",
            "Device:        CUDA\n",
            "\n",
            "[Summary]\n",
            "best epoch:  70\n",
            "val score:  95.1866733677247\n",
            "Device:        CUDA\n"
          ]
        },
        {
          "name": "stderr",
          "output_type": "stream",
          "text": [
            "[I 2025-07-22 22:26:46,060] Trial 56 finished with value: 84.7545086056392 and parameters: {'embedding_type': 'PeriodicEmbeddings', 'n_bins': 103, 'd_embedding': 12, 'n_blocks': 1, 'd_block': 1008, 'arch_type': 'tabm-mini', 'lr': 0.0027332771230881947, 'weight_decay': 0.0017532743501500975, 'share_training_batches': 'T'}. Best is trial 54 with value: 96.57949457181556.\n"
          ]
        },
        {
          "name": "stdout",
          "output_type": "stream",
          "text": [
            "\n",
            "[Summary]\n",
            "best epoch:  59\n",
            "val score:  89.51159143710838\n",
            "BlendProperty10\n",
            "Device:        CUDA\n",
            "\n",
            "[Summary]\n",
            "best epoch:  60\n",
            "val score:  94.76470469551928\n",
            "Device:        CUDA\n",
            "\n",
            "[Summary]\n",
            "best epoch:  64\n",
            "val score:  92.26674963446224\n",
            "Device:        CUDA\n",
            "\n",
            "[Summary]\n",
            "best epoch:  263\n",
            "val score:  92.27443386745803\n",
            "Device:        CUDA\n",
            "\n",
            "[Summary]\n",
            "best epoch:  105\n",
            "val score:  95.42270924019464\n",
            "Device:        CUDA\n"
          ]
        },
        {
          "name": "stderr",
          "output_type": "stream",
          "text": [
            "[I 2025-07-22 22:27:36,079] Trial 57 finished with value: 93.72377542360346 and parameters: {'embedding_type': 'PeriodicEmbeddings', 'n_bins': 116, 'd_embedding': 8, 'n_blocks': 1, 'd_block': 896, 'arch_type': 'tabm-mini', 'lr': 0.00335321459414738, 'weight_decay': 0.0030469589673844735, 'share_training_batches': 'T'}. Best is trial 54 with value: 96.57949457181556.\n"
          ]
        },
        {
          "name": "stdout",
          "output_type": "stream",
          "text": [
            "\n",
            "[Summary]\n",
            "best epoch:  127\n",
            "val score:  93.89027990400791\n",
            "BlendProperty10\n",
            "Device:        CUDA\n",
            "\n",
            "[Summary]\n",
            "best epoch:  257\n",
            "val score:  95.45832838424865\n",
            "Device:        CUDA\n",
            "\n",
            "[Summary]\n",
            "best epoch:  62\n",
            "val score:  91.94708406267797\n",
            "Device:        CUDA\n",
            "\n",
            "[Summary]\n",
            "best epoch:  162\n",
            "val score:  96.68358266353607\n",
            "Device:        CUDA\n",
            "\n",
            "[Summary]\n",
            "best epoch:  226\n",
            "val score:  95.44599268804578\n",
            "Device:        CUDA\n"
          ]
        },
        {
          "name": "stderr",
          "output_type": "stream",
          "text": [
            "[I 2025-07-22 22:29:52,582] Trial 58 finished with value: 94.43704867524826 and parameters: {'embedding_type': 'PiecewiseLinearEmbeddings', 'n_bins': 70, 'd_embedding': 28, 'n_blocks': 4, 'd_block': 960, 'arch_type': 'tabm-mini', 'lr': 0.0020401768029153717, 'weight_decay': 0.0006855225664127767, 'share_training_batches': 'T'}. Best is trial 54 with value: 96.57949457181556.\n"
          ]
        },
        {
          "name": "stdout",
          "output_type": "stream",
          "text": [
            "\n",
            "[Summary]\n",
            "best epoch:  125\n",
            "val score:  92.65025523217285\n",
            "BlendProperty10\n",
            "Device:        CUDA\n",
            "\n",
            "[Summary]\n",
            "best epoch:  288\n",
            "val score:  96.92790010286605\n",
            "Device:        CUDA\n",
            "\n",
            "[Summary]\n",
            "best epoch:  223\n",
            "val score:  95.39231498013524\n",
            "Device:        CUDA\n",
            "\n",
            "[Summary]\n",
            "best epoch:  95\n",
            "val score:  89.94566061917473\n",
            "Device:        CUDA\n",
            "\n",
            "[Summary]\n",
            "best epoch:  380\n",
            "val score:  96.44211359212504\n",
            "Device:        CUDA\n"
          ]
        },
        {
          "name": "stderr",
          "output_type": "stream",
          "text": [
            "[I 2025-07-22 22:31:06,164] Trial 59 finished with value: 94.84835650757086 and parameters: {'embedding_type': 'PeriodicEmbeddings', 'n_bins': 93, 'd_embedding': 16, 'n_blocks': 1, 'd_block': 864, 'arch_type': 'tabm-mini', 'lr': 0.000584036889016038, 'weight_decay': 0.008072077953497521, 'share_training_batches': 'T'}. Best is trial 54 with value: 96.57949457181556.\n"
          ]
        },
        {
          "name": "stdout",
          "output_type": "stream",
          "text": [
            "\n",
            "[Summary]\n",
            "best epoch:  94\n",
            "val score:  95.53379460292705\n",
            "BlendProperty10\n",
            "Device:        CUDA\n",
            "\n",
            "[Summary]\n",
            "best epoch:  106\n",
            "val score:  94.40739895491039\n",
            "Device:        CUDA\n",
            "\n",
            "[Summary]\n",
            "best epoch:  58\n",
            "val score:  58.96854470757877\n",
            "Device:        CUDA\n",
            "\n",
            "[Summary]\n",
            "best epoch:  98\n",
            "val score:  86.48245051941451\n",
            "Device:        CUDA\n",
            "\n",
            "[Summary]\n",
            "best epoch:  61\n",
            "val score:  82.35784317640697\n",
            "Device:        CUDA\n"
          ]
        },
        {
          "name": "stderr",
          "output_type": "stream",
          "text": [
            "[I 2025-07-22 22:31:53,302] Trial 60 finished with value: 81.71097996025094 and parameters: {'embedding_type': 'PeriodicEmbeddings', 'n_bins': 128, 'd_embedding': 12, 'n_blocks': 2, 'd_block': 816, 'arch_type': 'tabm-mini', 'lr': 0.0034500517476334005, 'weight_decay': 0.00018661698062802297, 'share_training_batches': 'T'}. Best is trial 54 with value: 96.57949457181556.\n"
          ]
        },
        {
          "name": "stdout",
          "output_type": "stream",
          "text": [
            "\n",
            "[Summary]\n",
            "best epoch:  54\n",
            "val score:  86.33866242187865\n",
            "BlendProperty10\n",
            "Device:        CUDA\n"
          ]
        },
        {
          "name": "stderr",
          "output_type": "stream",
          "text": [
            "[I 2025-07-22 22:32:04,215] Trial 61 pruned. \n"
          ]
        },
        {
          "name": "stdout",
          "output_type": "stream",
          "text": [
            "\n",
            "[Summary]\n",
            "best epoch:  155\n",
            "val score:  95.34066618584535\n",
            "BlendProperty10\n",
            "Device:        CUDA\n",
            "\n",
            "[Summary]\n",
            "best epoch:  254\n",
            "val score:  96.18489591076093\n",
            "Device:        CUDA\n",
            "\n",
            "[Summary]\n",
            "best epoch:  211\n",
            "val score:  95.49352991230347\n",
            "Device:        CUDA\n",
            "\n",
            "[Summary]\n",
            "best epoch:  273\n",
            "val score:  97.36759304890738\n",
            "Device:        CUDA\n",
            "\n",
            "[Summary]\n",
            "best epoch:  143\n",
            "val score:  96.8201541889678\n",
            "Device:        CUDA\n"
          ]
        },
        {
          "name": "stderr",
          "output_type": "stream",
          "text": [
            "[I 2025-07-22 22:33:05,986] Trial 62 finished with value: 96.39086070334255 and parameters: {'embedding_type': 'PiecewiseLinearEmbeddings', 'n_bins': 90, 'd_embedding': 12, 'n_blocks': 1, 'd_block': 768, 'arch_type': 'tabm-mini', 'lr': 0.0026934105229611976, 'weight_decay': 0.00321781323787228, 'share_training_batches': 'T'}. Best is trial 54 with value: 96.57949457181556.\n"
          ]
        },
        {
          "name": "stdout",
          "output_type": "stream",
          "text": [
            "\n",
            "[Summary]\n",
            "best epoch:  117\n",
            "val score:  96.08813127612366\n",
            "BlendProperty10\n",
            "Device:        CUDA\n"
          ]
        },
        {
          "name": "stderr",
          "output_type": "stream",
          "text": [
            "[I 2025-07-22 22:33:18,246] Trial 63 pruned. \n"
          ]
        },
        {
          "name": "stdout",
          "output_type": "stream",
          "text": [
            "\n",
            "[Summary]\n",
            "best epoch:  195\n",
            "val score:  95.45080981710377\n",
            "BlendProperty10\n",
            "Device:        CUDA\n",
            "\n",
            "[Summary]\n",
            "best epoch:  205\n",
            "val score:  96.18756110944292\n",
            "Device:        CUDA\n",
            "\n",
            "[Summary]\n",
            "best epoch:  163\n",
            "val score:  94.90470861029975\n",
            "Device:        CUDA\n",
            "\n",
            "[Summary]\n",
            "best epoch:  189\n",
            "val score:  97.47057138558696\n",
            "Device:        CUDA\n",
            "\n",
            "[Summary]\n",
            "best epoch:  106\n",
            "val score:  97.25432987050975\n",
            "Device:        CUDA\n"
          ]
        },
        {
          "name": "stderr",
          "output_type": "stream",
          "text": [
            "[I 2025-07-22 22:34:10,005] Trial 64 finished with value: 95.94864197783532 and parameters: {'embedding_type': 'PiecewiseLinearEmbeddings', 'n_bins': 76, 'd_embedding': 16, 'n_blocks': 1, 'd_block': 896, 'arch_type': 'tabm-mini', 'lr': 0.0024975137427492517, 'weight_decay': 0.003228633763180347, 'share_training_batches': 'T'}. Best is trial 54 with value: 96.57949457181556.\n"
          ]
        },
        {
          "name": "stdout",
          "output_type": "stream",
          "text": [
            "\n",
            "[Summary]\n",
            "best epoch:  83\n",
            "val score:  93.92603907515021\n",
            "BlendProperty10\n",
            "Device:        CUDA\n",
            "\n",
            "[Summary]\n",
            "best epoch:  59\n",
            "val score:  95.8527506712605\n",
            "Device:        CUDA\n",
            "\n",
            "[Summary]\n",
            "best epoch:  122\n",
            "val score:  94.3510326282943\n",
            "Device:        CUDA\n",
            "\n",
            "[Summary]\n",
            "best epoch:  271\n",
            "val score:  97.18453499543317\n",
            "Device:        CUDA\n",
            "\n",
            "[Summary]\n",
            "best epoch:  189\n",
            "val score:  96.98594946633366\n",
            "Device:        CUDA\n"
          ]
        },
        {
          "name": "stderr",
          "output_type": "stream",
          "text": [
            "[I 2025-07-22 22:35:05,970] Trial 65 finished with value: 96.14300279059904 and parameters: {'embedding_type': 'PiecewiseLinearEmbeddings', 'n_bins': 109, 'd_embedding': 12, 'n_blocks': 1, 'd_block': 944, 'arch_type': 'tabm-mini', 'lr': 0.003929149443890139, 'weight_decay': 0.002248333239852768, 'share_training_batches': 'T'}. Best is trial 54 with value: 96.57949457181556.\n"
          ]
        },
        {
          "name": "stdout",
          "output_type": "stream",
          "text": [
            "\n",
            "[Summary]\n",
            "best epoch:  166\n",
            "val score:  96.3407458134872\n",
            "BlendProperty10\n",
            "Device:        CUDA\n"
          ]
        },
        {
          "name": "stderr",
          "output_type": "stream",
          "text": [
            "[I 2025-07-22 22:35:15,994] Trial 66 pruned. \n"
          ]
        },
        {
          "name": "stdout",
          "output_type": "stream",
          "text": [
            "\n",
            "[Summary]\n",
            "best epoch:  117\n",
            "val score:  94.65148737106253\n",
            "BlendProperty10\n",
            "Device:        CUDA\n",
            "\n",
            "[Summary]\n",
            "best epoch:  233\n",
            "val score:  93.734371574486\n",
            "Device:        CUDA\n",
            "\n",
            "[Summary]\n",
            "best epoch:  132\n",
            "val score:  93.92087927416844\n",
            "Device:        CUDA\n",
            "\n",
            "[Summary]\n",
            "best epoch:  108\n",
            "val score:  96.04505248477354\n",
            "Device:        CUDA\n",
            "\n",
            "[Summary]\n",
            "best epoch:  209\n",
            "val score:  96.22830159633475\n",
            "Device:        CUDA\n"
          ]
        },
        {
          "name": "stderr",
          "output_type": "stream",
          "text": [
            "[I 2025-07-22 22:36:19,970] Trial 67 finished with value: 95.12383273080012 and parameters: {'embedding_type': 'PiecewiseLinearEmbeddings', 'n_bins': 100, 'd_embedding': 12, 'n_blocks': 1, 'd_block': 704, 'arch_type': 'tabm-mini', 'lr': 0.0004283071554438425, 'weight_decay': 0.03740427257249803, 'share_training_batches': 'F'}. Best is trial 54 with value: 96.57949457181556.\n"
          ]
        },
        {
          "name": "stdout",
          "output_type": "stream",
          "text": [
            "\n",
            "[Summary]\n",
            "best epoch:  376\n",
            "val score:  95.69055739351931\n",
            "BlendProperty10\n",
            "Device:        CUDA\n"
          ]
        },
        {
          "name": "stderr",
          "output_type": "stream",
          "text": [
            "[I 2025-07-22 22:36:27,930] Trial 68 pruned. \n"
          ]
        },
        {
          "name": "stdout",
          "output_type": "stream",
          "text": [
            "\n",
            "[Summary]\n",
            "best epoch:  75\n",
            "val score:  95.44191415257313\n",
            "BlendProperty10\n",
            "Device:        CUDA\n"
          ]
        },
        {
          "name": "stderr",
          "output_type": "stream",
          "text": [
            "[I 2025-07-22 22:36:49,392] Trial 69 pruned. \n"
          ]
        },
        {
          "name": "stdout",
          "output_type": "stream",
          "text": [
            "\n",
            "[Summary]\n",
            "best epoch:  304\n",
            "val score:  93.15028308945544\n",
            "BlendProperty10\n",
            "Device:        CUDA\n",
            "\n",
            "[Summary]\n",
            "best epoch:  463\n",
            "val score:  92.38976096624837\n",
            "Device:        CUDA\n",
            "\n",
            "[Summary]\n",
            "best epoch:  219\n",
            "val score:  91.50927605874398\n",
            "Device:        CUDA\n",
            "\n",
            "[Summary]\n",
            "best epoch:  25\n",
            "val score:  82.06747432841973\n",
            "Device:        CUDA\n",
            "\n",
            "[Summary]\n",
            "best epoch:  389\n",
            "val score:  94.60234032834278\n",
            "Device:        CUDA\n"
          ]
        },
        {
          "name": "stderr",
          "output_type": "stream",
          "text": [
            "[I 2025-07-22 22:38:11,713] Trial 70 finished with value: 89.59850733756987 and parameters: {'embedding_type': 'PiecewiseLinearEmbeddings', 'n_bins': 20, 'd_embedding': 20, 'n_blocks': 1, 'd_block': 208, 'arch_type': 'tabm-mini', 'lr': 0.0001108212237730055, 'weight_decay': 0.018309845750906766, 'share_training_batches': 'T'}. Best is trial 54 with value: 96.57949457181556.\n"
          ]
        },
        {
          "name": "stdout",
          "output_type": "stream",
          "text": [
            "\n",
            "[Summary]\n",
            "best epoch:  342\n",
            "val score:  87.42368203752181\n",
            "BlendProperty10\n",
            "Device:        CUDA\n"
          ]
        },
        {
          "name": "stderr",
          "output_type": "stream",
          "text": [
            "[I 2025-07-22 22:38:26,529] Trial 71 pruned. \n"
          ]
        },
        {
          "name": "stdout",
          "output_type": "stream",
          "text": [
            "\n",
            "[Summary]\n",
            "best epoch:  262\n",
            "val score:  94.51658211867598\n",
            "BlendProperty10\n",
            "Device:        CUDA\n",
            "\n",
            "[Summary]\n",
            "best epoch:  134\n",
            "val score:  94.53865512109854\n",
            "Device:        CUDA\n"
          ]
        },
        {
          "name": "stderr",
          "output_type": "stream",
          "text": [
            "[I 2025-07-22 22:38:48,634] Trial 72 pruned. \n"
          ]
        },
        {
          "name": "stdout",
          "output_type": "stream",
          "text": [
            "\n",
            "[Summary]\n",
            "best epoch:  166\n",
            "val score:  94.77607696591055\n",
            "BlendProperty10\n",
            "Device:        CUDA\n",
            "\n",
            "[Summary]\n",
            "best epoch:  172\n",
            "val score:  95.08538842201233\n",
            "Device:        CUDA\n",
            "\n",
            "[Summary]\n",
            "best epoch:  68\n",
            "val score:  95.29517611817403\n",
            "Device:        CUDA\n",
            "\n",
            "[Summary]\n",
            "best epoch:  277\n",
            "val score:  97.59353982175098\n",
            "Device:        CUDA\n",
            "\n",
            "[Summary]\n",
            "best epoch:  273\n",
            "val score:  97.15557601302862\n",
            "Device:        CUDA\n"
          ]
        },
        {
          "name": "stderr",
          "output_type": "stream",
          "text": [
            "[I 2025-07-22 22:39:50,335] Trial 73 finished with value: 96.27724421815242 and parameters: {'embedding_type': 'PiecewiseLinearEmbeddings', 'n_bins': 96, 'd_embedding': 12, 'n_blocks': 1, 'd_block': 752, 'arch_type': 'tabm-mini', 'lr': 0.001481115276456055, 'weight_decay': 0.003066528476847115, 'share_training_batches': 'T'}. Best is trial 54 with value: 96.57949457181556.\n"
          ]
        },
        {
          "name": "stdout",
          "output_type": "stream",
          "text": [
            "\n",
            "[Summary]\n",
            "best epoch:  190\n",
            "val score:  96.25654096769937\n",
            "BlendProperty10\n",
            "Device:        CUDA\n",
            "\n",
            "[Summary]\n",
            "best epoch:  245\n",
            "val score:  95.79401078688748\n",
            "Device:        CUDA\n",
            "\n",
            "[Summary]\n",
            "best epoch:  62\n",
            "val score:  94.24265560639255\n",
            "Device:        CUDA\n",
            "\n",
            "[Summary]\n",
            "best epoch:  201\n",
            "val score:  96.42630359705757\n",
            "Device:        CUDA\n",
            "\n",
            "[Summary]\n",
            "best epoch:  212\n",
            "val score:  97.42262394112699\n",
            "Device:        CUDA\n"
          ]
        },
        {
          "name": "stderr",
          "output_type": "stream",
          "text": [
            "[I 2025-07-22 22:40:45,584] Trial 74 finished with value: 96.0692326114178 and parameters: {'embedding_type': 'PiecewiseLinearEmbeddings', 'n_bins': 96, 'd_embedding': 12, 'n_blocks': 1, 'd_block': 864, 'arch_type': 'tabm-mini', 'lr': 0.0014333159956936628, 'weight_decay': 0.002712986871837868, 'share_training_batches': 'T'}. Best is trial 54 with value: 96.57949457181556.\n"
          ]
        },
        {
          "name": "stdout",
          "output_type": "stream",
          "text": [
            "\n",
            "[Summary]\n",
            "best epoch:  98\n",
            "val score:  96.46056857069625\n",
            "BlendProperty10\n",
            "Device:        CUDA\n",
            "\n",
            "[Summary]\n",
            "best epoch:  256\n",
            "val score:  94.88177966764745\n",
            "Device:        CUDA\n",
            "\n",
            "[Summary]\n",
            "best epoch:  66\n",
            "val score:  92.05233315553735\n",
            "Device:        CUDA\n",
            "\n",
            "[Summary]\n",
            "best epoch:  146\n",
            "val score:  95.72549415204455\n",
            "Device:        CUDA\n",
            "\n",
            "[Summary]\n",
            "best epoch:  301\n",
            "val score:  95.47920376062393\n",
            "Device:        CUDA\n"
          ]
        },
        {
          "name": "stderr",
          "output_type": "stream",
          "text": [
            "[I 2025-07-22 22:42:15,021] Trial 75 finished with value: 94.3191752199795 and parameters: {'embedding_type': 'PiecewiseLinearEmbeddings', 'n_bins': 75, 'd_embedding': 16, 'n_blocks': 3, 'd_block': 912, 'arch_type': 'tabm-mini', 'lr': 0.002864927020781033, 'weight_decay': 0.001975544375673949, 'share_training_batches': 'T'}. Best is trial 54 with value: 96.57949457181556.\n"
          ]
        },
        {
          "name": "stdout",
          "output_type": "stream",
          "text": [
            "\n",
            "[Summary]\n",
            "best epoch:  129\n",
            "val score:  93.45706616911818\n",
            "BlendProperty10\n",
            "Device:        CUDA\n",
            "\n",
            "[Summary]\n",
            "best epoch:  237\n",
            "val score:  96.78342419621698\n",
            "Device:        CUDA\n",
            "\n",
            "[Summary]\n",
            "best epoch:  194\n",
            "val score:  95.61692927690113\n",
            "Device:        CUDA\n",
            "\n",
            "[Summary]\n",
            "best epoch:  86\n",
            "val score:  92.76799138854531\n",
            "Device:        CUDA\n",
            "\n",
            "[Summary]\n",
            "best epoch:  401\n",
            "val score:  96.28632630714598\n",
            "Device:        CUDA\n"
          ]
        },
        {
          "name": "stderr",
          "output_type": "stream",
          "text": [
            "[I 2025-07-22 22:43:22,074] Trial 76 finished with value: 95.38208552332297 and parameters: {'embedding_type': 'PeriodicEmbeddings', 'n_bins': 102, 'd_embedding': 8, 'n_blocks': 1, 'd_block': 624, 'arch_type': 'tabm-mini', 'lr': 0.0006077018751024001, 'weight_decay': 0.0007817927978134815, 'share_training_batches': 'T'}. Best is trial 54 with value: 96.57949457181556.\n"
          ]
        },
        {
          "name": "stdout",
          "output_type": "stream",
          "text": [
            "\n",
            "[Summary]\n",
            "best epoch:  102\n",
            "val score:  95.45575612608124\n",
            "BlendProperty10\n",
            "Device:        CUDA\n",
            "\n",
            "[Summary]\n",
            "best epoch:  455\n",
            "val score:  96.72583090689253\n",
            "Device:        CUDA\n",
            "\n",
            "[Summary]\n",
            "best epoch:  177\n",
            "val score:  96.16040965980467\n",
            "Device:        CUDA\n",
            "\n",
            "[Summary]\n",
            "best epoch:  216\n",
            "val score:  95.9010834367398\n",
            "Device:        CUDA\n",
            "\n",
            "[Summary]\n",
            "best epoch:  277\n",
            "val score:  95.87484142359565\n",
            "Device:        CUDA\n"
          ]
        },
        {
          "name": "stderr",
          "output_type": "stream",
          "text": [
            "[I 2025-07-22 22:44:44,579] Trial 77 finished with value: 96.14279968685396 and parameters: {'embedding_type': 'PeriodicEmbeddings', 'n_bins': 81, 'd_embedding': 12, 'n_blocks': 1, 'd_block': 800, 'arch_type': 'tabm-mini', 'lr': 0.00036693529384780897, 'weight_decay': 0.0014543359001007534, 'share_training_batches': 'T'}. Best is trial 54 with value: 96.57949457181556.\n"
          ]
        },
        {
          "name": "stdout",
          "output_type": "stream",
          "text": [
            "\n",
            "[Summary]\n",
            "best epoch:  231\n",
            "val score:  96.05183270485962\n",
            "BlendProperty10\n",
            "Device:        CUDA\n",
            "\n",
            "[Summary]\n",
            "best epoch:  256\n",
            "val score:  96.3035190697102\n",
            "Device:        CUDA\n",
            "\n",
            "[Summary]\n",
            "best epoch:  184\n",
            "val score:  95.4952403136036\n",
            "Device:        CUDA\n",
            "\n",
            "[Summary]\n",
            "best epoch:  500\n",
            "val score:  97.33886456884005\n",
            "Device:        CUDA\n",
            "\n",
            "[Summary]\n",
            "best epoch:  187\n",
            "val score:  97.37123030183069\n",
            "Device:        CUDA\n"
          ]
        },
        {
          "name": "stderr",
          "output_type": "stream",
          "text": [
            "[I 2025-07-22 22:46:00,545] Trial 78 finished with value: 96.71972186146841 and parameters: {'embedding_type': 'PiecewiseLinearEmbeddings', 'n_bins': 108, 'd_embedding': 16, 'n_blocks': 1, 'd_block': 944, 'arch_type': 'tabm-mini', 'lr': 0.0019195820976168688, 'weight_decay': 0.003053777784151312, 'share_training_batches': 'T'}. Best is trial 78 with value: 96.71972186146841.\n"
          ]
        },
        {
          "name": "stdout",
          "output_type": "stream",
          "text": [
            "\n",
            "[Summary]\n",
            "best epoch:  224\n",
            "val score:  97.08975563921473\n",
            "BlendProperty10\n",
            "Device:        CUDA\n"
          ]
        },
        {
          "name": "stderr",
          "output_type": "stream",
          "text": [
            "[I 2025-07-22 22:46:11,251] Trial 79 pruned. \n"
          ]
        },
        {
          "name": "stdout",
          "output_type": "stream",
          "text": [
            "\n",
            "[Summary]\n",
            "best epoch:  67\n",
            "val score:  84.31060967199943\n",
            "BlendProperty10\n",
            "Device:        CUDA\n",
            "\n",
            "[Summary]\n",
            "best epoch:  191\n",
            "val score:  96.3605362264549\n",
            "Device:        CUDA\n",
            "\n",
            "[Summary]\n",
            "best epoch:  155\n",
            "val score:  94.67787261614028\n",
            "Device:        CUDA\n",
            "\n",
            "[Summary]\n",
            "best epoch:  241\n",
            "val score:  97.39457883269472\n",
            "Device:        CUDA\n",
            "\n",
            "[Summary]\n",
            "best epoch:  345\n",
            "val score:  97.20728717853918\n",
            "Device:        CUDA\n"
          ]
        },
        {
          "name": "stderr",
          "output_type": "stream",
          "text": [
            "[I 2025-07-22 22:47:15,313] Trial 80 finished with value: 96.19925982193611 and parameters: {'embedding_type': 'PiecewiseLinearEmbeddings', 'n_bins': 108, 'd_embedding': 16, 'n_blocks': 1, 'd_block': 944, 'arch_type': 'tabm-mini', 'lr': 0.0034669834115523663, 'weight_decay': 0.0023606771161888158, 'share_training_batches': 'T'}. Best is trial 78 with value: 96.71972186146841.\n"
          ]
        },
        {
          "name": "stdout",
          "output_type": "stream",
          "text": [
            "\n",
            "[Summary]\n",
            "best epoch:  55\n",
            "val score:  95.35602429772125\n",
            "BlendProperty10\n",
            "Device:        CUDA\n",
            "\n",
            "[Summary]\n",
            "best epoch:  218\n",
            "val score:  95.67697230069076\n",
            "Device:        CUDA\n",
            "\n",
            "[Summary]\n",
            "best epoch:  181\n",
            "val score:  95.41331164757995\n",
            "Device:        CUDA\n",
            "\n",
            "[Summary]\n",
            "best epoch:  231\n",
            "val score:  97.21037837512353\n",
            "Device:        CUDA\n",
            "\n",
            "[Summary]\n",
            "best epoch:  219\n",
            "val score:  97.19386158839745\n",
            "Device:        CUDA\n"
          ]
        },
        {
          "name": "stderr",
          "output_type": "stream",
          "text": [
            "[I 2025-07-22 22:48:25,426] Trial 81 finished with value: 96.40592255194875 and parameters: {'embedding_type': 'PiecewiseLinearEmbeddings', 'n_bins': 121, 'd_embedding': 16, 'n_blocks': 1, 'd_block': 992, 'arch_type': 'tabm-mini', 'lr': 0.0018954563673442297, 'weight_decay': 0.0030426758190922444, 'share_training_batches': 'T'}. Best is trial 78 with value: 96.71972186146841.\n"
          ]
        },
        {
          "name": "stdout",
          "output_type": "stream",
          "text": [
            "\n",
            "[Summary]\n",
            "best epoch:  252\n",
            "val score:  96.53508886694908\n",
            "BlendProperty10\n",
            "Device:        CUDA\n",
            "\n",
            "[Summary]\n",
            "best epoch:  259\n",
            "val score:  96.55233389314483\n",
            "Device:        CUDA\n",
            "\n",
            "[Summary]\n",
            "best epoch:  137\n",
            "val score:  94.91407267530175\n",
            "Device:        CUDA\n",
            "\n",
            "[Summary]\n",
            "best epoch:  331\n",
            "val score:  97.54021144198144\n",
            "Device:        CUDA\n",
            "\n",
            "[Summary]\n",
            "best epoch:  223\n",
            "val score:  96.93667127148194\n",
            "Device:        CUDA\n"
          ]
        },
        {
          "name": "stderr",
          "output_type": "stream",
          "text": [
            "[I 2025-07-22 22:49:36,338] Trial 82 finished with value: 96.34670678681162 and parameters: {'embedding_type': 'PiecewiseLinearEmbeddings', 'n_bins': 124, 'd_embedding': 16, 'n_blocks': 1, 'd_block': 992, 'arch_type': 'tabm-mini', 'lr': 0.002348664035142827, 'weight_decay': 0.004013761132058041, 'share_training_batches': 'T'}. Best is trial 78 with value: 96.71972186146841.\n"
          ]
        },
        {
          "name": "stdout",
          "output_type": "stream",
          "text": [
            "\n",
            "[Summary]\n",
            "best epoch:  198\n",
            "val score:  95.79024435404469\n",
            "BlendProperty10\n",
            "Device:        CUDA\n",
            "\n",
            "[Summary]\n",
            "best epoch:  156\n",
            "val score:  96.21783309232663\n",
            "Device:        CUDA\n",
            "\n",
            "[Summary]\n",
            "best epoch:  55\n",
            "val score:  94.43680464344867\n",
            "Device:        CUDA\n",
            "\n",
            "[Summary]\n",
            "best epoch:  279\n",
            "val score:  97.58007404777933\n",
            "Device:        CUDA\n",
            "\n",
            "[Summary]\n",
            "best epoch:  87\n",
            "val score:  97.05427159171771\n",
            "Device:        CUDA\n"
          ]
        },
        {
          "name": "stderr",
          "output_type": "stream",
          "text": [
            "[I 2025-07-22 22:50:27,938] Trial 83 finished with value: 96.18385662754352 and parameters: {'embedding_type': 'PiecewiseLinearEmbeddings', 'n_bins': 118, 'd_embedding': 16, 'n_blocks': 1, 'd_block': 992, 'arch_type': 'tabm-mini', 'lr': 0.002445794376793298, 'weight_decay': 0.004201718329997826, 'share_training_batches': 'T'}. Best is trial 78 with value: 96.71972186146841.\n"
          ]
        },
        {
          "name": "stdout",
          "output_type": "stream",
          "text": [
            "\n",
            "[Summary]\n",
            "best epoch:  108\n",
            "val score:  95.630299398566\n",
            "BlendProperty10\n",
            "Device:        CUDA\n",
            "\n",
            "[Summary]\n",
            "best epoch:  253\n",
            "val score:  96.128310175503\n",
            "Device:        CUDA\n",
            "\n",
            "[Summary]\n",
            "best epoch:  102\n",
            "val score:  95.46796658678966\n",
            "Device:        CUDA\n",
            "\n",
            "[Summary]\n",
            "best epoch:  183\n",
            "val score:  96.7826360507923\n",
            "Device:        CUDA\n",
            "\n",
            "[Summary]\n",
            "best epoch:  146\n",
            "val score:  97.18195065746413\n",
            "Device:        CUDA\n"
          ]
        },
        {
          "name": "stderr",
          "output_type": "stream",
          "text": [
            "[I 2025-07-22 22:51:31,064] Trial 84 finished with value: 96.39337027077303 and parameters: {'embedding_type': 'PiecewiseLinearEmbeddings', 'n_bins': 123, 'd_embedding': 16, 'n_blocks': 1, 'd_block': 976, 'arch_type': 'tabm-mini', 'lr': 0.002118999382672561, 'weight_decay': 0.0067881855654657606, 'share_training_batches': 'T'}. Best is trial 78 with value: 96.71972186146841.\n"
          ]
        },
        {
          "name": "stdout",
          "output_type": "stream",
          "text": [
            "\n",
            "[Summary]\n",
            "best epoch:  269\n",
            "val score:  96.4059875894557\n",
            "BlendProperty10\n",
            "Device:        CUDA\n",
            "\n",
            "[Summary]\n",
            "best epoch:  188\n",
            "val score:  96.20831963222693\n",
            "Device:        CUDA\n",
            "\n",
            "[Summary]\n",
            "best epoch:  85\n",
            "val score:  94.96463921797626\n",
            "Device:        CUDA\n",
            "\n",
            "[Summary]\n",
            "best epoch:  21\n",
            "val score:  95.51592044094029\n",
            "Device:        CUDA\n",
            "\n",
            "[Summary]\n",
            "best epoch:  217\n",
            "val score:  97.55369669155164\n",
            "Device:        CUDA\n"
          ]
        },
        {
          "name": "stderr",
          "output_type": "stream",
          "text": [
            "[I 2025-07-22 22:52:22,925] Trial 85 finished with value: 96.07529580985826 and parameters: {'embedding_type': 'PiecewiseLinearEmbeddings', 'n_bins': 124, 'd_embedding': 20, 'n_blocks': 1, 'd_block': 992, 'arch_type': 'tabm-mini', 'lr': 0.001881795096158181, 'weight_decay': 0.006383797519094872, 'share_training_batches': 'T'}. Best is trial 78 with value: 96.71972186146841.\n"
          ]
        },
        {
          "name": "stdout",
          "output_type": "stream",
          "text": [
            "\n",
            "[Summary]\n",
            "best epoch:  232\n",
            "val score:  96.13390312365749\n",
            "BlendProperty10\n",
            "Device:        CUDA\n",
            "\n",
            "[Summary]\n",
            "best epoch:  108\n",
            "val score:  95.88738716043093\n",
            "Device:        CUDA\n",
            "\n",
            "[Summary]\n",
            "best epoch:  127\n",
            "val score:  95.51566553247325\n",
            "Device:        CUDA\n",
            "\n",
            "[Summary]\n",
            "best epoch:  211\n",
            "val score:  97.15416760676924\n",
            "Device:        CUDA\n",
            "\n",
            "[Summary]\n",
            "best epoch:  150\n",
            "val score:  97.25127540638341\n",
            "Device:        CUDA\n"
          ]
        },
        {
          "name": "stderr",
          "output_type": "stream",
          "text": [
            "[I 2025-07-22 22:53:20,395] Trial 86 finished with value: 96.4370730867167 and parameters: {'embedding_type': 'PiecewiseLinearEmbeddings', 'n_bins': 114, 'd_embedding': 16, 'n_blocks': 1, 'd_block': 976, 'arch_type': 'tabm-mini', 'lr': 0.001982837781757888, 'weight_decay': 0.011739849242643367, 'share_training_batches': 'T'}. Best is trial 78 with value: 96.71972186146841.\n"
          ]
        },
        {
          "name": "stdout",
          "output_type": "stream",
          "text": [
            "\n",
            "[Summary]\n",
            "best epoch:  236\n",
            "val score:  96.37686984394404\n",
            "BlendProperty10\n",
            "Device:        CUDA\n",
            "\n",
            "[Summary]\n",
            "best epoch:  374\n",
            "val score:  96.39485223109232\n",
            "Device:        CUDA\n",
            "\n",
            "[Summary]\n",
            "best epoch:  83\n",
            "val score:  94.65669105377268\n",
            "Device:        CUDA\n",
            "\n",
            "[Summary]\n",
            "best epoch:  41\n",
            "val score:  94.59957084892427\n",
            "Device:        CUDA\n",
            "\n",
            "[Summary]\n",
            "best epoch:  498\n",
            "val score:  97.33058226240031\n",
            "Device:        CUDA\n"
          ]
        },
        {
          "name": "stderr",
          "output_type": "stream",
          "text": [
            "[I 2025-07-22 22:54:25,698] Trial 87 finished with value: 95.87175072478624 and parameters: {'embedding_type': 'PiecewiseLinearEmbeddings', 'n_bins': 111, 'd_embedding': 16, 'n_blocks': 1, 'd_block': 944, 'arch_type': 'tabm-mini', 'lr': 0.0019293942077828695, 'weight_decay': 0.014233183172707378, 'share_training_batches': 'T'}. Best is trial 78 with value: 96.71972186146841.\n"
          ]
        },
        {
          "name": "stdout",
          "output_type": "stream",
          "text": [
            "\n",
            "[Summary]\n",
            "best epoch:  59\n",
            "val score:  96.37705646455288\n",
            "BlendProperty10\n",
            "Device:        CUDA\n",
            "\n",
            "[Summary]\n",
            "best epoch:  215\n",
            "val score:  96.18766243186067\n",
            "Device:        CUDA\n",
            "\n",
            "[Summary]\n",
            "best epoch:  75\n",
            "val score:  94.93062348269365\n",
            "Device:        CUDA\n",
            "\n",
            "[Summary]\n",
            "best epoch:  316\n",
            "val score:  97.42939997026149\n",
            "Device:        CUDA\n",
            "\n",
            "[Summary]\n",
            "best epoch:  192\n",
            "val score:  97.371690813452\n",
            "Device:        CUDA\n"
          ]
        },
        {
          "name": "stderr",
          "output_type": "stream",
          "text": [
            "[I 2025-07-22 22:55:32,700] Trial 88 finished with value: 96.5590300941921 and parameters: {'embedding_type': 'PiecewiseLinearEmbeddings', 'n_bins': 115, 'd_embedding': 20, 'n_blocks': 1, 'd_block': 1024, 'arch_type': 'tabm-mini', 'lr': 0.0016452641169419377, 'weight_decay': 0.011309274657589704, 'share_training_batches': 'T'}. Best is trial 78 with value: 96.71972186146841.\n"
          ]
        },
        {
          "name": "stdout",
          "output_type": "stream",
          "text": [
            "\n",
            "[Summary]\n",
            "best epoch:  242\n",
            "val score:  96.87577378662193\n",
            "BlendProperty10\n",
            "Device:        CUDA\n",
            "\n",
            "[Summary]\n",
            "best epoch:  172\n",
            "val score:  96.02324449840714\n",
            "Device:        CUDA\n",
            "\n",
            "[Summary]\n",
            "best epoch:  150\n",
            "val score:  95.35738068687566\n",
            "Device:        CUDA\n",
            "\n",
            "[Summary]\n",
            "best epoch:  308\n",
            "val score:  97.26711449158542\n",
            "Device:        CUDA\n",
            "\n",
            "[Summary]\n",
            "best epoch:  258\n",
            "val score:  97.30778669061907\n",
            "Device:        CUDA\n"
          ]
        },
        {
          "name": "stderr",
          "output_type": "stream",
          "text": [
            "[I 2025-07-22 22:56:41,533] Trial 89 finished with value: 96.4323907207328 and parameters: {'embedding_type': 'PiecewiseLinearEmbeddings', 'n_bins': 114, 'd_embedding': 24, 'n_blocks': 1, 'd_block': 960, 'arch_type': 'tabm-mini', 'lr': 0.0016249174256469487, 'weight_decay': 0.011806687563684224, 'share_training_batches': 'T'}. Best is trial 78 with value: 96.71972186146841.\n"
          ]
        },
        {
          "name": "stdout",
          "output_type": "stream",
          "text": [
            "\n",
            "[Summary]\n",
            "best epoch:  151\n",
            "val score:  96.20642704779611\n",
            "BlendProperty10\n",
            "Device:        CUDA\n",
            "\n",
            "[Summary]\n",
            "best epoch:  338\n",
            "val score:  96.08123099760098\n",
            "Device:        CUDA\n",
            "\n",
            "[Summary]\n",
            "best epoch:  223\n",
            "val score:  94.92066331646022\n",
            "Device:        CUDA\n",
            "\n",
            "[Summary]\n",
            "best epoch:  304\n",
            "val score:  97.05128492239643\n",
            "Device:        CUDA\n",
            "\n",
            "[Summary]\n",
            "best epoch:  207\n",
            "val score:  97.23798935027683\n",
            "Device:        CUDA\n"
          ]
        },
        {
          "name": "stderr",
          "output_type": "stream",
          "text": [
            "[I 2025-07-22 22:58:09,859] Trial 90 finished with value: 96.39296098426772 and parameters: {'embedding_type': 'PiecewiseLinearEmbeddings', 'n_bins': 114, 'd_embedding': 28, 'n_blocks': 1, 'd_block': 1024, 'arch_type': 'tabm-mini', 'lr': 0.0015598905129465817, 'weight_decay': 0.011752067253037533, 'share_training_batches': 'T'}. Best is trial 78 with value: 96.71972186146841.\n"
          ]
        },
        {
          "name": "stdout",
          "output_type": "stream",
          "text": [
            "\n",
            "[Summary]\n",
            "best epoch:  355\n",
            "val score:  96.67363605626366\n",
            "BlendProperty10\n",
            "Device:        CUDA\n",
            "\n",
            "[Summary]\n",
            "best epoch:  260\n",
            "val score:  96.24779395868673\n",
            "Device:        CUDA\n",
            "\n",
            "[Summary]\n",
            "best epoch:  90\n",
            "val score:  94.60169294958605\n",
            "Device:        CUDA\n",
            "\n",
            "[Summary]\n",
            "best epoch:  127\n",
            "val score:  96.93346001646098\n",
            "Device:        CUDA\n",
            "\n",
            "[Summary]\n",
            "best epoch:  96\n",
            "val score:  97.3202064523802\n",
            "Device:        CUDA\n"
          ]
        },
        {
          "name": "stderr",
          "output_type": "stream",
          "text": [
            "[I 2025-07-22 22:59:05,872] Trial 91 finished with value: 96.21652314758843 and parameters: {'embedding_type': 'PiecewiseLinearEmbeddings', 'n_bins': 115, 'd_embedding': 28, 'n_blocks': 1, 'd_block': 1024, 'arch_type': 'tabm-mini', 'lr': 0.0015442767122627167, 'weight_decay': 0.011465746278923944, 'share_training_batches': 'T'}. Best is trial 78 with value: 96.71972186146841.\n"
          ]
        },
        {
          "name": "stdout",
          "output_type": "stream",
          "text": [
            "\n",
            "[Summary]\n",
            "best epoch:  177\n",
            "val score:  95.97946261329686\n",
            "BlendProperty10\n",
            "Device:        CUDA\n",
            "\n",
            "[Summary]\n",
            "best epoch:  421\n",
            "val score:  96.48568050607162\n",
            "Device:        CUDA\n",
            "\n",
            "[Summary]\n",
            "best epoch:  157\n",
            "val score:  95.18369138240814\n",
            "Device:        CUDA\n",
            "\n",
            "[Summary]\n",
            "best epoch:  287\n",
            "val score:  97.41486796890112\n",
            "Device:        CUDA\n",
            "\n",
            "[Summary]\n",
            "best epoch:  168\n",
            "val score:  97.20811452168752\n",
            "Device:        CUDA\n"
          ]
        },
        {
          "name": "stderr",
          "output_type": "stream",
          "text": [
            "[I 2025-07-22 23:00:32,794] Trial 92 finished with value: 96.51868496280358 and parameters: {'embedding_type': 'PiecewiseLinearEmbeddings', 'n_bins': 122, 'd_embedding': 32, 'n_blocks': 1, 'd_block': 976, 'arch_type': 'tabm-mini', 'lr': 0.0016182751900616636, 'weight_decay': 0.018378808465399337, 'share_training_batches': 'T'}. Best is trial 78 with value: 96.71972186146841.\n"
          ]
        },
        {
          "name": "stdout",
          "output_type": "stream",
          "text": [
            "\n",
            "[Summary]\n",
            "best epoch:  350\n",
            "val score:  96.30107130745755\n",
            "BlendProperty10\n",
            "Device:        CUDA\n",
            "\n",
            "[Summary]\n",
            "best epoch:  379\n",
            "val score:  96.73543755403337\n",
            "Device:        CUDA\n",
            "\n",
            "[Summary]\n",
            "best epoch:  76\n",
            "val score:  94.9740200467846\n",
            "Device:        CUDA\n",
            "\n",
            "[Summary]\n",
            "best epoch:  42\n",
            "val score:  95.48590928316116\n",
            "Device:        CUDA\n",
            "\n",
            "[Summary]\n",
            "best epoch:  224\n",
            "val score:  97.47139157946495\n",
            "Device:        CUDA\n"
          ]
        },
        {
          "name": "stderr",
          "output_type": "stream",
          "text": [
            "[I 2025-07-22 23:01:34,842] Trial 93 finished with value: 96.17952312692456 and parameters: {'embedding_type': 'PiecewiseLinearEmbeddings', 'n_bins': 119, 'd_embedding': 24, 'n_blocks': 1, 'd_block': 976, 'arch_type': 'tabm-mini', 'lr': 0.0016742587266771315, 'weight_decay': 0.02467739831284024, 'share_training_batches': 'T'}. Best is trial 78 with value: 96.71972186146841.\n"
          ]
        },
        {
          "name": "stdout",
          "output_type": "stream",
          "text": [
            "\n",
            "[Summary]\n",
            "best epoch:  212\n",
            "val score:  96.23085758374894\n",
            "BlendProperty10\n",
            "Device:        CUDA\n",
            "\n",
            "[Summary]\n",
            "best epoch:  276\n",
            "val score:  96.04426483240198\n",
            "Device:        CUDA\n",
            "\n",
            "[Summary]\n",
            "best epoch:  205\n",
            "val score:  95.31846301739706\n",
            "Device:        CUDA\n",
            "\n",
            "[Summary]\n",
            "best epoch:  59\n",
            "val score:  95.64534984529018\n",
            "Device:        CUDA\n",
            "\n",
            "[Summary]\n",
            "best epoch:  342\n",
            "val score:  97.45340253609945\n",
            "Device:        CUDA\n"
          ]
        },
        {
          "name": "stderr",
          "output_type": "stream",
          "text": [
            "[I 2025-07-22 23:02:47,496] Trial 94 finished with value: 96.15910251143062 and parameters: {'embedding_type': 'PiecewiseLinearEmbeddings', 'n_bins': 107, 'd_embedding': 32, 'n_blocks': 1, 'd_block': 960, 'arch_type': 'tabm-mini', 'lr': 0.001320082786216, 'weight_decay': 0.018712534568423384, 'share_training_batches': 'T'}. Best is trial 78 with value: 96.71972186146841.\n"
          ]
        },
        {
          "name": "stdout",
          "output_type": "stream",
          "text": [
            "\n",
            "[Summary]\n",
            "best epoch:  204\n",
            "val score:  96.33403240209994\n",
            "BlendProperty10\n",
            "Device:        CUDA\n"
          ]
        },
        {
          "name": "stderr",
          "output_type": "stream",
          "text": [
            "[I 2025-07-22 23:03:04,787] Trial 95 pruned. \n"
          ]
        },
        {
          "name": "stdout",
          "output_type": "stream",
          "text": [
            "\n",
            "[Summary]\n",
            "best epoch:  287\n",
            "val score:  96.58914499313516\n",
            "BlendProperty10\n",
            "Device:        CUDA\n"
          ]
        },
        {
          "name": "stderr",
          "output_type": "stream",
          "text": [
            "[I 2025-07-22 23:03:23,853] Trial 96 pruned. \n"
          ]
        },
        {
          "name": "stdout",
          "output_type": "stream",
          "text": [
            "\n",
            "[Summary]\n",
            "best epoch:  316\n",
            "val score:  96.05331876698662\n",
            "BlendProperty10\n",
            "Device:        CUDA\n",
            "\n",
            "[Summary]\n",
            "best epoch:  392\n",
            "val score:  96.40128016471863\n",
            "Device:        CUDA\n",
            "\n",
            "[Summary]\n",
            "best epoch:  133\n",
            "val score:  95.55852269644247\n",
            "Device:        CUDA\n",
            "\n",
            "[Summary]\n",
            "best epoch:  268\n",
            "val score:  97.41497693364235\n",
            "Device:        CUDA\n",
            "\n",
            "[Summary]\n",
            "best epoch:  307\n",
            "val score:  97.04930728630109\n",
            "Device:        CUDA\n"
          ]
        },
        {
          "name": "stderr",
          "output_type": "stream",
          "text": [
            "[I 2025-07-22 23:04:40,419] Trial 97 finished with value: 96.52674539989684 and parameters: {'embedding_type': 'PiecewiseLinearEmbeddings', 'n_bins': 127, 'd_embedding': 20, 'n_blocks': 1, 'd_block': 928, 'arch_type': 'tabm-mini', 'lr': 0.002198031110995081, 'weight_decay': 0.009505947846850514, 'share_training_batches': 'T'}. Best is trial 78 with value: 96.71972186146841.\n"
          ]
        },
        {
          "name": "stdout",
          "output_type": "stream",
          "text": [
            "\n",
            "[Summary]\n",
            "best epoch:  157\n",
            "val score:  96.20964052155614\n",
            "BlendProperty10\n",
            "Device:        CUDA\n"
          ]
        },
        {
          "name": "stderr",
          "output_type": "stream",
          "text": [
            "[I 2025-07-22 23:05:00,673] Trial 98 pruned. \n"
          ]
        },
        {
          "name": "stdout",
          "output_type": "stream",
          "text": [
            "\n",
            "[Summary]\n",
            "best epoch:  281\n",
            "val score:  95.32442107139265\n",
            "BlendProperty10\n",
            "Device:        CUDA\n",
            "\n",
            "[Summary]\n",
            "best epoch:  346\n",
            "val score:  96.71008451567853\n",
            "Device:        CUDA\n",
            "\n",
            "[Summary]\n",
            "best epoch:  109\n",
            "val score:  94.68775290776702\n",
            "Device:        CUDA\n",
            "\n",
            "[Summary]\n",
            "best epoch:  361\n",
            "val score:  97.41214582258287\n",
            "Device:        CUDA\n",
            "\n",
            "[Summary]\n",
            "best epoch:  135\n",
            "val score:  97.12038804393481\n",
            "Device:        CUDA\n"
          ]
        },
        {
          "name": "stderr",
          "output_type": "stream",
          "text": [
            "[I 2025-07-22 23:06:17,359] Trial 99 finished with value: 96.411086743009 and parameters: {'embedding_type': 'PiecewiseLinearEmbeddings', 'n_bins': 111, 'd_embedding': 20, 'n_blocks': 1, 'd_block': 944, 'arch_type': 'tabm-mini', 'lr': 0.0022574408717637245, 'weight_decay': 0.012025037177732784, 'share_training_batches': 'T'}. Best is trial 78 with value: 96.71972186146841.\n",
            " 12%|█▎        | 1/8 [1:50:35<12:54:05, 6635.05s/it][I 2025-07-22 23:06:17,361] A new study created in memory with name: no-name-d138db5b-8a29-4f23-9d67-286053072136\n"
          ]
        },
        {
          "name": "stdout",
          "output_type": "stream",
          "text": [
            "\n",
            "[Summary]\n",
            "best epoch:  297\n",
            "val score:  96.12506194149746\n",
            "BlendProperty5\n",
            "Device:        CUDA\n",
            "\n",
            "[Summary]\n",
            "best epoch:  924\n",
            "val score:  95.85683364421129\n",
            "Device:        CUDA\n",
            "\n",
            "[Summary]\n",
            "best epoch:  307\n",
            "val score:  95.42129269855864\n",
            "Device:        CUDA\n",
            "\n",
            "[Summary]\n",
            "best epoch:  239\n",
            "val score:  96.98140548870845\n",
            "Device:        CUDA\n",
            "\n",
            "[Summary]\n",
            "best epoch:  269\n",
            "val score:  96.22151472003145\n",
            "Device:        CUDA\n"
          ]
        },
        {
          "name": "stderr",
          "output_type": "stream",
          "text": [
            "[I 2025-07-22 23:09:32,539] Trial 0 finished with value: 95.98491250881413 and parameters: {'embedding_type': 'PiecewiseLinearEmbeddings', 'n_bins': 83, 'd_embedding': 16, 'n_blocks': 2, 'd_block': 880, 'arch_type': 'tabm', 'lr': 0.00018212948384630837, 'weight_decay': 0.0013091179985123755, 'share_training_batches': 'F'}. Best is trial 0 with value: 95.98491250881413.\n"
          ]
        },
        {
          "name": "stdout",
          "output_type": "stream",
          "text": [
            "\n",
            "[Summary]\n",
            "best epoch:  1013\n",
            "val score:  95.44351558913203\n",
            "BlendProperty5\n",
            "Device:        CUDA\n",
            "\n",
            "[Summary]\n",
            "best epoch:  202\n",
            "val score:  98.32901829744087\n",
            "Device:        CUDA\n"
          ]
        },
        {
          "name": "stderr",
          "output_type": "stream",
          "text": [
            "[W 2025-07-22 23:10:08,432] Trial 1 failed with parameters: {'embedding_type': 'PeriodicEmbeddings', 'n_bins': 110, 'd_embedding': 20, 'n_blocks': 4, 'd_block': 432, 'arch_type': 'tabm-mini', 'lr': 0.001307624248577046, 'weight_decay': 0.0064662383046997784, 'share_training_batches': 'T'} because of the following error: KeyboardInterrupt().\n",
            "Traceback (most recent call last):\n",
            "  File \"/home/FA020/miniconda3/envs/shell_ai/lib/python3.13/site-packages/optuna/study/_optimize.py\", line 201, in _run_trial\n",
            "    value_or_values = func(trial)\n",
            "  File \"/tmp/ipykernel_420383/1364787983.py\", line 3, in objective\n",
            "    return apply_tabm_cv(trial, df_train, df_test_pred, feature_cols, target_col)\n",
            "  File \"/tmp/ipykernel_420383/3637537109.py\", line 10, in apply_tabm_cv\n",
            "    score, val_preds, test_preds = apply_tabm(trial, train_fold, val_fold, df_test_pred, feature_cols, target_col)\n",
            "                                   ~~~~~~~~~~^^^^^^^^^^^^^^^^^^^^^^^^^^^^^^^^^^^^^^^^^^^^^^^^^^^^^^^^^^^^^^^^^^^^^\n",
            "  File \"/tmp/ipykernel_420383/3637537109.py\", line 377, in apply_tabm\n",
            "    loss.backward()\n",
            "    ~~~~~~~~~~~~~^^\n",
            "  File \"/home/FA020/miniconda3/envs/shell_ai/lib/python3.13/site-packages/torch/_tensor.py\", line 648, in backward\n",
            "    torch.autograd.backward(\n",
            "    ~~~~~~~~~~~~~~~~~~~~~~~^\n",
            "        self, gradient, retain_graph, create_graph, inputs=inputs\n",
            "        ^^^^^^^^^^^^^^^^^^^^^^^^^^^^^^^^^^^^^^^^^^^^^^^^^^^^^^^^^\n",
            "    )\n",
            "    ^\n",
            "  File \"/home/FA020/miniconda3/envs/shell_ai/lib/python3.13/site-packages/torch/autograd/__init__.py\", line 353, in backward\n",
            "    _engine_run_backward(\n",
            "    ~~~~~~~~~~~~~~~~~~~~^\n",
            "        tensors,\n",
            "        ^^^^^^^^\n",
            "    ...<5 lines>...\n",
            "        accumulate_grad=True,\n",
            "        ^^^^^^^^^^^^^^^^^^^^^\n",
            "    )\n",
            "    ^\n",
            "  File \"/home/FA020/miniconda3/envs/shell_ai/lib/python3.13/site-packages/torch/autograd/graph.py\", line 824, in _engine_run_backward\n",
            "    return Variable._execution_engine.run_backward(  # Calls into the C++ engine to run the backward pass\n",
            "           ~~~~~~~~~~~~~~~~~~~~~~~~~~~~~~~~~~~~~~~^^^^^^^^^^^^^^^^^^^^^^^^^^^^^^^^^^^^^^^^^^^^^^^^^^^^^^^\n",
            "        t_outputs, *args, **kwargs\n",
            "        ^^^^^^^^^^^^^^^^^^^^^^^^^^\n",
            "    )  # Calls into the C++ engine to run the backward pass\n",
            "    ^\n",
            "KeyboardInterrupt\n",
            "[W 2025-07-22 23:10:08,433] Trial 1 failed with value None.\n",
            " 12%|█▎        | 1/8 [1:54:26<13:21:02, 6866.12s/it]\n"
          ]
        },
        {
          "ename": "KeyboardInterrupt",
          "evalue": "",
          "output_type": "error",
          "traceback": [
            "\u001b[31m---------------------------------------------------------------------------\u001b[39m",
            "\u001b[31mKeyboardInterrupt\u001b[39m                         Traceback (most recent call last)",
            "\u001b[36mCell\u001b[39m\u001b[36m \u001b[39m\u001b[32mIn[56]\u001b[39m\u001b[32m, line 6\u001b[39m\n\u001b[32m      3\u001b[39m     \u001b[38;5;28;01mreturn\u001b[39;00m apply_tabm_cv(trial, df_train, df_test_pred, feature_cols, target_col)\n\u001b[32m      5\u001b[39m study = optuna.create_study(sampler=TPESampler(), direction=\u001b[33m'\u001b[39m\u001b[33mmaximize\u001b[39m\u001b[33m'\u001b[39m)\n\u001b[32m----> \u001b[39m\u001b[32m6\u001b[39m \u001b[43mstudy\u001b[49m\u001b[43m.\u001b[49m\u001b[43moptimize\u001b[49m\u001b[43m(\u001b[49m\u001b[43mobjective\u001b[49m\u001b[43m,\u001b[49m\u001b[43m \u001b[49m\u001b[43mn_trials\u001b[49m\u001b[43m=\u001b[49m\u001b[32;43m100\u001b[39;49m\u001b[43m)\u001b[49m\n\u001b[32m      8\u001b[39m studies.append(study)\n\u001b[32m      9\u001b[39m map_hparams = study.best_params\n",
            "\u001b[36mFile \u001b[39m\u001b[32m~/miniconda3/envs/shell_ai/lib/python3.13/site-packages/optuna/study/study.py:489\u001b[39m, in \u001b[36mStudy.optimize\u001b[39m\u001b[34m(self, func, n_trials, timeout, n_jobs, catch, callbacks, gc_after_trial, show_progress_bar)\u001b[39m\n\u001b[32m    387\u001b[39m \u001b[38;5;28;01mdef\u001b[39;00m\u001b[38;5;250m \u001b[39m\u001b[34moptimize\u001b[39m(\n\u001b[32m    388\u001b[39m     \u001b[38;5;28mself\u001b[39m,\n\u001b[32m    389\u001b[39m     func: ObjectiveFuncType,\n\u001b[32m   (...)\u001b[39m\u001b[32m    396\u001b[39m     show_progress_bar: \u001b[38;5;28mbool\u001b[39m = \u001b[38;5;28;01mFalse\u001b[39;00m,\n\u001b[32m    397\u001b[39m ) -> \u001b[38;5;28;01mNone\u001b[39;00m:\n\u001b[32m    398\u001b[39m \u001b[38;5;250m    \u001b[39m\u001b[33;03m\"\"\"Optimize an objective function.\u001b[39;00m\n\u001b[32m    399\u001b[39m \n\u001b[32m    400\u001b[39m \u001b[33;03m    Optimization is done by choosing a suitable set of hyperparameter values from a given\u001b[39;00m\n\u001b[32m   (...)\u001b[39m\u001b[32m    487\u001b[39m \u001b[33;03m            If nested invocation of this method occurs.\u001b[39;00m\n\u001b[32m    488\u001b[39m \u001b[33;03m    \"\"\"\u001b[39;00m\n\u001b[32m--> \u001b[39m\u001b[32m489\u001b[39m     \u001b[43m_optimize\u001b[49m\u001b[43m(\u001b[49m\n\u001b[32m    490\u001b[39m \u001b[43m        \u001b[49m\u001b[43mstudy\u001b[49m\u001b[43m=\u001b[49m\u001b[38;5;28;43mself\u001b[39;49m\u001b[43m,\u001b[49m\n\u001b[32m    491\u001b[39m \u001b[43m        \u001b[49m\u001b[43mfunc\u001b[49m\u001b[43m=\u001b[49m\u001b[43mfunc\u001b[49m\u001b[43m,\u001b[49m\n\u001b[32m    492\u001b[39m \u001b[43m        \u001b[49m\u001b[43mn_trials\u001b[49m\u001b[43m=\u001b[49m\u001b[43mn_trials\u001b[49m\u001b[43m,\u001b[49m\n\u001b[32m    493\u001b[39m \u001b[43m        \u001b[49m\u001b[43mtimeout\u001b[49m\u001b[43m=\u001b[49m\u001b[43mtimeout\u001b[49m\u001b[43m,\u001b[49m\n\u001b[32m    494\u001b[39m \u001b[43m        \u001b[49m\u001b[43mn_jobs\u001b[49m\u001b[43m=\u001b[49m\u001b[43mn_jobs\u001b[49m\u001b[43m,\u001b[49m\n\u001b[32m    495\u001b[39m \u001b[43m        \u001b[49m\u001b[43mcatch\u001b[49m\u001b[43m=\u001b[49m\u001b[38;5;28;43mtuple\u001b[39;49m\u001b[43m(\u001b[49m\u001b[43mcatch\u001b[49m\u001b[43m)\u001b[49m\u001b[43m \u001b[49m\u001b[38;5;28;43;01mif\u001b[39;49;00m\u001b[43m \u001b[49m\u001b[38;5;28;43misinstance\u001b[39;49m\u001b[43m(\u001b[49m\u001b[43mcatch\u001b[49m\u001b[43m,\u001b[49m\u001b[43m \u001b[49m\u001b[43mIterable\u001b[49m\u001b[43m)\u001b[49m\u001b[43m \u001b[49m\u001b[38;5;28;43;01melse\u001b[39;49;00m\u001b[43m \u001b[49m\u001b[43m(\u001b[49m\u001b[43mcatch\u001b[49m\u001b[43m,\u001b[49m\u001b[43m)\u001b[49m\u001b[43m,\u001b[49m\n\u001b[32m    496\u001b[39m \u001b[43m        \u001b[49m\u001b[43mcallbacks\u001b[49m\u001b[43m=\u001b[49m\u001b[43mcallbacks\u001b[49m\u001b[43m,\u001b[49m\n\u001b[32m    497\u001b[39m \u001b[43m        \u001b[49m\u001b[43mgc_after_trial\u001b[49m\u001b[43m=\u001b[49m\u001b[43mgc_after_trial\u001b[49m\u001b[43m,\u001b[49m\n\u001b[32m    498\u001b[39m \u001b[43m        \u001b[49m\u001b[43mshow_progress_bar\u001b[49m\u001b[43m=\u001b[49m\u001b[43mshow_progress_bar\u001b[49m\u001b[43m,\u001b[49m\n\u001b[32m    499\u001b[39m \u001b[43m    \u001b[49m\u001b[43m)\u001b[49m\n",
            "\u001b[36mFile \u001b[39m\u001b[32m~/miniconda3/envs/shell_ai/lib/python3.13/site-packages/optuna/study/_optimize.py:64\u001b[39m, in \u001b[36m_optimize\u001b[39m\u001b[34m(study, func, n_trials, timeout, n_jobs, catch, callbacks, gc_after_trial, show_progress_bar)\u001b[39m\n\u001b[32m     62\u001b[39m \u001b[38;5;28;01mtry\u001b[39;00m:\n\u001b[32m     63\u001b[39m     \u001b[38;5;28;01mif\u001b[39;00m n_jobs == \u001b[32m1\u001b[39m:\n\u001b[32m---> \u001b[39m\u001b[32m64\u001b[39m         \u001b[43m_optimize_sequential\u001b[49m\u001b[43m(\u001b[49m\n\u001b[32m     65\u001b[39m \u001b[43m            \u001b[49m\u001b[43mstudy\u001b[49m\u001b[43m,\u001b[49m\n\u001b[32m     66\u001b[39m \u001b[43m            \u001b[49m\u001b[43mfunc\u001b[49m\u001b[43m,\u001b[49m\n\u001b[32m     67\u001b[39m \u001b[43m            \u001b[49m\u001b[43mn_trials\u001b[49m\u001b[43m,\u001b[49m\n\u001b[32m     68\u001b[39m \u001b[43m            \u001b[49m\u001b[43mtimeout\u001b[49m\u001b[43m,\u001b[49m\n\u001b[32m     69\u001b[39m \u001b[43m            \u001b[49m\u001b[43mcatch\u001b[49m\u001b[43m,\u001b[49m\n\u001b[32m     70\u001b[39m \u001b[43m            \u001b[49m\u001b[43mcallbacks\u001b[49m\u001b[43m,\u001b[49m\n\u001b[32m     71\u001b[39m \u001b[43m            \u001b[49m\u001b[43mgc_after_trial\u001b[49m\u001b[43m,\u001b[49m\n\u001b[32m     72\u001b[39m \u001b[43m            \u001b[49m\u001b[43mreseed_sampler_rng\u001b[49m\u001b[43m=\u001b[49m\u001b[38;5;28;43;01mFalse\u001b[39;49;00m\u001b[43m,\u001b[49m\n\u001b[32m     73\u001b[39m \u001b[43m            \u001b[49m\u001b[43mtime_start\u001b[49m\u001b[43m=\u001b[49m\u001b[38;5;28;43;01mNone\u001b[39;49;00m\u001b[43m,\u001b[49m\n\u001b[32m     74\u001b[39m \u001b[43m            \u001b[49m\u001b[43mprogress_bar\u001b[49m\u001b[43m=\u001b[49m\u001b[43mprogress_bar\u001b[49m\u001b[43m,\u001b[49m\n\u001b[32m     75\u001b[39m \u001b[43m        \u001b[49m\u001b[43m)\u001b[49m\n\u001b[32m     76\u001b[39m     \u001b[38;5;28;01melse\u001b[39;00m:\n\u001b[32m     77\u001b[39m         \u001b[38;5;28;01mif\u001b[39;00m n_jobs == -\u001b[32m1\u001b[39m:\n",
            "\u001b[36mFile \u001b[39m\u001b[32m~/miniconda3/envs/shell_ai/lib/python3.13/site-packages/optuna/study/_optimize.py:161\u001b[39m, in \u001b[36m_optimize_sequential\u001b[39m\u001b[34m(study, func, n_trials, timeout, catch, callbacks, gc_after_trial, reseed_sampler_rng, time_start, progress_bar)\u001b[39m\n\u001b[32m    158\u001b[39m         \u001b[38;5;28;01mbreak\u001b[39;00m\n\u001b[32m    160\u001b[39m \u001b[38;5;28;01mtry\u001b[39;00m:\n\u001b[32m--> \u001b[39m\u001b[32m161\u001b[39m     frozen_trial = \u001b[43m_run_trial\u001b[49m\u001b[43m(\u001b[49m\u001b[43mstudy\u001b[49m\u001b[43m,\u001b[49m\u001b[43m \u001b[49m\u001b[43mfunc\u001b[49m\u001b[43m,\u001b[49m\u001b[43m \u001b[49m\u001b[43mcatch\u001b[49m\u001b[43m)\u001b[49m\n\u001b[32m    162\u001b[39m \u001b[38;5;28;01mfinally\u001b[39;00m:\n\u001b[32m    163\u001b[39m     \u001b[38;5;66;03m# The following line mitigates memory problems that can be occurred in some\u001b[39;00m\n\u001b[32m    164\u001b[39m     \u001b[38;5;66;03m# environments (e.g., services that use computing containers such as GitHub Actions).\u001b[39;00m\n\u001b[32m    165\u001b[39m     \u001b[38;5;66;03m# Please refer to the following PR for further details:\u001b[39;00m\n\u001b[32m    166\u001b[39m     \u001b[38;5;66;03m# https://github.com/optuna/optuna/pull/325.\u001b[39;00m\n\u001b[32m    167\u001b[39m     \u001b[38;5;28;01mif\u001b[39;00m gc_after_trial:\n",
            "\u001b[36mFile \u001b[39m\u001b[32m~/miniconda3/envs/shell_ai/lib/python3.13/site-packages/optuna/study/_optimize.py:253\u001b[39m, in \u001b[36m_run_trial\u001b[39m\u001b[34m(study, func, catch)\u001b[39m\n\u001b[32m    246\u001b[39m         \u001b[38;5;28;01massert\u001b[39;00m \u001b[38;5;28;01mFalse\u001b[39;00m, \u001b[33m\"\u001b[39m\u001b[33mShould not reach.\u001b[39m\u001b[33m\"\u001b[39m\n\u001b[32m    248\u001b[39m \u001b[38;5;28;01mif\u001b[39;00m (\n\u001b[32m    249\u001b[39m     frozen_trial.state == TrialState.FAIL\n\u001b[32m    250\u001b[39m     \u001b[38;5;129;01mand\u001b[39;00m func_err \u001b[38;5;129;01mis\u001b[39;00m \u001b[38;5;129;01mnot\u001b[39;00m \u001b[38;5;28;01mNone\u001b[39;00m\n\u001b[32m    251\u001b[39m     \u001b[38;5;129;01mand\u001b[39;00m \u001b[38;5;129;01mnot\u001b[39;00m \u001b[38;5;28misinstance\u001b[39m(func_err, catch)\n\u001b[32m    252\u001b[39m ):\n\u001b[32m--> \u001b[39m\u001b[32m253\u001b[39m     \u001b[38;5;28;01mraise\u001b[39;00m func_err\n\u001b[32m    254\u001b[39m \u001b[38;5;28;01mreturn\u001b[39;00m frozen_trial\n",
            "\u001b[36mFile \u001b[39m\u001b[32m~/miniconda3/envs/shell_ai/lib/python3.13/site-packages/optuna/study/_optimize.py:201\u001b[39m, in \u001b[36m_run_trial\u001b[39m\u001b[34m(study, func, catch)\u001b[39m\n\u001b[32m    199\u001b[39m \u001b[38;5;28;01mwith\u001b[39;00m get_heartbeat_thread(trial._trial_id, study._storage):\n\u001b[32m    200\u001b[39m     \u001b[38;5;28;01mtry\u001b[39;00m:\n\u001b[32m--> \u001b[39m\u001b[32m201\u001b[39m         value_or_values = \u001b[43mfunc\u001b[49m\u001b[43m(\u001b[49m\u001b[43mtrial\u001b[49m\u001b[43m)\u001b[49m\n\u001b[32m    202\u001b[39m     \u001b[38;5;28;01mexcept\u001b[39;00m exceptions.TrialPruned \u001b[38;5;28;01mas\u001b[39;00m e:\n\u001b[32m    203\u001b[39m         \u001b[38;5;66;03m# TODO(mamu): Handle multi-objective cases.\u001b[39;00m\n\u001b[32m    204\u001b[39m         state = TrialState.PRUNED\n",
            "\u001b[36mCell\u001b[39m\u001b[36m \u001b[39m\u001b[32mIn[56]\u001b[39m\u001b[32m, line 3\u001b[39m, in \u001b[36mobjective\u001b[39m\u001b[34m(trial)\u001b[39m\n\u001b[32m      2\u001b[39m \u001b[38;5;28;01mdef\u001b[39;00m\u001b[38;5;250m \u001b[39m\u001b[34mobjective\u001b[39m(trial):\n\u001b[32m----> \u001b[39m\u001b[32m3\u001b[39m     \u001b[38;5;28;01mreturn\u001b[39;00m \u001b[43mapply_tabm_cv\u001b[49m\u001b[43m(\u001b[49m\u001b[43mtrial\u001b[49m\u001b[43m,\u001b[49m\u001b[43m \u001b[49m\u001b[43mdf_train\u001b[49m\u001b[43m,\u001b[49m\u001b[43m \u001b[49m\u001b[43mdf_test_pred\u001b[49m\u001b[43m,\u001b[49m\u001b[43m \u001b[49m\u001b[43mfeature_cols\u001b[49m\u001b[43m,\u001b[49m\u001b[43m \u001b[49m\u001b[43mtarget_col\u001b[49m\u001b[43m)\u001b[49m\n",
            "\u001b[36mCell\u001b[39m\u001b[36m \u001b[39m\u001b[32mIn[53]\u001b[39m\u001b[32m, line 10\u001b[39m, in \u001b[36mapply_tabm_cv\u001b[39m\u001b[34m(trial, df_train, df_test_pred, feature_cols, target_col)\u001b[39m\n\u001b[32m      7\u001b[39m train_fold = df_train.iloc[train_idx]\n\u001b[32m      8\u001b[39m val_fold = df_train.iloc[val_idx]\n\u001b[32m---> \u001b[39m\u001b[32m10\u001b[39m score, val_preds, test_preds = \u001b[43mapply_tabm\u001b[49m\u001b[43m(\u001b[49m\u001b[43mtrial\u001b[49m\u001b[43m,\u001b[49m\u001b[43m \u001b[49m\u001b[43mtrain_fold\u001b[49m\u001b[43m,\u001b[49m\u001b[43m \u001b[49m\u001b[43mval_fold\u001b[49m\u001b[43m,\u001b[49m\u001b[43m \u001b[49m\u001b[43mdf_test_pred\u001b[49m\u001b[43m,\u001b[49m\u001b[43m \u001b[49m\u001b[43mfeature_cols\u001b[49m\u001b[43m,\u001b[49m\u001b[43m \u001b[49m\u001b[43mtarget_col\u001b[49m\u001b[43m)\u001b[49m\n\u001b[32m     11\u001b[39m df_oof_preds.loc[df_train.index[val_idx], col_name] = val_preds\n\u001b[32m     13\u001b[39m \u001b[38;5;66;03m# results_dir = f'./TabM/CV_b{target_col - 55 + 1}'\u001b[39;00m\n\u001b[32m     14\u001b[39m \u001b[38;5;66;03m# os.makedirs(results_dir, exist_ok=True)\u001b[39;00m\n\u001b[32m     15\u001b[39m \u001b[38;5;66;03m# np.save(f'{results_dir}/test_pred_fold_{fold}.npy', test_preds)\u001b[39;00m\n",
            "\u001b[36mCell\u001b[39m\u001b[36m \u001b[39m\u001b[32mIn[53]\u001b[39m\u001b[32m, line 377\u001b[39m, in \u001b[36mapply_tabm\u001b[39m\u001b[34m(trial, df_train, df_val, df_test_pred, feature_cols, target_col)\u001b[39m\n\u001b[32m    373\u001b[39m     torch.nn.utils.clip_grad.clip_grad_norm_(\n\u001b[32m    374\u001b[39m         model.parameters(), gradient_clipping_norm\n\u001b[32m    375\u001b[39m     )\n\u001b[32m    376\u001b[39m \u001b[38;5;28;01mif\u001b[39;00m grad_scaler \u001b[38;5;129;01mis\u001b[39;00m \u001b[38;5;28;01mNone\u001b[39;00m:\n\u001b[32m--> \u001b[39m\u001b[32m377\u001b[39m     \u001b[43mloss\u001b[49m\u001b[43m.\u001b[49m\u001b[43mbackward\u001b[49m\u001b[43m(\u001b[49m\u001b[43m)\u001b[49m\n\u001b[32m    378\u001b[39m     optimizer.step()\n\u001b[32m    379\u001b[39m \u001b[38;5;28;01melse\u001b[39;00m:\n",
            "\u001b[36mFile \u001b[39m\u001b[32m~/miniconda3/envs/shell_ai/lib/python3.13/site-packages/torch/_tensor.py:648\u001b[39m, in \u001b[36mTensor.backward\u001b[39m\u001b[34m(self, gradient, retain_graph, create_graph, inputs)\u001b[39m\n\u001b[32m    638\u001b[39m \u001b[38;5;28;01mif\u001b[39;00m has_torch_function_unary(\u001b[38;5;28mself\u001b[39m):\n\u001b[32m    639\u001b[39m     \u001b[38;5;28;01mreturn\u001b[39;00m handle_torch_function(\n\u001b[32m    640\u001b[39m         Tensor.backward,\n\u001b[32m    641\u001b[39m         (\u001b[38;5;28mself\u001b[39m,),\n\u001b[32m   (...)\u001b[39m\u001b[32m    646\u001b[39m         inputs=inputs,\n\u001b[32m    647\u001b[39m     )\n\u001b[32m--> \u001b[39m\u001b[32m648\u001b[39m \u001b[43mtorch\u001b[49m\u001b[43m.\u001b[49m\u001b[43mautograd\u001b[49m\u001b[43m.\u001b[49m\u001b[43mbackward\u001b[49m\u001b[43m(\u001b[49m\n\u001b[32m    649\u001b[39m \u001b[43m    \u001b[49m\u001b[38;5;28;43mself\u001b[39;49m\u001b[43m,\u001b[49m\u001b[43m \u001b[49m\u001b[43mgradient\u001b[49m\u001b[43m,\u001b[49m\u001b[43m \u001b[49m\u001b[43mretain_graph\u001b[49m\u001b[43m,\u001b[49m\u001b[43m \u001b[49m\u001b[43mcreate_graph\u001b[49m\u001b[43m,\u001b[49m\u001b[43m \u001b[49m\u001b[43minputs\u001b[49m\u001b[43m=\u001b[49m\u001b[43minputs\u001b[49m\n\u001b[32m    650\u001b[39m \u001b[43m\u001b[49m\u001b[43m)\u001b[49m\n",
            "\u001b[36mFile \u001b[39m\u001b[32m~/miniconda3/envs/shell_ai/lib/python3.13/site-packages/torch/autograd/__init__.py:353\u001b[39m, in \u001b[36mbackward\u001b[39m\u001b[34m(tensors, grad_tensors, retain_graph, create_graph, grad_variables, inputs)\u001b[39m\n\u001b[32m    348\u001b[39m     retain_graph = create_graph\n\u001b[32m    350\u001b[39m \u001b[38;5;66;03m# The reason we repeat the same comment below is that\u001b[39;00m\n\u001b[32m    351\u001b[39m \u001b[38;5;66;03m# some Python versions print out the first line of a multi-line function\u001b[39;00m\n\u001b[32m    352\u001b[39m \u001b[38;5;66;03m# calls in the traceback and some print out the last line\u001b[39;00m\n\u001b[32m--> \u001b[39m\u001b[32m353\u001b[39m \u001b[43m_engine_run_backward\u001b[49m\u001b[43m(\u001b[49m\n\u001b[32m    354\u001b[39m \u001b[43m    \u001b[49m\u001b[43mtensors\u001b[49m\u001b[43m,\u001b[49m\n\u001b[32m    355\u001b[39m \u001b[43m    \u001b[49m\u001b[43mgrad_tensors_\u001b[49m\u001b[43m,\u001b[49m\n\u001b[32m    356\u001b[39m \u001b[43m    \u001b[49m\u001b[43mretain_graph\u001b[49m\u001b[43m,\u001b[49m\n\u001b[32m    357\u001b[39m \u001b[43m    \u001b[49m\u001b[43mcreate_graph\u001b[49m\u001b[43m,\u001b[49m\n\u001b[32m    358\u001b[39m \u001b[43m    \u001b[49m\u001b[43minputs\u001b[49m\u001b[43m,\u001b[49m\n\u001b[32m    359\u001b[39m \u001b[43m    \u001b[49m\u001b[43mallow_unreachable\u001b[49m\u001b[43m=\u001b[49m\u001b[38;5;28;43;01mTrue\u001b[39;49;00m\u001b[43m,\u001b[49m\n\u001b[32m    360\u001b[39m \u001b[43m    \u001b[49m\u001b[43maccumulate_grad\u001b[49m\u001b[43m=\u001b[49m\u001b[38;5;28;43;01mTrue\u001b[39;49;00m\u001b[43m,\u001b[49m\n\u001b[32m    361\u001b[39m \u001b[43m\u001b[49m\u001b[43m)\u001b[49m\n",
            "\u001b[36mFile \u001b[39m\u001b[32m~/miniconda3/envs/shell_ai/lib/python3.13/site-packages/torch/autograd/graph.py:824\u001b[39m, in \u001b[36m_engine_run_backward\u001b[39m\u001b[34m(t_outputs, *args, **kwargs)\u001b[39m\n\u001b[32m    822\u001b[39m     unregister_hooks = _register_logging_hooks_on_whole_graph(t_outputs)\n\u001b[32m    823\u001b[39m \u001b[38;5;28;01mtry\u001b[39;00m:\n\u001b[32m--> \u001b[39m\u001b[32m824\u001b[39m     \u001b[38;5;28;01mreturn\u001b[39;00m \u001b[43mVariable\u001b[49m\u001b[43m.\u001b[49m\u001b[43m_execution_engine\u001b[49m\u001b[43m.\u001b[49m\u001b[43mrun_backward\u001b[49m\u001b[43m(\u001b[49m\u001b[43m  \u001b[49m\u001b[38;5;66;43;03m# Calls into the C++ engine to run the backward pass\u001b[39;49;00m\n\u001b[32m    825\u001b[39m \u001b[43m        \u001b[49m\u001b[43mt_outputs\u001b[49m\u001b[43m,\u001b[49m\u001b[43m \u001b[49m\u001b[43m*\u001b[49m\u001b[43margs\u001b[49m\u001b[43m,\u001b[49m\u001b[43m \u001b[49m\u001b[43m*\u001b[49m\u001b[43m*\u001b[49m\u001b[43mkwargs\u001b[49m\n\u001b[32m    826\u001b[39m \u001b[43m    \u001b[49m\u001b[43m)\u001b[49m  \u001b[38;5;66;03m# Calls into the C++ engine to run the backward pass\u001b[39;00m\n\u001b[32m    827\u001b[39m \u001b[38;5;28;01mfinally\u001b[39;00m:\n\u001b[32m    828\u001b[39m     \u001b[38;5;28;01mif\u001b[39;00m attach_logging_hooks:\n",
            "\u001b[31mKeyboardInterrupt\u001b[39m: "
          ]
        }
      ],
      "source": [
        "for target_col in tqdm([64, 59, 55, 56, 57, 58, 60, 62]):\n",
        "    def objective(trial):\n",
        "        return apply_tabm_cv(trial, df_train, df_test_pred, feature_cols, target_col)\n",
        "\n",
        "    study = optuna.create_study(sampler=TPESampler(), direction='maximize')\n",
        "    study.optimize(objective, n_trials=100)\n",
        "    \n",
        "    studies.append(study)\n",
        "    map_hparams = study.best_params\n",
        "    map_hparams['Target'] = f'BlendProperty{target_col - 55 + 1}'\n",
        "    map_hparams['Score'] = study.best_value\n",
        "    map_hparams['Best trial'] = study.best_trial.number\n",
        "    df_cur_best = pd.DataFrame([map_hparams])\n",
        "    df_best_hparams = pd.concat([df_best_hparams, df_cur_best])\n",
        "    os.makedirs('./optuna/tabm_cv', exist_ok=True)\n",
        "    df_best_hparams.to_csv('./optuna/tabm_cv/hparams_cv_v2.csv')"
      ]
    },
    {
      "cell_type": "code",
      "execution_count": null,
      "metadata": {},
      "outputs": [],
      "source": [
        "study.best_value"
      ]
    },
    {
      "cell_type": "code",
      "execution_count": null,
      "metadata": {},
      "outputs": [],
      "source": [
        "map_hparams = studies[0].best_params\n",
        "map_hparams['Target'] = \"blend\"\n",
        "\n",
        "map_hparams"
      ]
    },
    {
      "cell_type": "code",
      "execution_count": null,
      "metadata": {},
      "outputs": [],
      "source": [
        "# df1 = pd.DataFrame([studies[0].best_params])\n",
        "# df2 = pd.DataFrame([studies[0].best_params])\n",
        "\n",
        "# pd.concat([df1, df2])"
      ]
    },
    {
      "cell_type": "code",
      "execution_count": null,
      "metadata": {},
      "outputs": [],
      "source": [
        "# for i in range(1, 10 + 1):\n",
        "#     df = pd.read_csv(f'./from_BRACU_HPC/submission_tabm_test{i}.csv')\n",
        "#     df_submission[f'BlendProperty{i}'] = df[f'BlendProperty{i}']\n",
        "\n",
        "# df_submission.to_csv(f'./from_BRACU_HPC/submission_tabm_test_all.csv', index=False)"
      ]
    },
    {
      "cell_type": "code",
      "execution_count": null,
      "metadata": {},
      "outputs": [],
      "source": [
        "from plotly.io import show"
      ]
    },
    {
      "cell_type": "code",
      "execution_count": null,
      "metadata": {},
      "outputs": [],
      "source": [
        "# d_block, n_block, lr, d_embedding, n_bins, weight_decay\n",
        "study = studies[9]\n",
        "# optuna.visualization.plot_optimization_history(study)\n",
        "optuna.visualization.plot_param_importances(study)"
      ]
    },
    {
      "cell_type": "code",
      "execution_count": null,
      "metadata": {},
      "outputs": [],
      "source": [
        "optuna.visualization.plot_contour(study, params=['lr', 'n_bins'])"
      ]
    },
    {
      "cell_type": "code",
      "execution_count": null,
      "metadata": {},
      "outputs": [],
      "source": [
        "optuna.visualization.plot_contour(study, params=['lr', 'weight_decay'])"
      ]
    },
    {
      "cell_type": "code",
      "execution_count": null,
      "metadata": {},
      "outputs": [],
      "source": []
    },
    {
      "cell_type": "code",
      "execution_count": null,
      "metadata": {},
      "outputs": [],
      "source": []
    },
    {
      "cell_type": "code",
      "execution_count": null,
      "metadata": {},
      "outputs": [],
      "source": []
    },
    {
      "cell_type": "code",
      "execution_count": null,
      "metadata": {},
      "outputs": [],
      "source": []
    }
  ],
  "metadata": {
    "colab": {
      "provenance": []
    },
    "kernelspec": {
      "display_name": "shell_ai",
      "language": "python",
      "name": "python3"
    },
    "language_info": {
      "codemirror_mode": {
        "name": "ipython",
        "version": 3
      },
      "file_extension": ".py",
      "mimetype": "text/x-python",
      "name": "python",
      "nbconvert_exporter": "python",
      "pygments_lexer": "ipython3",
      "version": "3.13.5"
    }
  },
  "nbformat": 4,
  "nbformat_minor": 0
}
